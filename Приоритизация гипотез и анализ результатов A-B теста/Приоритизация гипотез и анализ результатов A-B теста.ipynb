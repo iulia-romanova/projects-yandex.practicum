{
 "cells": [
  {
   "cell_type": "markdown",
   "metadata": {},
   "source": [
    "# Приоритизация гипотез и анализ результатов A/B теста"
   ]
  },
  {
   "cell_type": "markdown",
   "metadata": {},
   "source": [
    "В наличии имеется подготовленный список гипотез для увеличения выручки.\n",
    "\n",
    "**Цель проекта:**\n",
    "\n",
    "Приоритизировать гипотезы, запустить A/B-тест и проанализирвать результаты.\n"
   ]
  },
  {
   "cell_type": "markdown",
   "metadata": {},
   "source": [
    "##  Изучение и подготовка общей информации. "
   ]
  },
  {
   "cell_type": "markdown",
   "metadata": {},
   "source": [
    "Импортируем данные. Изучим общую информацию в таблицах и проверим корректность данных."
   ]
  },
  {
   "cell_type": "code",
   "execution_count": 1,
   "metadata": {},
   "outputs": [
    {
     "name": "stdout",
     "output_type": "stream",
     "text": [
      "Requirement already satisfied: plotly in c:\\programdata\\anaconda3\\lib\\site-packages (5.5.0)\n",
      "Requirement already satisfied: six in c:\\programdata\\anaconda3\\lib\\site-packages (from plotly) (1.15.0)\n",
      "Requirement already satisfied: tenacity>=6.2.0 in c:\\programdata\\anaconda3\\lib\\site-packages (from plotly) (8.0.1)\n",
      "Requirement already satisfied: statsmodels in c:\\programdata\\anaconda3\\lib\\site-packages (0.12.2)\n",
      "Collecting statsmodels\n",
      "  Using cached statsmodels-0.13.2-cp38-cp38-win_amd64.whl (9.1 MB)\n",
      "Requirement already satisfied: pandas>=0.25 in c:\\programdata\\anaconda3\\lib\\site-packages (from statsmodels) (1.2.4)\n",
      "Collecting patsy>=0.5.2\n",
      "  Using cached patsy-0.5.2-py2.py3-none-any.whl (233 kB)\n",
      "Requirement already satisfied: numpy>=1.17 in c:\\programdata\\anaconda3\\lib\\site-packages (from statsmodels) (1.20.1)\n",
      "Requirement already satisfied: scipy>=1.3 in c:\\programdata\\anaconda3\\lib\\site-packages (from statsmodels) (1.6.2)\n",
      "Collecting packaging>=21.3\n",
      "  Using cached packaging-21.3-py3-none-any.whl (40 kB)\n",
      "Requirement already satisfied: pyparsing!=3.0.5,>=2.0.2 in c:\\programdata\\anaconda3\\lib\\site-packages (from packaging>=21.3->statsmodels) (2.4.7)\n",
      "Requirement already satisfied: python-dateutil>=2.7.3 in c:\\programdata\\anaconda3\\lib\\site-packages (from pandas>=0.25->statsmodels) (2.8.1)\n",
      "Requirement already satisfied: pytz>=2017.3 in c:\\programdata\\anaconda3\\lib\\site-packages (from pandas>=0.25->statsmodels) (2021.1)\n",
      "Requirement already satisfied: six in c:\\programdata\\anaconda3\\lib\\site-packages (from patsy>=0.5.2->statsmodels) (1.15.0)\n",
      "Installing collected packages: patsy, packaging, statsmodels\n",
      "  Attempting uninstall: patsy\n",
      "    Found existing installation: patsy 0.5.1\n",
      "    Uninstalling patsy-0.5.1:\n"
     ]
    },
    {
     "name": "stderr",
     "output_type": "stream",
     "text": [
      "ERROR: Could not install packages due to an OSError: [WinError 5] Отказано в доступе: 'c:\\\\programdata\\\\anaconda3\\\\lib\\\\site-packages\\\\patsy\\\\build.py'\n",
      "Consider using the `--user` option or check the permissions.\n",
      "\n"
     ]
    }
   ],
   "source": [
    "!pip install plotly -U\n",
    "!pip install statsmodels -U"
   ]
  },
  {
   "cell_type": "code",
   "execution_count": 2,
   "metadata": {},
   "outputs": [
    {
     "data": {
      "text/html": [
       "        <script type=\"text/javascript\">\n",
       "        window.PlotlyConfig = {MathJaxConfig: 'local'};\n",
       "        if (window.MathJax) {MathJax.Hub.Config({SVG: {font: \"STIX-Web\"}});}\n",
       "        if (typeof require !== 'undefined') {\n",
       "        require.undef(\"plotly\");\n",
       "        requirejs.config({\n",
       "            paths: {\n",
       "                'plotly': ['https://cdn.plot.ly/plotly-2.8.3.min']\n",
       "            }\n",
       "        });\n",
       "        require(['plotly'], function(Plotly) {\n",
       "            window._Plotly = Plotly;\n",
       "        });\n",
       "        }\n",
       "        </script>\n",
       "        "
      ]
     },
     "metadata": {},
     "output_type": "display_data"
    }
   ],
   "source": [
    "import pandas as pd\n",
    "import numpy as np\n",
    "import scipy.stats as stats\n",
    "import matplotlib.pyplot as plt\n",
    "import warnings\n",
    "import datetime\n",
    "warnings.filterwarnings('ignore')\n",
    "import seaborn as sns\n",
    "import pylab\n",
    "import plotly.graph_objects as go\n",
    "import plotly.express  as  px\n",
    "from plotly.offline import download_plotlyjs, init_notebook_mode, plot, iplot\n",
    "import plotly.graph_objs as go\n",
    "import matplotlib.dates as mdates\n",
    "\n",
    "init_notebook_mode(connected=True)\n",
    "pd.set_option('display.max_colwidth', -1)"
   ]
  },
  {
   "cell_type": "code",
   "execution_count": 3,
   "metadata": {},
   "outputs": [],
   "source": [
    "# откроем файлы с данными используя конструкцию try-except\n",
    "server_path = '/datasets/hypothesis.csv'\n",
    "filename = 'hypothesis.csv'\n",
    "try:\n",
    "    hypothesis = pd.read_csv(server_path)\n",
    "except:\n",
    "    hypothesis = pd.read_csv(filename)\n",
    "    \n",
    "server_path = '/datasets/orders.csv'\n",
    "filename = 'orders.csv'\n",
    "try:\n",
    "    orders = pd.read_csv(server_path)\n",
    "except:\n",
    "    orders = pd.read_csv(filename)\n",
    "    \n",
    "server_path = '/datasets/visitors.csv'\n",
    "filename = 'visitors.csv'\n",
    "try:\n",
    "    visitors = pd.read_csv(server_path)\n",
    "except:\n",
    "    visitors = pd.read_csv(filename)"
   ]
  },
  {
   "cell_type": "code",
   "execution_count": 4,
   "metadata": {},
   "outputs": [
    {
     "data": {
      "text/html": [
       "<div>\n",
       "<style scoped>\n",
       "    .dataframe tbody tr th:only-of-type {\n",
       "        vertical-align: middle;\n",
       "    }\n",
       "\n",
       "    .dataframe tbody tr th {\n",
       "        vertical-align: top;\n",
       "    }\n",
       "\n",
       "    .dataframe thead th {\n",
       "        text-align: right;\n",
       "    }\n",
       "</style>\n",
       "<table border=\"1\" class=\"dataframe\">\n",
       "  <thead>\n",
       "    <tr style=\"text-align: right;\">\n",
       "      <th></th>\n",
       "      <th>Hypothesis</th>\n",
       "      <th>Reach</th>\n",
       "      <th>Impact</th>\n",
       "      <th>Confidence</th>\n",
       "      <th>Efforts</th>\n",
       "    </tr>\n",
       "  </thead>\n",
       "  <tbody>\n",
       "    <tr>\n",
       "      <th>0</th>\n",
       "      <td>Добавить два новых канала привлечения трафика, что позволит привлекать на 30% больше пользователей</td>\n",
       "      <td>3</td>\n",
       "      <td>10</td>\n",
       "      <td>8</td>\n",
       "      <td>6</td>\n",
       "    </tr>\n",
       "    <tr>\n",
       "      <th>1</th>\n",
       "      <td>Запустить собственную службу доставки, что сократит срок доставки заказов</td>\n",
       "      <td>2</td>\n",
       "      <td>5</td>\n",
       "      <td>4</td>\n",
       "      <td>10</td>\n",
       "    </tr>\n",
       "    <tr>\n",
       "      <th>2</th>\n",
       "      <td>Добавить блоки рекомендаций товаров на сайт интернет магазина, чтобы повысить конверсию и средний чек заказа</td>\n",
       "      <td>8</td>\n",
       "      <td>3</td>\n",
       "      <td>7</td>\n",
       "      <td>3</td>\n",
       "    </tr>\n",
       "    <tr>\n",
       "      <th>3</th>\n",
       "      <td>Изменить структура категорий, что увеличит конверсию, т.к. пользователи быстрее найдут нужный товар</td>\n",
       "      <td>8</td>\n",
       "      <td>3</td>\n",
       "      <td>3</td>\n",
       "      <td>8</td>\n",
       "    </tr>\n",
       "    <tr>\n",
       "      <th>4</th>\n",
       "      <td>Изменить цвет фона главной страницы, чтобы увеличить вовлеченность пользователей</td>\n",
       "      <td>3</td>\n",
       "      <td>1</td>\n",
       "      <td>1</td>\n",
       "      <td>1</td>\n",
       "    </tr>\n",
       "  </tbody>\n",
       "</table>\n",
       "</div>"
      ],
      "text/plain": [
       "                                                                                                     Hypothesis  \\\n",
       "0  Добавить два новых канала привлечения трафика, что позволит привлекать на 30% больше пользователей             \n",
       "1  Запустить собственную службу доставки, что сократит срок доставки заказов                                      \n",
       "2  Добавить блоки рекомендаций товаров на сайт интернет магазина, чтобы повысить конверсию и средний чек заказа   \n",
       "3  Изменить структура категорий, что увеличит конверсию, т.к. пользователи быстрее найдут нужный товар            \n",
       "4  Изменить цвет фона главной страницы, чтобы увеличить вовлеченность пользователей                               \n",
       "\n",
       "   Reach  Impact  Confidence  Efforts  \n",
       "0  3      10      8           6        \n",
       "1  2      5       4           10       \n",
       "2  8      3       7           3        \n",
       "3  8      3       3           8        \n",
       "4  3      1       1           1        "
      ]
     },
     "execution_count": 4,
     "metadata": {},
     "output_type": "execute_result"
    }
   ],
   "source": [
    "hypothesis.head()"
   ]
  },
  {
   "cell_type": "code",
   "execution_count": 5,
   "metadata": {},
   "outputs": [
    {
     "name": "stdout",
     "output_type": "stream",
     "text": [
      "<class 'pandas.core.frame.DataFrame'>\n",
      "RangeIndex: 9 entries, 0 to 8\n",
      "Data columns (total 5 columns):\n",
      " #   Column      Non-Null Count  Dtype \n",
      "---  ------      --------------  ----- \n",
      " 0   Hypothesis  9 non-null      object\n",
      " 1   Reach       9 non-null      int64 \n",
      " 2   Impact      9 non-null      int64 \n",
      " 3   Confidence  9 non-null      int64 \n",
      " 4   Efforts     9 non-null      int64 \n",
      "dtypes: int64(4), object(1)\n",
      "memory usage: 488.0+ bytes\n"
     ]
    }
   ],
   "source": [
    "hypothesis.info()"
   ]
  },
  {
   "cell_type": "markdown",
   "metadata": {},
   "source": [
    "Таблица **hypothesis** содержит 5 столбцов с информацией:\n",
    "\n",
    "**Hypothesis** — краткое описание гипотезы (тип object)\n",
    "\n",
    "**Reach** — охват пользователей по 10-балльной шкале (тип int64)\n",
    "\n",
    "**Impact** - влияние на пользователей по 10-балльной шкале (тип int64)\n",
    "\n",
    "**Confidence** — уверенность в гипотезе по 10-балльной шкале (тип object)\n",
    "\n",
    "**Efforts** — затраты ресурсов на проверку гипотезы по 10-балльной шкале (тип uint64)\n",
    "\n",
    "Пропущенных данных в таблице нет. Во всех названиях столбцов содержатся буквы разного регистра, что может создать некоторые неудобства при дальнейшей обработке. \n"
   ]
  },
  {
   "cell_type": "code",
   "execution_count": 6,
   "metadata": {},
   "outputs": [
    {
     "data": {
      "text/html": [
       "<div>\n",
       "<style scoped>\n",
       "    .dataframe tbody tr th:only-of-type {\n",
       "        vertical-align: middle;\n",
       "    }\n",
       "\n",
       "    .dataframe tbody tr th {\n",
       "        vertical-align: top;\n",
       "    }\n",
       "\n",
       "    .dataframe thead th {\n",
       "        text-align: right;\n",
       "    }\n",
       "</style>\n",
       "<table border=\"1\" class=\"dataframe\">\n",
       "  <thead>\n",
       "    <tr style=\"text-align: right;\">\n",
       "      <th></th>\n",
       "      <th>hypothesis</th>\n",
       "      <th>reach</th>\n",
       "      <th>impact</th>\n",
       "      <th>confidence</th>\n",
       "      <th>efforts</th>\n",
       "    </tr>\n",
       "  </thead>\n",
       "  <tbody>\n",
       "    <tr>\n",
       "      <th>0</th>\n",
       "      <td>Добавить два новых канала привлечения трафика, что позволит привлекать на 30% больше пользователей</td>\n",
       "      <td>3</td>\n",
       "      <td>10</td>\n",
       "      <td>8</td>\n",
       "      <td>6</td>\n",
       "    </tr>\n",
       "    <tr>\n",
       "      <th>1</th>\n",
       "      <td>Запустить собственную службу доставки, что сократит срок доставки заказов</td>\n",
       "      <td>2</td>\n",
       "      <td>5</td>\n",
       "      <td>4</td>\n",
       "      <td>10</td>\n",
       "    </tr>\n",
       "    <tr>\n",
       "      <th>2</th>\n",
       "      <td>Добавить блоки рекомендаций товаров на сайт интернет магазина, чтобы повысить конверсию и средний чек заказа</td>\n",
       "      <td>8</td>\n",
       "      <td>3</td>\n",
       "      <td>7</td>\n",
       "      <td>3</td>\n",
       "    </tr>\n",
       "    <tr>\n",
       "      <th>3</th>\n",
       "      <td>Изменить структура категорий, что увеличит конверсию, т.к. пользователи быстрее найдут нужный товар</td>\n",
       "      <td>8</td>\n",
       "      <td>3</td>\n",
       "      <td>3</td>\n",
       "      <td>8</td>\n",
       "    </tr>\n",
       "    <tr>\n",
       "      <th>4</th>\n",
       "      <td>Изменить цвет фона главной страницы, чтобы увеличить вовлеченность пользователей</td>\n",
       "      <td>3</td>\n",
       "      <td>1</td>\n",
       "      <td>1</td>\n",
       "      <td>1</td>\n",
       "    </tr>\n",
       "  </tbody>\n",
       "</table>\n",
       "</div>"
      ],
      "text/plain": [
       "                                                                                                     hypothesis  \\\n",
       "0  Добавить два новых канала привлечения трафика, что позволит привлекать на 30% больше пользователей             \n",
       "1  Запустить собственную службу доставки, что сократит срок доставки заказов                                      \n",
       "2  Добавить блоки рекомендаций товаров на сайт интернет магазина, чтобы повысить конверсию и средний чек заказа   \n",
       "3  Изменить структура категорий, что увеличит конверсию, т.к. пользователи быстрее найдут нужный товар            \n",
       "4  Изменить цвет фона главной страницы, чтобы увеличить вовлеченность пользователей                               \n",
       "\n",
       "   reach  impact  confidence  efforts  \n",
       "0  3      10      8           6        \n",
       "1  2      5       4           10       \n",
       "2  8      3       7           3        \n",
       "3  8      3       3           8        \n",
       "4  3      1       1           1        "
      ]
     },
     "execution_count": 6,
     "metadata": {},
     "output_type": "execute_result"
    }
   ],
   "source": [
    "# приведем все названия к нижнему регистру, используя метод lower().\n",
    "hypothesis.columns = hypothesis.columns.str.lower()\n",
    "hypothesis.head()"
   ]
  },
  {
   "cell_type": "code",
   "execution_count": 7,
   "metadata": {},
   "outputs": [
    {
     "data": {
      "text/html": [
       "<div>\n",
       "<style scoped>\n",
       "    .dataframe tbody tr th:only-of-type {\n",
       "        vertical-align: middle;\n",
       "    }\n",
       "\n",
       "    .dataframe tbody tr th {\n",
       "        vertical-align: top;\n",
       "    }\n",
       "\n",
       "    .dataframe thead th {\n",
       "        text-align: right;\n",
       "    }\n",
       "</style>\n",
       "<table border=\"1\" class=\"dataframe\">\n",
       "  <thead>\n",
       "    <tr style=\"text-align: right;\">\n",
       "      <th></th>\n",
       "      <th>transactionId</th>\n",
       "      <th>visitorId</th>\n",
       "      <th>date</th>\n",
       "      <th>revenue</th>\n",
       "      <th>group</th>\n",
       "    </tr>\n",
       "  </thead>\n",
       "  <tbody>\n",
       "    <tr>\n",
       "      <th>0</th>\n",
       "      <td>3667963787</td>\n",
       "      <td>3312258926</td>\n",
       "      <td>2019-08-15</td>\n",
       "      <td>1650</td>\n",
       "      <td>B</td>\n",
       "    </tr>\n",
       "    <tr>\n",
       "      <th>1</th>\n",
       "      <td>2804400009</td>\n",
       "      <td>3642806036</td>\n",
       "      <td>2019-08-15</td>\n",
       "      <td>730</td>\n",
       "      <td>B</td>\n",
       "    </tr>\n",
       "    <tr>\n",
       "      <th>2</th>\n",
       "      <td>2961555356</td>\n",
       "      <td>4069496402</td>\n",
       "      <td>2019-08-15</td>\n",
       "      <td>400</td>\n",
       "      <td>A</td>\n",
       "    </tr>\n",
       "    <tr>\n",
       "      <th>3</th>\n",
       "      <td>3797467345</td>\n",
       "      <td>1196621759</td>\n",
       "      <td>2019-08-15</td>\n",
       "      <td>9759</td>\n",
       "      <td>B</td>\n",
       "    </tr>\n",
       "    <tr>\n",
       "      <th>4</th>\n",
       "      <td>2282983706</td>\n",
       "      <td>2322279887</td>\n",
       "      <td>2019-08-15</td>\n",
       "      <td>2308</td>\n",
       "      <td>B</td>\n",
       "    </tr>\n",
       "  </tbody>\n",
       "</table>\n",
       "</div>"
      ],
      "text/plain": [
       "   transactionId   visitorId        date  revenue group\n",
       "0  3667963787     3312258926  2019-08-15  1650     B   \n",
       "1  2804400009     3642806036  2019-08-15  730      B   \n",
       "2  2961555356     4069496402  2019-08-15  400      A   \n",
       "3  3797467345     1196621759  2019-08-15  9759     B   \n",
       "4  2282983706     2322279887  2019-08-15  2308     B   "
      ]
     },
     "execution_count": 7,
     "metadata": {},
     "output_type": "execute_result"
    }
   ],
   "source": [
    "orders.head()"
   ]
  },
  {
   "cell_type": "code",
   "execution_count": 8,
   "metadata": {},
   "outputs": [
    {
     "name": "stdout",
     "output_type": "stream",
     "text": [
      "<class 'pandas.core.frame.DataFrame'>\n",
      "RangeIndex: 1197 entries, 0 to 1196\n",
      "Data columns (total 5 columns):\n",
      " #   Column         Non-Null Count  Dtype \n",
      "---  ------         --------------  ----- \n",
      " 0   transactionId  1197 non-null   int64 \n",
      " 1   visitorId      1197 non-null   int64 \n",
      " 2   date           1197 non-null   object\n",
      " 3   revenue        1197 non-null   int64 \n",
      " 4   group          1197 non-null   object\n",
      "dtypes: int64(3), object(2)\n",
      "memory usage: 46.9+ KB\n"
     ]
    }
   ],
   "source": [
    "orders.info()"
   ]
  },
  {
   "cell_type": "markdown",
   "metadata": {},
   "source": [
    "Таблица **orders** содержит пять столбцов с информацией:\n",
    "\n",
    "**transactionId** — идентификатор заказа (тип int64)\n",
    "\n",
    "**visitorId** — идентификатор пользователя, совершившего заказ (тип int64)\n",
    "\n",
    "**date** - дата, когда был совершён заказ (тип object)\n",
    "\n",
    "**revenue** — выручка заказа (тип int64)\n",
    "\n",
    "**group** — группа A/B-теста, в которую попал заказ (тип object)\n",
    "\n",
    "Пропущенных данных в таблице нет. В столбце **date** содержтся данные о дате и времени, а тип данных object.  \n"
   ]
  },
  {
   "cell_type": "code",
   "execution_count": 9,
   "metadata": {},
   "outputs": [],
   "source": [
    "orders['date'] = pd.to_datetime(orders['date'])"
   ]
  },
  {
   "cell_type": "code",
   "execution_count": 10,
   "metadata": {},
   "outputs": [],
   "source": [
    "# Изменим названия столбцов для удобства\n",
    "orders.rename(columns = lambda x: x.replace('transactionId','transaction_id'), inplace=True)\n",
    "orders.rename(columns = lambda x: x.replace('visitorId','visitor_id'), inplace=True)"
   ]
  },
  {
   "cell_type": "code",
   "execution_count": 11,
   "metadata": {},
   "outputs": [
    {
     "name": "stdout",
     "output_type": "stream",
     "text": [
      "<class 'pandas.core.frame.DataFrame'>\n",
      "RangeIndex: 62 entries, 0 to 61\n",
      "Data columns (total 3 columns):\n",
      " #   Column    Non-Null Count  Dtype \n",
      "---  ------    --------------  ----- \n",
      " 0   date      62 non-null     object\n",
      " 1   group     62 non-null     object\n",
      " 2   visitors  62 non-null     int64 \n",
      "dtypes: int64(1), object(2)\n",
      "memory usage: 1.6+ KB\n"
     ]
    }
   ],
   "source": [
    "visitors.info()"
   ]
  },
  {
   "cell_type": "code",
   "execution_count": 12,
   "metadata": {},
   "outputs": [
    {
     "data": {
      "text/html": [
       "<div>\n",
       "<style scoped>\n",
       "    .dataframe tbody tr th:only-of-type {\n",
       "        vertical-align: middle;\n",
       "    }\n",
       "\n",
       "    .dataframe tbody tr th {\n",
       "        vertical-align: top;\n",
       "    }\n",
       "\n",
       "    .dataframe thead th {\n",
       "        text-align: right;\n",
       "    }\n",
       "</style>\n",
       "<table border=\"1\" class=\"dataframe\">\n",
       "  <thead>\n",
       "    <tr style=\"text-align: right;\">\n",
       "      <th></th>\n",
       "      <th>date</th>\n",
       "      <th>group</th>\n",
       "      <th>visitors</th>\n",
       "    </tr>\n",
       "  </thead>\n",
       "  <tbody>\n",
       "    <tr>\n",
       "      <th>0</th>\n",
       "      <td>2019-08-01</td>\n",
       "      <td>A</td>\n",
       "      <td>719</td>\n",
       "    </tr>\n",
       "    <tr>\n",
       "      <th>1</th>\n",
       "      <td>2019-08-02</td>\n",
       "      <td>A</td>\n",
       "      <td>619</td>\n",
       "    </tr>\n",
       "    <tr>\n",
       "      <th>2</th>\n",
       "      <td>2019-08-03</td>\n",
       "      <td>A</td>\n",
       "      <td>507</td>\n",
       "    </tr>\n",
       "    <tr>\n",
       "      <th>3</th>\n",
       "      <td>2019-08-04</td>\n",
       "      <td>A</td>\n",
       "      <td>717</td>\n",
       "    </tr>\n",
       "    <tr>\n",
       "      <th>4</th>\n",
       "      <td>2019-08-05</td>\n",
       "      <td>A</td>\n",
       "      <td>756</td>\n",
       "    </tr>\n",
       "  </tbody>\n",
       "</table>\n",
       "</div>"
      ],
      "text/plain": [
       "         date group  visitors\n",
       "0  2019-08-01  A     719     \n",
       "1  2019-08-02  A     619     \n",
       "2  2019-08-03  A     507     \n",
       "3  2019-08-04  A     717     \n",
       "4  2019-08-05  A     756     "
      ]
     },
     "execution_count": 12,
     "metadata": {},
     "output_type": "execute_result"
    }
   ],
   "source": [
    "visitors.head()"
   ]
  },
  {
   "cell_type": "markdown",
   "metadata": {},
   "source": [
    "Таблица **visitors** содержит три столбца с информацией:\n",
    "\n",
    "**date** — дата (тип object)\n",
    "\n",
    "**group** - группа A/B-теста (тип object)\n",
    "\n",
    "**visitors** — количество пользователей в указанную дату в указанной группе A/B-теста (тип int64)\n",
    "\n",
    "Пропущенных данных в таблице нет. В столбце **date** содержтся данные о дате и времени, а тип данных object. Во всех названиях столбцов содержатся буквы одинакового регистра, замену регистра производить не нужно."
   ]
  },
  {
   "cell_type": "code",
   "execution_count": 13,
   "metadata": {},
   "outputs": [],
   "source": [
    "visitors['date'] = pd.to_datetime(visitors['date'])"
   ]
  },
  {
   "cell_type": "markdown",
   "metadata": {},
   "source": [
    "Проведем проверку данных на наличие дубликатов, используя метод duplicated()"
   ]
  },
  {
   "cell_type": "code",
   "execution_count": 14,
   "metadata": {
    "scrolled": true
   },
   "outputs": [
    {
     "name": "stdout",
     "output_type": "stream",
     "text": [
      "Количество дубликатов в таблице hypothesis: 0\n",
      "Количество дубликатов в таблице orders: 0\n",
      "Количество дубликатов в таблице visitors: 0\n"
     ]
    }
   ],
   "source": [
    "print('Количество дубликатов в таблице hypothesis:', hypothesis.duplicated().sum())\n",
    "print('Количество дубликатов в таблице orders:', orders.duplicated().sum())\n",
    "print('Количество дубликатов в таблице visitors:', visitors.duplicated().sum())"
   ]
  },
  {
   "cell_type": "markdown",
   "metadata": {},
   "source": [
    "Проверим, есть ли у нас пользователи, которые попали в две группы А/В-теста одновременно."
   ]
  },
  {
   "cell_type": "code",
   "execution_count": 15,
   "metadata": {},
   "outputs": [
    {
     "name": "stdout",
     "output_type": "stream",
     "text": [
      "Количество уникальных пользователей, попавших в две группы: 58\n"
     ]
    }
   ],
   "source": [
    "user_A = orders.query('group == \"A\"')['visitor_id'].unique()\n",
    "user_B = orders.query('group == \"B\"')['visitor_id'].unique()\n",
    "\n",
    "user_A_B = set(user_A).intersection(set(user_B))\n",
    "print('Количество уникальных пользователей, попавших в две группы:', len(user_A_B))\n",
    "#user_A_B\n"
   ]
  },
  {
   "cell_type": "markdown",
   "metadata": {},
   "source": [
    "Сформируем таблицу пользователей, попавших в две группы одновременно."
   ]
  },
  {
   "cell_type": "code",
   "execution_count": 16,
   "metadata": {},
   "outputs": [
    {
     "data": {
      "text/html": [
       "<div>\n",
       "<style scoped>\n",
       "    .dataframe tbody tr th:only-of-type {\n",
       "        vertical-align: middle;\n",
       "    }\n",
       "\n",
       "    .dataframe tbody tr th {\n",
       "        vertical-align: top;\n",
       "    }\n",
       "\n",
       "    .dataframe thead th {\n",
       "        text-align: right;\n",
       "    }\n",
       "</style>\n",
       "<table border=\"1\" class=\"dataframe\">\n",
       "  <thead>\n",
       "    <tr style=\"text-align: right;\">\n",
       "      <th></th>\n",
       "      <th>transaction_id</th>\n",
       "      <th>visitor_id</th>\n",
       "      <th>date</th>\n",
       "      <th>revenue</th>\n",
       "      <th>group</th>\n",
       "    </tr>\n",
       "  </thead>\n",
       "  <tbody>\n",
       "    <tr>\n",
       "      <th>2</th>\n",
       "      <td>2961555356</td>\n",
       "      <td>4069496402</td>\n",
       "      <td>2019-08-15</td>\n",
       "      <td>400</td>\n",
       "      <td>A</td>\n",
       "    </tr>\n",
       "    <tr>\n",
       "      <th>20</th>\n",
       "      <td>2904772834</td>\n",
       "      <td>963407295</td>\n",
       "      <td>2019-08-15</td>\n",
       "      <td>300</td>\n",
       "      <td>B</td>\n",
       "    </tr>\n",
       "    <tr>\n",
       "      <th>23</th>\n",
       "      <td>4252514150</td>\n",
       "      <td>351125977</td>\n",
       "      <td>2019-08-15</td>\n",
       "      <td>15185</td>\n",
       "      <td>B</td>\n",
       "    </tr>\n",
       "    <tr>\n",
       "      <th>24</th>\n",
       "      <td>1162046357</td>\n",
       "      <td>3234906277</td>\n",
       "      <td>2019-08-15</td>\n",
       "      <td>7555</td>\n",
       "      <td>B</td>\n",
       "    </tr>\n",
       "    <tr>\n",
       "      <th>26</th>\n",
       "      <td>2223239646</td>\n",
       "      <td>199603092</td>\n",
       "      <td>2019-08-15</td>\n",
       "      <td>3488</td>\n",
       "      <td>A</td>\n",
       "    </tr>\n",
       "  </tbody>\n",
       "</table>\n",
       "</div>"
      ],
      "text/plain": [
       "    transaction_id  visitor_id       date  revenue group\n",
       "2   2961555356      4069496402 2019-08-15  400      A   \n",
       "20  2904772834      963407295  2019-08-15  300      B   \n",
       "23  4252514150      351125977  2019-08-15  15185    B   \n",
       "24  1162046357      3234906277 2019-08-15  7555     B   \n",
       "26  2223239646      199603092  2019-08-15  3488     A   "
      ]
     },
     "execution_count": 16,
     "metadata": {},
     "output_type": "execute_result"
    }
   ],
   "source": [
    "A_B_count = orders.query('visitor_id in @user_A_B')\n",
    "A_B_count.head()\n"
   ]
  },
  {
   "cell_type": "markdown",
   "metadata": {},
   "source": [
    "Посмотрим, сколько сессий у каждого из таких пользователей"
   ]
  },
  {
   "cell_type": "code",
   "execution_count": 17,
   "metadata": {
    "scrolled": true
   },
   "outputs": [
    {
     "data": {
      "text/html": [
       "<div>\n",
       "<style scoped>\n",
       "    .dataframe tbody tr th:only-of-type {\n",
       "        vertical-align: middle;\n",
       "    }\n",
       "\n",
       "    .dataframe tbody tr th {\n",
       "        vertical-align: top;\n",
       "    }\n",
       "\n",
       "    .dataframe thead th {\n",
       "        text-align: right;\n",
       "    }\n",
       "</style>\n",
       "<table border=\"1\" class=\"dataframe\">\n",
       "  <thead>\n",
       "    <tr style=\"text-align: right;\">\n",
       "      <th></th>\n",
       "      <th></th>\n",
       "      <th>transaction_id</th>\n",
       "      <th>revenue</th>\n",
       "    </tr>\n",
       "    <tr>\n",
       "      <th>visitor_id</th>\n",
       "      <th>group</th>\n",
       "      <th></th>\n",
       "      <th></th>\n",
       "    </tr>\n",
       "  </thead>\n",
       "  <tbody>\n",
       "    <tr>\n",
       "      <th rowspan=\"2\" valign=\"top\">8300375</th>\n",
       "      <th>A</th>\n",
       "      <td>1</td>\n",
       "      <td>1790</td>\n",
       "    </tr>\n",
       "    <tr>\n",
       "      <th>B</th>\n",
       "      <td>1</td>\n",
       "      <td>10510</td>\n",
       "    </tr>\n",
       "    <tr>\n",
       "      <th rowspan=\"2\" valign=\"top\">199603092</th>\n",
       "      <th>A</th>\n",
       "      <td>4</td>\n",
       "      <td>19692</td>\n",
       "    </tr>\n",
       "    <tr>\n",
       "      <th>B</th>\n",
       "      <td>1</td>\n",
       "      <td>3488</td>\n",
       "    </tr>\n",
       "    <tr>\n",
       "      <th rowspan=\"2\" valign=\"top\">232979603</th>\n",
       "      <th>A</th>\n",
       "      <td>1</td>\n",
       "      <td>60</td>\n",
       "    </tr>\n",
       "    <tr>\n",
       "      <th>B</th>\n",
       "      <td>1</td>\n",
       "      <td>2640</td>\n",
       "    </tr>\n",
       "    <tr>\n",
       "      <th rowspan=\"2\" valign=\"top\">237748145</th>\n",
       "      <th>A</th>\n",
       "      <td>4</td>\n",
       "      <td>3190</td>\n",
       "    </tr>\n",
       "    <tr>\n",
       "      <th>B</th>\n",
       "      <td>1</td>\n",
       "      <td>7620</td>\n",
       "    </tr>\n",
       "    <tr>\n",
       "      <th rowspan=\"2\" valign=\"top\">276558944</th>\n",
       "      <th>A</th>\n",
       "      <td>1</td>\n",
       "      <td>5050</td>\n",
       "    </tr>\n",
       "    <tr>\n",
       "      <th>B</th>\n",
       "      <td>1</td>\n",
       "      <td>12350</td>\n",
       "    </tr>\n",
       "  </tbody>\n",
       "</table>\n",
       "</div>"
      ],
      "text/plain": [
       "                  transaction_id  revenue\n",
       "visitor_id group                         \n",
       "8300375    A      1               1790   \n",
       "           B      1               10510  \n",
       "199603092  A      4               19692  \n",
       "           B      1               3488   \n",
       "232979603  A      1               60     \n",
       "           B      1               2640   \n",
       "237748145  A      4               3190   \n",
       "           B      1               7620   \n",
       "276558944  A      1               5050   \n",
       "           B      1               12350  "
      ]
     },
     "execution_count": 17,
     "metadata": {},
     "output_type": "execute_result"
    }
   ],
   "source": [
    "grouped_A_B_count = A_B_count.groupby(['visitor_id', 'group'])\n",
    "transaction_id_count = grouped_A_B_count.agg({'transaction_id': pd.Series.count, 'revenue': pd.Series.sum})\n",
    "transaction_id_count.head(10)"
   ]
  },
  {
   "cell_type": "markdown",
   "metadata": {},
   "source": [
    "Есть пользователи, у которых по одной сессии в каждой группе, т.е. всего две сессии, также есть пользователи, у которых более двух сессий."
   ]
  },
  {
   "cell_type": "markdown",
   "metadata": {},
   "source": [
    "Так как в рамках этого A/B теста не пользователей, а сесии разделяли на группы, то проблемы в том, что пользователь попал в обе группы, нет. Просто так вышло, что он совершил несколько сессий, которые определились в разные группы."
   ]
  },
  {
   "cell_type": "markdown",
   "metadata": {},
   "source": [
    "### Вывод"
   ]
  },
  {
   "cell_type": "markdown",
   "metadata": {},
   "source": [
    "Предоставленные таблицы содержат 9 гипотез по увеличению выручки интернет-магазина с указанными параметрами Reach, Impact, Confidence, Effort и полученные результаты A/B-теста. Все таблицы корректно загружены, пропусков не обнаружено. Преобразованы названия полей, а также приведены типы данных, проведена проверка на наличие дубликатов - дубликатов нет. Выявлены пользователи, попавшие в две группы  А\\В-теста. Их оказалось 58."
   ]
  },
  {
   "cell_type": "markdown",
   "metadata": {},
   "source": [
    "## Приоритизация гипотез."
   ]
  },
  {
   "cell_type": "markdown",
   "metadata": {},
   "source": [
    "**Применим фреймворк ICE для приоритизации гипотез, отсортируем их по убыванию приоритета.**"
   ]
  },
  {
   "cell_type": "code",
   "execution_count": 18,
   "metadata": {
    "scrolled": true
   },
   "outputs": [
    {
     "data": {
      "text/html": [
       "<div>\n",
       "<style scoped>\n",
       "    .dataframe tbody tr th:only-of-type {\n",
       "        vertical-align: middle;\n",
       "    }\n",
       "\n",
       "    .dataframe tbody tr th {\n",
       "        vertical-align: top;\n",
       "    }\n",
       "\n",
       "    .dataframe thead th {\n",
       "        text-align: right;\n",
       "    }\n",
       "</style>\n",
       "<table border=\"1\" class=\"dataframe\">\n",
       "  <thead>\n",
       "    <tr style=\"text-align: right;\">\n",
       "      <th></th>\n",
       "      <th>hypothesis</th>\n",
       "      <th>ICE</th>\n",
       "    </tr>\n",
       "  </thead>\n",
       "  <tbody>\n",
       "    <tr>\n",
       "      <th>8</th>\n",
       "      <td>Запустить акцию, дающую скидку на товар в день рождения</td>\n",
       "      <td>16.20</td>\n",
       "    </tr>\n",
       "    <tr>\n",
       "      <th>0</th>\n",
       "      <td>Добавить два новых канала привлечения трафика, что позволит привлекать на 30% больше пользователей</td>\n",
       "      <td>13.33</td>\n",
       "    </tr>\n",
       "    <tr>\n",
       "      <th>7</th>\n",
       "      <td>Добавить форму подписки на все основные страницы, чтобы собрать базу клиентов для email-рассылок</td>\n",
       "      <td>11.20</td>\n",
       "    </tr>\n",
       "    <tr>\n",
       "      <th>6</th>\n",
       "      <td>Показать на главной странице баннеры с актуальными акциями и распродажами, чтобы увеличить конверсию</td>\n",
       "      <td>8.00</td>\n",
       "    </tr>\n",
       "    <tr>\n",
       "      <th>2</th>\n",
       "      <td>Добавить блоки рекомендаций товаров на сайт интернет магазина, чтобы повысить конверсию и средний чек заказа</td>\n",
       "      <td>7.00</td>\n",
       "    </tr>\n",
       "    <tr>\n",
       "      <th>1</th>\n",
       "      <td>Запустить собственную службу доставки, что сократит срок доставки заказов</td>\n",
       "      <td>2.00</td>\n",
       "    </tr>\n",
       "    <tr>\n",
       "      <th>5</th>\n",
       "      <td>Добавить страницу отзывов клиентов о магазине, что позволит увеличить количество заказов</td>\n",
       "      <td>1.33</td>\n",
       "    </tr>\n",
       "    <tr>\n",
       "      <th>3</th>\n",
       "      <td>Изменить структура категорий, что увеличит конверсию, т.к. пользователи быстрее найдут нужный товар</td>\n",
       "      <td>1.12</td>\n",
       "    </tr>\n",
       "    <tr>\n",
       "      <th>4</th>\n",
       "      <td>Изменить цвет фона главной страницы, чтобы увеличить вовлеченность пользователей</td>\n",
       "      <td>1.00</td>\n",
       "    </tr>\n",
       "  </tbody>\n",
       "</table>\n",
       "</div>"
      ],
      "text/plain": [
       "                                                                                                     hypothesis  \\\n",
       "8  Запустить акцию, дающую скидку на товар в день рождения                                                        \n",
       "0  Добавить два новых канала привлечения трафика, что позволит привлекать на 30% больше пользователей             \n",
       "7  Добавить форму подписки на все основные страницы, чтобы собрать базу клиентов для email-рассылок               \n",
       "6  Показать на главной странице баннеры с актуальными акциями и распродажами, чтобы увеличить конверсию           \n",
       "2  Добавить блоки рекомендаций товаров на сайт интернет магазина, чтобы повысить конверсию и средний чек заказа   \n",
       "1  Запустить собственную службу доставки, что сократит срок доставки заказов                                      \n",
       "5  Добавить страницу отзывов клиентов о магазине, что позволит увеличить количество заказов                       \n",
       "3  Изменить структура категорий, что увеличит конверсию, т.к. пользователи быстрее найдут нужный товар            \n",
       "4  Изменить цвет фона главной страницы, чтобы увеличить вовлеченность пользователей                               \n",
       "\n",
       "     ICE  \n",
       "8  16.20  \n",
       "0  13.33  \n",
       "7  11.20  \n",
       "6  8.00   \n",
       "2  7.00   \n",
       "1  2.00   \n",
       "5  1.33   \n",
       "3  1.12   \n",
       "4  1.00   "
      ]
     },
     "execution_count": 18,
     "metadata": {},
     "output_type": "execute_result"
    }
   ],
   "source": [
    "hypothesis['ICE'] = (hypothesis['impact']*hypothesis['confidence'])/hypothesis['efforts']\n",
    "hypothesis_ICE = hypothesis[['hypothesis', 'ICE']].sort_values(by='ICE', ascending=False).round(2)\n",
    "hypothesis_ICE"
   ]
  },
  {
   "cell_type": "markdown",
   "metadata": {},
   "source": [
    "В соответствии с фреймворком **ICE** для приоритизации гипотез, наиболее перспективными являются гипотезы:\n",
    "\n",
    "1) Запустить акцию, дающую скидку на товар в день рождения\n",
    "\n",
    "2) Добавить два новых канала привлечения трафика, что позволит привлекать на 30% больше пользователей\n",
    "\n",
    "3) Добавить форму подписки на все основные страницы, чтобы собрать базу клиентов для email-рассылок\t"
   ]
  },
  {
   "cell_type": "markdown",
   "metadata": {},
   "source": [
    "**Применим фреймворк RICE  для приоритизации гипотез, отсортируем их по убыванию приоритета.**"
   ]
  },
  {
   "cell_type": "code",
   "execution_count": 19,
   "metadata": {
    "scrolled": true
   },
   "outputs": [
    {
     "data": {
      "text/html": [
       "<div>\n",
       "<style scoped>\n",
       "    .dataframe tbody tr th:only-of-type {\n",
       "        vertical-align: middle;\n",
       "    }\n",
       "\n",
       "    .dataframe tbody tr th {\n",
       "        vertical-align: top;\n",
       "    }\n",
       "\n",
       "    .dataframe thead th {\n",
       "        text-align: right;\n",
       "    }\n",
       "</style>\n",
       "<table border=\"1\" class=\"dataframe\">\n",
       "  <thead>\n",
       "    <tr style=\"text-align: right;\">\n",
       "      <th></th>\n",
       "      <th>hypothesis</th>\n",
       "      <th>RICE</th>\n",
       "    </tr>\n",
       "  </thead>\n",
       "  <tbody>\n",
       "    <tr>\n",
       "      <th>7</th>\n",
       "      <td>Добавить форму подписки на все основные страницы, чтобы собрать базу клиентов для email-рассылок</td>\n",
       "      <td>112.0</td>\n",
       "    </tr>\n",
       "    <tr>\n",
       "      <th>2</th>\n",
       "      <td>Добавить блоки рекомендаций товаров на сайт интернет магазина, чтобы повысить конверсию и средний чек заказа</td>\n",
       "      <td>56.0</td>\n",
       "    </tr>\n",
       "    <tr>\n",
       "      <th>0</th>\n",
       "      <td>Добавить два новых канала привлечения трафика, что позволит привлекать на 30% больше пользователей</td>\n",
       "      <td>40.0</td>\n",
       "    </tr>\n",
       "    <tr>\n",
       "      <th>6</th>\n",
       "      <td>Показать на главной странице баннеры с актуальными акциями и распродажами, чтобы увеличить конверсию</td>\n",
       "      <td>40.0</td>\n",
       "    </tr>\n",
       "    <tr>\n",
       "      <th>8</th>\n",
       "      <td>Запустить акцию, дающую скидку на товар в день рождения</td>\n",
       "      <td>16.2</td>\n",
       "    </tr>\n",
       "    <tr>\n",
       "      <th>3</th>\n",
       "      <td>Изменить структура категорий, что увеличит конверсию, т.к. пользователи быстрее найдут нужный товар</td>\n",
       "      <td>9.0</td>\n",
       "    </tr>\n",
       "    <tr>\n",
       "      <th>1</th>\n",
       "      <td>Запустить собственную службу доставки, что сократит срок доставки заказов</td>\n",
       "      <td>4.0</td>\n",
       "    </tr>\n",
       "    <tr>\n",
       "      <th>5</th>\n",
       "      <td>Добавить страницу отзывов клиентов о магазине, что позволит увеличить количество заказов</td>\n",
       "      <td>4.0</td>\n",
       "    </tr>\n",
       "    <tr>\n",
       "      <th>4</th>\n",
       "      <td>Изменить цвет фона главной страницы, чтобы увеличить вовлеченность пользователей</td>\n",
       "      <td>3.0</td>\n",
       "    </tr>\n",
       "  </tbody>\n",
       "</table>\n",
       "</div>"
      ],
      "text/plain": [
       "                                                                                                     hypothesis  \\\n",
       "7  Добавить форму подписки на все основные страницы, чтобы собрать базу клиентов для email-рассылок               \n",
       "2  Добавить блоки рекомендаций товаров на сайт интернет магазина, чтобы повысить конверсию и средний чек заказа   \n",
       "0  Добавить два новых канала привлечения трафика, что позволит привлекать на 30% больше пользователей             \n",
       "6  Показать на главной странице баннеры с актуальными акциями и распродажами, чтобы увеличить конверсию           \n",
       "8  Запустить акцию, дающую скидку на товар в день рождения                                                        \n",
       "3  Изменить структура категорий, что увеличит конверсию, т.к. пользователи быстрее найдут нужный товар            \n",
       "1  Запустить собственную службу доставки, что сократит срок доставки заказов                                      \n",
       "5  Добавить страницу отзывов клиентов о магазине, что позволит увеличить количество заказов                       \n",
       "4  Изменить цвет фона главной страницы, чтобы увеличить вовлеченность пользователей                               \n",
       "\n",
       "    RICE  \n",
       "7  112.0  \n",
       "2  56.0   \n",
       "0  40.0   \n",
       "6  40.0   \n",
       "8  16.2   \n",
       "3  9.0    \n",
       "1  4.0    \n",
       "5  4.0    \n",
       "4  3.0    "
      ]
     },
     "execution_count": 19,
     "metadata": {},
     "output_type": "execute_result"
    }
   ],
   "source": [
    "hypothesis['RICE'] = (hypothesis['reach'] * hypothesis['impact'] * hypothesis['confidence']) / hypothesis['efforts']\n",
    "hypothesis_RICE = hypothesis[['hypothesis', 'RICE']].sort_values(by='RICE', ascending=False)\n",
    "hypothesis_RICE"
   ]
  },
  {
   "cell_type": "markdown",
   "metadata": {},
   "source": [
    "В соответствии с фреймворком **RICE** для приоритизации гипотез, наиболее перспективными являются гипотезы:\n",
    "\n",
    "**1)** Добавить форму подписки на все основные страницы, чтобы собрать базу клиентов для email-рассылок\t\n",
    "\n",
    "**2)** Добавить блоки рекомендаций товаров на сайт интернет магазина, чтобы повысить конверсию и средний чек заказа\n",
    "\n",
    "**3)** Добавить два новых канала привлечения трафика, что позволит привлекать на 30% больше пользователей\n",
    "\n"
   ]
  },
  {
   "cell_type": "markdown",
   "metadata": {},
   "source": [
    "**Посмотрим, как изменилась приоритизация гипотез при применении RICE вместо ICE.**"
   ]
  },
  {
   "cell_type": "code",
   "execution_count": 20,
   "metadata": {},
   "outputs": [
    {
     "data": {
      "text/html": [
       "<div>\n",
       "<style scoped>\n",
       "    .dataframe tbody tr th:only-of-type {\n",
       "        vertical-align: middle;\n",
       "    }\n",
       "\n",
       "    .dataframe tbody tr th {\n",
       "        vertical-align: top;\n",
       "    }\n",
       "\n",
       "    .dataframe thead th {\n",
       "        text-align: right;\n",
       "    }\n",
       "</style>\n",
       "<table border=\"1\" class=\"dataframe\">\n",
       "  <thead>\n",
       "    <tr style=\"text-align: right;\">\n",
       "      <th></th>\n",
       "      <th>hypothesis</th>\n",
       "      <th>ICE</th>\n",
       "      <th>RICE</th>\n",
       "    </tr>\n",
       "  </thead>\n",
       "  <tbody>\n",
       "    <tr>\n",
       "      <th>0</th>\n",
       "      <td>Запустить акцию, дающую скидку на товар в день рождения</td>\n",
       "      <td>16.20</td>\n",
       "      <td>16.2</td>\n",
       "    </tr>\n",
       "    <tr>\n",
       "      <th>1</th>\n",
       "      <td>Добавить два новых канала привлечения трафика, что позволит привлекать на 30% больше пользователей</td>\n",
       "      <td>13.33</td>\n",
       "      <td>40.0</td>\n",
       "    </tr>\n",
       "    <tr>\n",
       "      <th>2</th>\n",
       "      <td>Добавить форму подписки на все основные страницы, чтобы собрать базу клиентов для email-рассылок</td>\n",
       "      <td>11.20</td>\n",
       "      <td>112.0</td>\n",
       "    </tr>\n",
       "    <tr>\n",
       "      <th>3</th>\n",
       "      <td>Показать на главной странице баннеры с актуальными акциями и распродажами, чтобы увеличить конверсию</td>\n",
       "      <td>8.00</td>\n",
       "      <td>40.0</td>\n",
       "    </tr>\n",
       "    <tr>\n",
       "      <th>4</th>\n",
       "      <td>Добавить блоки рекомендаций товаров на сайт интернет магазина, чтобы повысить конверсию и средний чек заказа</td>\n",
       "      <td>7.00</td>\n",
       "      <td>56.0</td>\n",
       "    </tr>\n",
       "    <tr>\n",
       "      <th>5</th>\n",
       "      <td>Запустить собственную службу доставки, что сократит срок доставки заказов</td>\n",
       "      <td>2.00</td>\n",
       "      <td>4.0</td>\n",
       "    </tr>\n",
       "    <tr>\n",
       "      <th>6</th>\n",
       "      <td>Добавить страницу отзывов клиентов о магазине, что позволит увеличить количество заказов</td>\n",
       "      <td>1.33</td>\n",
       "      <td>4.0</td>\n",
       "    </tr>\n",
       "    <tr>\n",
       "      <th>7</th>\n",
       "      <td>Изменить структура категорий, что увеличит конверсию, т.к. пользователи быстрее найдут нужный товар</td>\n",
       "      <td>1.12</td>\n",
       "      <td>9.0</td>\n",
       "    </tr>\n",
       "    <tr>\n",
       "      <th>8</th>\n",
       "      <td>Изменить цвет фона главной страницы, чтобы увеличить вовлеченность пользователей</td>\n",
       "      <td>1.00</td>\n",
       "      <td>3.0</td>\n",
       "    </tr>\n",
       "  </tbody>\n",
       "</table>\n",
       "</div>"
      ],
      "text/plain": [
       "                                                                                                     hypothesis  \\\n",
       "0  Запустить акцию, дающую скидку на товар в день рождения                                                        \n",
       "1  Добавить два новых канала привлечения трафика, что позволит привлекать на 30% больше пользователей             \n",
       "2  Добавить форму подписки на все основные страницы, чтобы собрать базу клиентов для email-рассылок               \n",
       "3  Показать на главной странице баннеры с актуальными акциями и распродажами, чтобы увеличить конверсию           \n",
       "4  Добавить блоки рекомендаций товаров на сайт интернет магазина, чтобы повысить конверсию и средний чек заказа   \n",
       "5  Запустить собственную службу доставки, что сократит срок доставки заказов                                      \n",
       "6  Добавить страницу отзывов клиентов о магазине, что позволит увеличить количество заказов                       \n",
       "7  Изменить структура категорий, что увеличит конверсию, т.к. пользователи быстрее найдут нужный товар            \n",
       "8  Изменить цвет фона главной страницы, чтобы увеличить вовлеченность пользователей                               \n",
       "\n",
       "     ICE   RICE  \n",
       "0  16.20  16.2   \n",
       "1  13.33  40.0   \n",
       "2  11.20  112.0  \n",
       "3  8.00   40.0   \n",
       "4  7.00   56.0   \n",
       "5  2.00   4.0    \n",
       "6  1.33   4.0    \n",
       "7  1.12   9.0    \n",
       "8  1.00   3.0    "
      ]
     },
     "execution_count": 20,
     "metadata": {},
     "output_type": "execute_result"
    }
   ],
   "source": [
    "priority_of_hypothesis = hypothesis_ICE.merge(hypothesis_RICE, on='hypothesis')\n",
    "priority_of_hypothesis"
   ]
  },
  {
   "cell_type": "markdown",
   "metadata": {},
   "source": [
    "Фреймворк **RICE** включает в себя дополнительный компонент **Reach** — скольких пользователей затронет изменение, которое мы хотим внести. Поэтому дополнение этого компонента изменило практически всю приоритетность, полученную по методу **ICE**, только две гипотезы остались на прежних местах. \n",
    "\n",
    "На четвертом месте в обоих случаях была гипотеза:\n",
    "\n",
    "**Показать на главной странице баннеры с актуальными акциями и распродажами, чтобы увеличить конверсию**\n",
    "\n",
    "На последнем, девятом месте в обоих случаях была гипотеза:\n",
    "    \n",
    "**Изменить цвет фона главной страницы, чтобы увеличить вовлеченность пользователей**\n"
   ]
  },
  {
   "cell_type": "markdown",
   "metadata": {},
   "source": [
    "### Вывод"
   ]
  },
  {
   "cell_type": "markdown",
   "metadata": {},
   "source": [
    "Анализ показывает, что при применении фреймворка **ICE** и фреймворка **RICE** наиболее перспективными являютя гипотезы:\n",
    "\n",
    "-Добавить форму подписки на все основные страницы, чтобы собрать базу клиентов для email-рассылок\t\n",
    "\n",
    "-Добавить два новых канала привлечения трафика, что позволит привлекать на 30% больше пользователей\n",
    "\n",
    "Самой бесперспективной оказалась гипотеза:\n",
    "\n",
    "-Изменить цвет фона главной страницы, чтобы увеличить вовлеченность пользователей"
   ]
  },
  {
   "cell_type": "markdown",
   "metadata": {},
   "source": [
    "## Анализ A/B-теста"
   ]
  },
  {
   "cell_type": "markdown",
   "metadata": {},
   "source": [
    "**Построим график кумулятивной выручки по группам. Сделаем выводы и предположения.**"
   ]
  },
  {
   "cell_type": "code",
   "execution_count": 21,
   "metadata": {},
   "outputs": [
    {
     "name": "stdout",
     "output_type": "stream",
     "text": [
      "        date group  orders  buyers  revenue  visitors\n",
      "0 2019-08-01  A     24      20      148579   719     \n",
      "1 2019-08-01  B     21      20      101217   713     \n",
      "2 2019-08-02  A     44      38      242401   1338    \n",
      "3 2019-08-02  B     45      43      266748   1294    \n",
      "4 2019-08-03  A     68      62      354874   1845    \n"
     ]
    }
   ],
   "source": [
    "# создаем массив уникальных пар значений дат и групп теста\n",
    "datesGroups = orders[['date','group']].drop_duplicates()\n",
    "\n",
    "# Получим строки orders, дата которых <= дате элемента из datesGroups, а группа теста равна группе из datesGroups\n",
    "# Агрегируем значения, найдём число уникальных ID заказов и пользователей\n",
    "# Подсчитаем сумму средних чеков\n",
    "\n",
    "ordersAggregated = (datesGroups.apply(lambda x: \n",
    "orders[np.logical_and(orders['date'] <= x['date'], orders['group'] == \n",
    "x['group'])].agg({'date' : 'max', 'group' : 'max', 'transaction_id' : pd.Series.nunique,\n",
    "'visitor_id' : pd.Series.nunique, 'revenue' : 'sum'}), axis=1).sort_values(by=['date','group']))\n",
    "\n",
    "# Получим нужные строки visitors, агрегируем значения\n",
    "# Посчитаем количество пользователей\n",
    "\n",
    "visitorsAggregated = (datesGroups.apply(lambda x: \n",
    "visitors[np.logical_and(visitors['date'] <= x['date'], visitors['group'] == \n",
    "x['group'])].agg({'date' : 'max', 'group' : 'max',\n",
    "'visitors' : 'sum'}), axis=1).sort_values(by=['date','group']))\n",
    "\n",
    "# объединяем кумулятивные данные в одной таблице и присваиваем ее столбцам понятные названия\n",
    "cummulativeData = ordersAggregated.merge(visitorsAggregated, left_on=['date', \n",
    "'group'], right_on=['date', 'group'])\n",
    "cummulativeData.columns = ['date', 'group', 'orders', 'buyers', 'revenue', 'visitors']\n",
    "\n",
    "print(cummulativeData.head(5))"
   ]
  },
  {
   "cell_type": "markdown",
   "metadata": {},
   "source": [
    "Построим график"
   ]
  },
  {
   "cell_type": "code",
   "execution_count": 22,
   "metadata": {},
   "outputs": [
    {
     "data": {
      "image/png": "[encoded data removed]",
      "text/plain": [
       "<Figure size 720x504 with 1 Axes>"
      ]
     },
     "metadata": {
      "needs_background": "light"
     },
     "output_type": "display_data"
    }
   ],
   "source": [
    "# датафрейм с кумулятивным количеством заказов и кумулятивной выручкой по дням в группе А и B\n",
    "cummulativeRevenueA = cummulativeData[cummulativeData['group']=='A'][['date','revenue', 'orders']]\n",
    "cummulativeRevenueB = cummulativeData[cummulativeData['group']=='B'][['date','revenue', 'orders']]\n",
    "\n",
    "\n",
    "cummulativeRevenueA['date'] = pd.to_datetime(cummulativeRevenueA['date'], format='%Y-%m-%d')\n",
    "cummulativeRevenueB['date'] = pd.to_datetime(cummulativeRevenueB['date'], format='%Y-%m-%d')\n",
    "\n",
    "\n",
    "# Строим график выручки группы А и B\n",
    "\n",
    "fig = plt.figure(figsize=[10,7])\n",
    "plt.plot(cummulativeRevenueA['date'], cummulativeRevenueA['revenue'], label='A')\n",
    "plt.plot(cummulativeRevenueB['date'], cummulativeRevenueB['revenue'], label='B')\n",
    "fig.autofmt_xdate()\n",
    "plt.title('Кумулятивная выручка по группам', fontsize=15);\n",
    "plt.xlabel('Дата', fontsize= 15)\n",
    "plt.ylabel('выручка', fontsize= 15) \n",
    "plt.legend()\n",
    "plt.show()\n"
   ]
  },
  {
   "cell_type": "markdown",
   "metadata": {},
   "source": [
    "Выручка увеличивается в течение всего теста, но график выручки группы B в одной точке резко растет. Это может сигнализировать о всплеске числа заказов, либо о появлении очень дорогих заказов в выборке."
   ]
  },
  {
   "cell_type": "markdown",
   "metadata": {},
   "source": [
    "**Построим график кумулятивного среднего чека по группам. Сделаем выводы и предположения.**"
   ]
  },
  {
   "cell_type": "code",
   "execution_count": 23,
   "metadata": {},
   "outputs": [
    {
     "data": {
      "image/png": "[encoded data removed]",
      "text/plain": [
       "<Figure size 720x504 with 1 Axes>"
      ]
     },
     "metadata": {
      "needs_background": "light"
     },
     "output_type": "display_data"
    }
   ],
   "source": [
    "fig = plt.figure(figsize=[10,7])\n",
    "plt.plot(cummulativeRevenueA['date'], cummulativeRevenueA['revenue']/cummulativeRevenueA['orders'], label='A')\n",
    "plt.plot(cummulativeRevenueB['date'], cummulativeRevenueB['revenue']/cummulativeRevenueB['orders'], label='B')\n",
    "fig.autofmt_xdate()\n",
    "plt.title('Кумулятивный средний чек по группам', fontsize=15);\n",
    "plt.xlabel('Дата', fontsize= 15)\n",
    "plt.ylabel('средний чек', fontsize= 15) \n",
    "plt.legend()\n",
    "plt.show()"
   ]
  },
  {
   "cell_type": "markdown",
   "metadata": {},
   "source": [
    "Средний чек становится более равномерным к концу теста: немного растет для группы A и и продолжает падать для группы B. Возможно, в группу B в середине теста попали крупные заказы (резкий всплеск на графике)."
   ]
  },
  {
   "cell_type": "markdown",
   "metadata": {},
   "source": [
    "**Построим график относительного изменения кумулятивного среднего чека группы B к группе A. Сделаем выводы и предположения.**"
   ]
  },
  {
   "cell_type": "markdown",
   "metadata": {},
   "source": [
    "При построении графика относительного различия для среднего чека добавим горизонтальную ось методом axhline()."
   ]
  },
  {
   "cell_type": "code",
   "execution_count": 24,
   "metadata": {},
   "outputs": [
    {
     "data": {
      "image/png": "[encoded data removed]",
      "text/plain": [
       "<Figure size 720x504 with 1 Axes>"
      ]
     },
     "metadata": {
      "needs_background": "light"
     },
     "output_type": "display_data"
    }
   ],
   "source": [
    "fig = plt.figure(figsize=[10,7])\n",
    "# собираем данные в одном датафрейме\n",
    "mergedCummulativeRevenue = cummulativeRevenueA.merge(cummulativeRevenueB, left_on='date', right_on='date', how='left', suffixes=['A', 'B'])\n",
    "\n",
    "# cтроим отношение средних чеков\n",
    "plt.plot(mergedCummulativeRevenue['date'], (mergedCummulativeRevenue['revenueB']/mergedCummulativeRevenue['ordersB'])/(mergedCummulativeRevenue['revenueA']/mergedCummulativeRevenue['ordersA'])-1,)\n",
    "fig.autofmt_xdate()\n",
    "# добавляем ось X\n",
    "plt.axhline(y=0, color='black', linestyle='--')\n",
    "#plt.axis(['2019-08-01', '2019-08-31', -0.4, 0.6])\n",
    "plt.title('Относительное изменение кумулятивного среднего чека группы B к группе A', fontsize=15);\n",
    "plt.xlabel('Дата', fontsize= 15)\n",
    "plt.show()"
   ]
  },
  {
   "cell_type": "markdown",
   "metadata": {},
   "source": [
    "График различия между сегментами резко «скачет». Сначала средний чек группы B стабильно растет, потом резко падает и резко взлетает. Возможно это влияние крупных заказов и выбросов. Все три графика демонстрируют одинаковую картину."
   ]
  },
  {
   "cell_type": "markdown",
   "metadata": {},
   "source": [
    "**Построим график кумулятивной конверсии по группам. Сделаем выводы и предположения.**"
   ]
  },
  {
   "cell_type": "markdown",
   "metadata": {},
   "source": [
    "Проведем анализ графика кумулятивной конверсии, для осей масштаб зададим методом plt.axis()."
   ]
  },
  {
   "cell_type": "code",
   "execution_count": 25,
   "metadata": {},
   "outputs": [
    {
     "name": "stdout",
     "output_type": "stream",
     "text": [
      "минимальная кумулятивная конверсия равна: 0.029217427214536445\n",
      "максимальная кумулятивная конверсия равна: 0.03685636856368564\n"
     ]
    }
   ],
   "source": [
    "# считаем кумулятивную конверсию\n",
    "cummulativeData['conversion'] = cummulativeData['orders']/cummulativeData['visitors']\n",
    "print('минимальная кумулятивная конверсия равна:', cummulativeData['conversion'].min())\n",
    "print('максимальная кумулятивная конверсия равна:', cummulativeData['conversion'].max())"
   ]
  },
  {
   "cell_type": "code",
   "execution_count": 26,
   "metadata": {},
   "outputs": [
    {
     "data": {
      "image/png": "[encoded data removed]",
      "text/plain": [
       "<Figure size 720x504 with 1 Axes>"
      ]
     },
     "metadata": {
      "needs_background": "light"
     },
     "output_type": "display_data"
    }
   ],
   "source": [
    "cummulativeData['date'] = pd.to_datetime(cummulativeData['date'], format='%Y-%m-%d')\n",
    "\n",
    "# отделяем данные по группе A и B\n",
    "cummulativeDataA = cummulativeData[cummulativeData['group']=='A']\n",
    "cummulativeDataB = cummulativeData[cummulativeData['group']=='B']\n",
    "\n",
    "\n",
    "# строим графики\n",
    "fig = plt.figure(figsize=[10,7])\n",
    "plt.plot(cummulativeDataA['date'], cummulativeDataA['conversion'], label='A')\n",
    "plt.plot(cummulativeDataB['date'], cummulativeDataB['conversion'], label='B')\n",
    "fig.autofmt_xdate()\n",
    "plt.legend()\n",
    "plt.title('Кумулятивная конверсия по группам', fontsize=15);\n",
    "plt.xlabel('Дата', fontsize= 15)\n",
    "plt.ylabel('конверсия', fontsize= 15) \n",
    "\n",
    "# задаем масштаб осей\n",
    "#plt.axis([\"2019-08-01\", '2019-08-31', 0.025, 0.040])\n",
    "#plt.gca().xaxis.set_major_formatter(mdates.DateFormatter('%Y-%m-%d'))\n",
    "#plt.axis(['2019-08-01', '2019-08-31', 0.025, 0.040])\n",
    "plt.show()"
   ]
  },
  {
   "cell_type": "markdown",
   "metadata": {},
   "source": [
    "Группы колебались около одного значения, но затем конверсия группы B вырвалась вперёд и зафиксировалась, а конверсия группы A просела и также зафиксировалась."
   ]
  },
  {
   "cell_type": "markdown",
   "metadata": {},
   "source": [
    "**Построим график относительного изменения кумулятивной конверсии группы B к группе A. Сделаем выводы и предположения.**"
   ]
  },
  {
   "cell_type": "code",
   "execution_count": 27,
   "metadata": {},
   "outputs": [
    {
     "data": {
      "image/png": "[encoded data removed]",
      "text/plain": [
       "<Figure size 720x504 with 1 Axes>"
      ]
     },
     "metadata": {
      "needs_background": "light"
     },
     "output_type": "display_data"
    }
   ],
   "source": [
    "mergedCummulativeConversions = cummulativeDataA[['date','conversion']].merge(\n",
    "    cummulativeDataB[['date','conversion']], \n",
    "    left_on='date', \n",
    "    right_on='date', \n",
    "    how='left', \n",
    "    suffixes=['A', 'B']\n",
    ")\n",
    "\n",
    "\n",
    "fig = plt.figure(figsize=[10,7])\n",
    "plt.plot(\n",
    "    mergedCummulativeConversions['date'], \n",
    "    mergedCummulativeConversions['conversionB']/mergedCummulativeConversions['conversionA']-1\n",
    ")\n",
    "\n",
    "plt.title('Относительный прирост конверсии группы B к группе A', fontsize=15);\n",
    "plt.xlabel('Дата', fontsize= 12)\n",
    "\n",
    "fig.autofmt_xdate()\n",
    "\n",
    "plt.axhline(y=0, color='black', linestyle='--')\n",
    "plt.axhline(y=0.1, color='grey', linestyle='--')\n",
    "#plt.axis([\"2019-08-01\", '2019-08-31', -0.2, 0.3])\n",
    "\n",
    "plt.show()"
   ]
  },
  {
   "cell_type": "markdown",
   "metadata": {},
   "source": [
    "В начале теста группа B проигрывала группе A, затем вырвалась вперёд. Конверсия группы B стабильно выше. Стоит проанализировать аномалии, возможно результаты изменятся."
   ]
  },
  {
   "cell_type": "markdown",
   "metadata": {},
   "source": [
    "**Построим точечный график количества заказов по пользователям. Сделаем выводы и предположения.**"
   ]
  },
  {
   "cell_type": "code",
   "execution_count": 28,
   "metadata": {},
   "outputs": [
    {
     "name": "stdout",
     "output_type": "stream",
     "text": [
      "      visitor_id  orders\n",
      "1023  4256040402  11    \n",
      "591   2458001652  11    \n",
      "569   2378935119  9     \n",
      "487   2038680547  8     \n",
      "44    199603092   5     \n",
      "744   3062433592  5     \n",
      "55    237748145   5     \n",
      "917   3803269165  5     \n",
      "299   1230306981  5     \n",
      "897   3717692402  5     \n"
     ]
    }
   ],
   "source": [
    "# Подсчитаем количество заказов по пользователям:\n",
    "ordersByUsers = orders.drop(\n",
    "    ['group', 'revenue', 'date'], \n",
    "    axis=1\n",
    ").groupby('visitor_id', as_index=False).agg({'transaction_id' : pd.Series.nunique})\n",
    "\n",
    "ordersByUsers.columns = ['visitor_id','orders']\n",
    "\n",
    "print(ordersByUsers.sort_values(by='orders',ascending=False).head(10))"
   ]
  },
  {
   "cell_type": "markdown",
   "metadata": {},
   "source": [
    "Построим гистограмму распределения количества заказов на одного пользователя."
   ]
  },
  {
   "cell_type": "code",
   "execution_count": 29,
   "metadata": {},
   "outputs": [
    {
     "data": {
      "image/png": "[encoded data removed]",
      "text/plain": [
       "<Figure size 432x288 with 1 Axes>"
      ]
     },
     "metadata": {
      "needs_background": "light"
     },
     "output_type": "display_data"
    }
   ],
   "source": [
    "plt.hist(ordersByUsers['orders'])\n",
    "plt.title('Количество заказов на одного пользователя', fontsize=15);\n",
    "plt.xlabel('количество заказов', fontsize= 10)\n",
    "plt.ylabel('количество пользователей', fontsize= 10) \n",
    "plt.show()\n"
   ]
  },
  {
   "cell_type": "markdown",
   "metadata": {},
   "source": [
    "В основном пользватели делают 1 заказ, однако доля пользователей с 2-4 заказами тоже значительна. Есть выбросы где пользователи делают более 10 заказов."
   ]
  },
  {
   "cell_type": "markdown",
   "metadata": {},
   "source": [
    "Построим точечную диаграмму числа заказов на одного пользователя:"
   ]
  },
  {
   "cell_type": "code",
   "execution_count": 30,
   "metadata": {},
   "outputs": [
    {
     "data": {
      "image/png": "[encoded data removed]",
      "text/plain": [
       "<Figure size 432x288 with 1 Axes>"
      ]
     },
     "metadata": {
      "needs_background": "light"
     },
     "output_type": "display_data"
    }
   ],
   "source": [
    "x_values = pd.Series(range(0,len(ordersByUsers)))\n",
    "\n",
    "plt.scatter(x_values, ordersByUsers['orders'])\n",
    "plt.title('Количество заказов по пользователям', fontsize=15);\n",
    "plt.xlabel('количество пользователей', fontsize= 10)\n",
    "plt.ylabel('количество заказов', fontsize= 10) \n",
    "plt.show()"
   ]
  },
  {
   "cell_type": "markdown",
   "metadata": {},
   "source": [
    "Выводы подтверждаются: есть пользователи с 2-4 заказами. Их точная доля не ясна — непонятно, считать их аномалиями или нет. Для принятия решения, посчитаем выборочные перцентили количества заказов на одного пользователя."
   ]
  },
  {
   "cell_type": "markdown",
   "metadata": {},
   "source": [
    "**Посчитаем 95-й и 99-й перцентили количества заказов на пользователя. Выберем границу для определения аномальных пользователей.**"
   ]
  },
  {
   "cell_type": "code",
   "execution_count": 31,
   "metadata": {},
   "outputs": [
    {
     "name": "stdout",
     "output_type": "stream",
     "text": [
      "[2. 4.]\n"
     ]
    }
   ],
   "source": [
    "print(np.percentile(ordersByUsers['orders'], [95, 99]))"
   ]
  },
  {
   "cell_type": "markdown",
   "metadata": {},
   "source": [
    "Не более 5% пользователей оформляли больше чем 2 заказа."
   ]
  },
  {
   "cell_type": "markdown",
   "metadata": {},
   "source": [
    "Разумно выбрать 2 заказа на одного пользователя за верхнюю границу числа заказов, и отсеять аномальных пользователей по ней."
   ]
  },
  {
   "cell_type": "markdown",
   "metadata": {},
   "source": [
    "**Построим точечный график стоимостей заказов. Сделаем выводы и предположения.**"
   ]
  },
  {
   "cell_type": "code",
   "execution_count": 32,
   "metadata": {},
   "outputs": [
    {
     "data": {
      "text/plain": [
       "count    1.197000e+03\n",
       "mean     8.348006e+03\n",
       "std      3.919113e+04\n",
       "min      5.000000e+01\n",
       "25%      1.220000e+03\n",
       "50%      2.978000e+03\n",
       "75%      8.290000e+03\n",
       "max      1.294500e+06\n",
       "Name: revenue, dtype: float64"
      ]
     },
     "execution_count": 32,
     "metadata": {},
     "output_type": "execute_result"
    }
   ],
   "source": [
    "orders['revenue'].describe()"
   ]
  },
  {
   "cell_type": "markdown",
   "metadata": {},
   "source": [
    "Три четверти стоимостей заказов находятся в пределах 8500. Построим гистограмму распределения стоимостей заказов на одного пользователя."
   ]
  },
  {
   "cell_type": "code",
   "execution_count": 33,
   "metadata": {
    "scrolled": true
   },
   "outputs": [
    {
     "data": {
      "image/png": "[encoded data removed]",
      "text/plain": [
       "<Figure size 432x288 with 1 Axes>"
      ]
     },
     "metadata": {
      "needs_background": "light"
     },
     "output_type": "display_data"
    }
   ],
   "source": [
    "plt.hist(orders['revenue'])\n",
    "plt.title('Распределения выручек с заказов по пользователям ', fontsize=15);\n",
    "plt.xlabel('стоимость заказа', fontsize= 10)\n",
    "plt.ylabel('количество пользователей', fontsize= 10) \n",
    "plt.show()"
   ]
  },
  {
   "cell_type": "markdown",
   "metadata": {},
   "source": [
    "Практически все заказы не превышают стоимость 60000. Построим точечную диаграмму стоимостей заказов для того, чтобы увидеть выбросы."
   ]
  },
  {
   "cell_type": "code",
   "execution_count": 34,
   "metadata": {},
   "outputs": [
    {
     "data": {
      "image/png": "[encoded data removed]",
      "text/plain": [
       "<Figure size 432x288 with 1 Axes>"
      ]
     },
     "metadata": {
      "needs_background": "light"
     },
     "output_type": "display_data"
    }
   ],
   "source": [
    "x_values = pd.Series(range(0,len(orders['revenue'])))\n",
    "\n",
    "plt.scatter(x_values, orders['revenue']);\n",
    "plt.title('Распределения выручек с заказов по пользователям ', fontsize=15);\n",
    "plt.xlabel('количество пользователей', fontsize= 10)\n",
    "plt.ylabel('стоимость заказа', fontsize= 10) \n",
    "plt.show()"
   ]
  },
  {
   "cell_type": "markdown",
   "metadata": {},
   "source": [
    "Большая часть заказов со стоимостью до 60000, но есть выбросы со стоимостями в 200000 и  более миллиона. Скорее всего их можно считать аномалиями. Для принятия решения, посчитаем выборочные перцентили стоимости заказов."
   ]
  },
  {
   "cell_type": "markdown",
   "metadata": {},
   "source": [
    "**Посчитаем 95-й и 99-й перцентили стоимости заказов. Выберем границу для определения аномальных заказов.**"
   ]
  },
  {
   "cell_type": "code",
   "execution_count": 35,
   "metadata": {},
   "outputs": [
    {
     "name": "stdout",
     "output_type": "stream",
     "text": [
      "[28000.  58233.2]\n"
     ]
    }
   ],
   "source": [
    "print(np.percentile(orders['revenue'], [95, 99]))"
   ]
  },
  {
   "cell_type": "markdown",
   "metadata": {},
   "source": [
    "Менее 5% заказов стоят дороже 28000, можно взять эту цифру за границу для определения аномальных заказов"
   ]
  },
  {
   "cell_type": "markdown",
   "metadata": {},
   "source": [
    "**Посчитаем статистическую значимость различий в конверсии между группами по «сырым» данным. Сделаем выводы и предположения.**"
   ]
  },
  {
   "cell_type": "markdown",
   "metadata": {},
   "source": [
    "***Проверим гипотезу1: статистически значимые различия в конверсии между группами есть.***"
   ]
  },
  {
   "cell_type": "markdown",
   "metadata": {},
   "source": [
    "Сформулируем нулевую и альтернативную гипотезы.\n",
    "\n",
    "**Нулевая гипотеза:** конверсии в группах А и В по \"сырым\" данным не отличаются.\n",
    "\n",
    "**Альтернативная гипотеза:** конверсии в группах А и В по \"сырым\" данным отличаются."
   ]
  },
  {
   "cell_type": "markdown",
   "metadata": {},
   "source": [
    "Уровень значимости возьмем равный 5%."
   ]
  },
  {
   "cell_type": "markdown",
   "metadata": {},
   "source": [
    "Для проверки гипотезы подготовим данные."
   ]
  },
  {
   "cell_type": "code",
   "execution_count": 36,
   "metadata": {},
   "outputs": [
    {
     "data": {
      "text/html": [
       "<div>\n",
       "<style scoped>\n",
       "    .dataframe tbody tr th:only-of-type {\n",
       "        vertical-align: middle;\n",
       "    }\n",
       "\n",
       "    .dataframe tbody tr th {\n",
       "        vertical-align: top;\n",
       "    }\n",
       "\n",
       "    .dataframe thead th {\n",
       "        text-align: right;\n",
       "    }\n",
       "</style>\n",
       "<table border=\"1\" class=\"dataframe\">\n",
       "  <thead>\n",
       "    <tr style=\"text-align: right;\">\n",
       "      <th></th>\n",
       "      <th>date</th>\n",
       "      <th>ordersPerDateA</th>\n",
       "      <th>revenuePerDateA</th>\n",
       "      <th>ordersPerDateB</th>\n",
       "      <th>revenuePerDateB</th>\n",
       "      <th>ordersCummulativeA</th>\n",
       "      <th>revenueCummulativeA</th>\n",
       "      <th>ordersCummulativeB</th>\n",
       "      <th>revenueCummulativeB</th>\n",
       "      <th>visitorsPerDateA</th>\n",
       "      <th>visitorsPerDateB</th>\n",
       "      <th>visitorsCummulativeA</th>\n",
       "      <th>visitorsCummulativeB</th>\n",
       "    </tr>\n",
       "  </thead>\n",
       "  <tbody>\n",
       "    <tr>\n",
       "      <th>0</th>\n",
       "      <td>2019-08-01</td>\n",
       "      <td>24</td>\n",
       "      <td>148579</td>\n",
       "      <td>21</td>\n",
       "      <td>101217</td>\n",
       "      <td>24</td>\n",
       "      <td>148579</td>\n",
       "      <td>21</td>\n",
       "      <td>101217</td>\n",
       "      <td>719</td>\n",
       "      <td>713</td>\n",
       "      <td>719</td>\n",
       "      <td>713</td>\n",
       "    </tr>\n",
       "    <tr>\n",
       "      <th>1</th>\n",
       "      <td>2019-08-02</td>\n",
       "      <td>20</td>\n",
       "      <td>93822</td>\n",
       "      <td>24</td>\n",
       "      <td>165531</td>\n",
       "      <td>44</td>\n",
       "      <td>242401</td>\n",
       "      <td>45</td>\n",
       "      <td>266748</td>\n",
       "      <td>619</td>\n",
       "      <td>581</td>\n",
       "      <td>1338</td>\n",
       "      <td>1294</td>\n",
       "    </tr>\n",
       "    <tr>\n",
       "      <th>2</th>\n",
       "      <td>2019-08-03</td>\n",
       "      <td>24</td>\n",
       "      <td>112473</td>\n",
       "      <td>16</td>\n",
       "      <td>114248</td>\n",
       "      <td>68</td>\n",
       "      <td>354874</td>\n",
       "      <td>61</td>\n",
       "      <td>380996</td>\n",
       "      <td>507</td>\n",
       "      <td>509</td>\n",
       "      <td>1845</td>\n",
       "      <td>1803</td>\n",
       "    </tr>\n",
       "    <tr>\n",
       "      <th>3</th>\n",
       "      <td>2019-08-04</td>\n",
       "      <td>16</td>\n",
       "      <td>70825</td>\n",
       "      <td>17</td>\n",
       "      <td>108571</td>\n",
       "      <td>84</td>\n",
       "      <td>425699</td>\n",
       "      <td>78</td>\n",
       "      <td>489567</td>\n",
       "      <td>717</td>\n",
       "      <td>770</td>\n",
       "      <td>2562</td>\n",
       "      <td>2573</td>\n",
       "    </tr>\n",
       "    <tr>\n",
       "      <th>4</th>\n",
       "      <td>2019-08-05</td>\n",
       "      <td>25</td>\n",
       "      <td>124218</td>\n",
       "      <td>23</td>\n",
       "      <td>92428</td>\n",
       "      <td>109</td>\n",
       "      <td>549917</td>\n",
       "      <td>101</td>\n",
       "      <td>581995</td>\n",
       "      <td>756</td>\n",
       "      <td>707</td>\n",
       "      <td>3318</td>\n",
       "      <td>3280</td>\n",
       "    </tr>\n",
       "  </tbody>\n",
       "</table>\n",
       "</div>"
      ],
      "text/plain": [
       "        date  ordersPerDateA  revenuePerDateA  ordersPerDateB  \\\n",
       "0 2019-08-01  24              148579           21               \n",
       "1 2019-08-02  20              93822            24               \n",
       "2 2019-08-03  24              112473           16               \n",
       "3 2019-08-04  16              70825            17               \n",
       "4 2019-08-05  25              124218           23               \n",
       "\n",
       "   revenuePerDateB  ordersCummulativeA  revenueCummulativeA  \\\n",
       "0  101217           24                  148579                \n",
       "1  165531           44                  242401                \n",
       "2  114248           68                  354874                \n",
       "3  108571           84                  425699                \n",
       "4  92428            109                 549917                \n",
       "\n",
       "   ordersCummulativeB  revenueCummulativeB  visitorsPerDateA  \\\n",
       "0  21                  101217               719                \n",
       "1  45                  266748               619                \n",
       "2  61                  380996               507                \n",
       "3  78                  489567               717                \n",
       "4  101                 581995               756                \n",
       "\n",
       "   visitorsPerDateB  visitorsCummulativeA  visitorsCummulativeB  \n",
       "0  713               719                   713                   \n",
       "1  581               1338                  1294                  \n",
       "2  509               1845                  1803                  \n",
       "3  770               2562                  2573                  \n",
       "4  707               3318                  3280                  "
      ]
     },
     "execution_count": 36,
     "metadata": {},
     "output_type": "execute_result"
    }
   ],
   "source": [
    "# Считаем количество пользователей до выбранной даты включительно в группах A и B;\n",
    "\n",
    "visitorsADaily = visitors[visitors['group']=='A'][['date', 'visitors']]\n",
    "visitorsADaily.columns = ['date', 'visitorsPerDateA']\n",
    "\n",
    "visitorsACummulative = visitorsADaily.apply(\n",
    "    lambda x: visitorsADaily[visitorsADaily['date'] <= x['date']]\n",
    "                                            .agg({'date' : 'max', 'visitorsPerDateA' : 'sum'}), \n",
    "    axis=1\n",
    ")\n",
    "visitorsACummulative.columns = ['date', 'visitorsCummulativeA']\n",
    "\n",
    "visitorsBDaily = visitors[visitors['group']=='B'][['date', 'visitors']]\n",
    "visitorsBDaily.columns = ['date', 'visitorsPerDateB']\n",
    "\n",
    "visitorsBCummulative = visitorsBDaily.apply(\n",
    "    lambda x: visitorsBDaily[visitorsBDaily['date'] <= x['date']]\n",
    "                                            .agg({'date' : 'max', 'visitorsPerDateB' : 'sum'}), \n",
    "    axis=1\n",
    ")\n",
    "visitorsBCummulative.columns = ['date', 'visitorsCummulativeB']\n",
    "\n",
    "# Считаем суммарное число заказов до выбранной даты включительно в группах A и B\n",
    "ordersADaily = orders[orders['group']=='A'][['date', 'transaction_id', 'visitor_id', 'revenue']]\\\n",
    "    .groupby('date', as_index=False)\\\n",
    "    .agg({'transaction_id' : pd.Series.nunique, 'revenue' : 'sum'})\n",
    "ordersADaily.columns = ['date', 'ordersPerDateA', 'revenuePerDateA']\n",
    "\n",
    "ordersACummulative = ordersADaily.apply(\n",
    "    lambda x: \\\n",
    "        ordersADaily[ordersADaily['date'] <= x['date']]\\\n",
    "            .agg({\n",
    "                'date' : 'max',\n",
    "                'ordersPerDateA' : 'sum',\n",
    "                'revenuePerDateA' : 'sum'}), axis=1).sort_values(by=['date'])\n",
    "ordersACummulative.columns = ['date', 'ordersCummulativeA', 'revenueCummulativeA']\n",
    "\n",
    "ordersBDaily = orders[orders['group']=='B'][['date', 'transaction_id', 'visitor_id', 'revenue']]\\\n",
    "    .groupby('date', as_index=False)\\\n",
    "    .agg({'transaction_id' : pd.Series.nunique, 'revenue' : 'sum'})\n",
    "ordersBDaily.columns = ['date', 'ordersPerDateB', 'revenuePerDateB']\n",
    "\n",
    "ordersBCummulative = ordersBDaily.apply(\n",
    "    lambda x: \\\n",
    "        ordersBDaily[ordersBDaily['date'] <= x['date']]\\\n",
    "            .agg({\n",
    "                'date' : 'max',\n",
    "                'ordersPerDateB' : 'sum',\n",
    "                'revenuePerDateB' : 'sum'}), axis=1).sort_values(by=['date'])\n",
    "ordersBCummulative.columns = ['date', 'ordersCummulativeB', 'revenueCummulativeB']\n",
    "\n",
    "\n",
    "# Получаем таблицу с количеством заказов, выручкой в день, \n",
    "# количество заказов и выручка до выбранной даты(включительно),\n",
    "# количество пользователей до выбранной даты \n",
    "data = ordersADaily.merge(ordersBDaily, left_on='date', right_on='date', how='left')\\\n",
    "    .merge(ordersACummulative, left_on='date', right_on='date', how='left')\\\n",
    "    .merge(ordersBCummulative, left_on='date', right_on='date', how='left')\\\n",
    "    .merge(visitorsADaily, left_on='date', right_on='date', how='left')\\\n",
    "    .merge(visitorsBDaily, left_on='date', right_on='date', how='left')\\\n",
    "    .merge(visitorsACummulative, left_on='date', right_on='date', how='left')\\\n",
    "    .merge(visitorsBCummulative, left_on='date', right_on='date', how='left')\n",
    "\n",
    "data.head(5)"
   ]
  },
  {
   "cell_type": "code",
   "execution_count": 37,
   "metadata": {},
   "outputs": [],
   "source": [
    "# Создадим переменные ordersByUsersA и ordersByUsersB со столбцами ['userId', 'orders']. \n",
    "# В них для пользователей, которые заказывали хотя бы 1 раз, укажем число совершённых заказов.\n",
    "\n",
    "ordersByUsersA = (\n",
    "    orders[orders['group']=='A']\n",
    "    .groupby('visitor_id', as_index=False)\n",
    "    .agg({'transaction_id' : pd.Series.nunique})\n",
    ")\n",
    "    \n",
    "ordersByUsersA.columns = ['userId', 'orders']\n",
    "\n",
    "ordersByUsersB = (\n",
    "    orders[orders['group']=='B']\n",
    "    .groupby('visitor_id', as_index=False)\n",
    "    .agg({'transaction_id' : pd.Series.nunique})\n",
    ")\n",
    "ordersByUsersB.columns = ['userId', 'orders']"
   ]
  },
  {
   "cell_type": "markdown",
   "metadata": {},
   "source": [
    "Подготовим выборки к проверке критерием Манна-Уитни. Объявим переменные sampleA и sampleB, в которых пользователям из разных групп будет соответствовать количество заказов. Тем, кто ничего не заказал, будут соответствовать нули."
   ]
  },
  {
   "cell_type": "code",
   "execution_count": 38,
   "metadata": {},
   "outputs": [],
   "source": [
    "sampleA = pd.concat(\n",
    "    [ordersByUsersA['orders'],pd.Series(\n",
    "        0, \n",
    "        index=np.arange(\n",
    "            data['visitorsPerDateA'].sum() - len(ordersByUsersA['orders'])\n",
    "        ), \n",
    "        name='orders'\n",
    "    )\n",
    "    ],\n",
    "    axis=0\n",
    ")\n",
    "sampleB = pd.concat(\n",
    "    [ordersByUsersB['orders'],pd.Series(\n",
    "        0, \n",
    "        index=np.arange(\n",
    "            data['visitorsPerDateB'].sum() - len(ordersByUsersB['orders'])\n",
    "        ), \n",
    "        name='orders'\n",
    "    )\n",
    "    ],\n",
    "    axis=0\n",
    ")"
   ]
  },
  {
   "cell_type": "markdown",
   "metadata": {},
   "source": [
    "Выведем относительный прирост конверсии группы B: конверсия группы B / конверсия группы A - 1. Применим критерий и отформатируем p-value, округлив его до трёх знаков после запятой."
   ]
  },
  {
   "cell_type": "code",
   "execution_count": 39,
   "metadata": {},
   "outputs": [],
   "source": [
    "ordersByUsersA = orders[orders['group']=='A'].groupby('visitor_id', as_index=False).agg({'transaction_id' : pd.Series.nunique})\n",
    "ordersByUsersA.columns = ['userId', 'orders']\n",
    "\n",
    "ordersByUsersB = orders[orders['group']=='B'].groupby('visitor_id', as_index=False).agg({'transaction_id' : pd.Series.nunique})\n",
    "ordersByUsersB.columns = ['userId', 'orders']\n",
    "\n",
    "sampleA = pd.concat([ordersByUsersA['orders'],pd.Series(0, index=np.arange(data['visitorsPerDateA'].sum() - len(ordersByUsersA['orders'])), name='orders')],axis=0)\n",
    "\n",
    "sampleB = pd.concat([ordersByUsersB['orders'],pd.Series(0, index=np.arange(data['visitorsPerDateB'].sum() - len(ordersByUsersB['orders'])), name='orders')],axis=0)\n",
    "\n",
    "#print(\"{0:.3f}\".format(stats.mannwhitneyu(sampleA, sampleB)[1]))\n",
    "\n",
    "#print(\"{0:.3f}\".format(sampleB.mean()/sampleA.mean()-1))"
   ]
  },
  {
   "cell_type": "code",
   "execution_count": 40,
   "metadata": {},
   "outputs": [
    {
     "name": "stdout",
     "output_type": "stream",
     "text": [
      "P-value по конверсии для \"сырых\" данных: 0.017\n",
      "на 5% уровне значимости нулевая гипотеза отвергается\n",
      "относительный прирост конверсии группы B по \"сырым\" данным составляет: 0.138\n"
     ]
    }
   ],
   "source": [
    "alpha =0.05\n",
    "p_value_conv = stats.mannwhitneyu(sampleA, sampleB, alternative = 'two-sided')[1].round(3)\n",
    "\n",
    "print('P-value по конверсии для \"сырых\" данных: {}'.format(p_value_conv))\n",
    "if (p_value_conv < alpha):\n",
    "    print(\"на 5% уровне значимости нулевая гипотеза отвергается\")\n",
    "else:\n",
    "    print(\"Не получилось отвергнуть нулевую гипотезу\")\n",
    "    \n",
    "\n",
    "print('относительный прирост конверсии группы B по \"сырым\" данным составляет: {0:.3f}'.format(sampleB.mean()/sampleA.mean()-1))"
   ]
  },
  {
   "cell_type": "markdown",
   "metadata": {},
   "source": [
    "По «сырым» данным есть различия в конверсии групп A и B. Относительная разница в конверсиях около 14% (прирост группы B)"
   ]
  },
  {
   "cell_type": "markdown",
   "metadata": {},
   "source": [
    "**Посчитаем статистическую значимость различий в среднем чеке заказа между группами по «сырым» данным. Сделаем выводы и предположения.**"
   ]
  },
  {
   "cell_type": "markdown",
   "metadata": {},
   "source": [
    "***Гипотеза2: значение среднего чека в группах А и В по \"сырым\" данным отличается***"
   ]
  },
  {
   "cell_type": "markdown",
   "metadata": {},
   "source": [
    "Сформулируем нулевую и альтернативную гипотезы.\n",
    "\n",
    "**Нулевая гипотеза:** различий в среднем чеке в группах А и В по \"сырым\" данным нет.\n",
    "\n",
    "**Альтернативная гипотеза:** различия в среднем чеке в группах А и В по \"сырым\" данным есть."
   ]
  },
  {
   "cell_type": "markdown",
   "metadata": {},
   "source": [
    "Уровень значимости возьмем равный 5%."
   ]
  },
  {
   "cell_type": "markdown",
   "metadata": {},
   "source": [
    "Чтобы рассчитать статистическую значимость различий в среднем чеке между сегментами, передадим критерию mannwhitneyu() данные о выручке с заказов и найдём относительные различия в среднем чеке между группами:"
   ]
  },
  {
   "cell_type": "code",
   "execution_count": 41,
   "metadata": {},
   "outputs": [
    {
     "name": "stdout",
     "output_type": "stream",
     "text": [
      "P-value по конверсии для \"сырых\" данных: 0.729\n",
      "Не получилось отвергнуть нулевую гипотезу\n",
      "относительный прирост среднего чека группы B по \"сырым\" данным составляет: 0.259\n"
     ]
    }
   ],
   "source": [
    "alpha =0.05\n",
    "p_value_check = stats.mannwhitneyu(orders[orders['group']=='A']['revenue'], \n",
    "                                   orders[orders['group']=='B']['revenue'], \n",
    "                                   alternative = 'two-sided')[1].round(3)\n",
    "\n",
    "print('P-value по конверсии для \"сырых\" данных: {}'.format(p_value_check))\n",
    "if (p_value_check < alpha):\n",
    "    print(\"на 5% уровне значимости нулевая гипотеза отвергается\")\n",
    "else:\n",
    "    print(\"Не получилось отвергнуть нулевую гипотезу\")\n",
    "    \n",
    "\n",
    "print('относительный прирост среднего чека группы B по \"сырым\" данным составляет: {0:.3f}'.format(\n",
    "    orders[orders['group']=='B']['revenue'].mean()/orders[orders['group']=='A']['revenue'].mean()-1))\n",
    "\n",
    "\n",
    "\n",
    "\n"
   ]
  },
  {
   "cell_type": "markdown",
   "metadata": {},
   "source": [
    "Средний чек группы B почти на 26% выше среднего чека группы A, скорее всего это из-за аномальных данных."
   ]
  },
  {
   "cell_type": "markdown",
   "metadata": {},
   "source": [
    "**Посчитаем статистическую значимость различий в конверсии между группами по «очищенным» данным. Сделаем выводы и предположения.**"
   ]
  },
  {
   "cell_type": "markdown",
   "metadata": {},
   "source": [
    "За аномальных пользователей были приняты те, кто совершил более двух заказов или совершил заказ дороже 28000 рублей. Так мы уберём 5% пользователей с наибольшим числом заказов и с дорогими заказами.\n",
    "\n",
    "Сделаем срезы пользователей с числом заказов больше 2 — usersWithManyOrders и пользователей, совершивших заказы дороже 28000 — usersWithExpensiveOrders. Объединим их в таблице abnormalUsers. Узнаем, сколько всего аномальных пользователей методом shape()"
   ]
  },
  {
   "cell_type": "code",
   "execution_count": 42,
   "metadata": {},
   "outputs": [
    {
     "name": "stdout",
     "output_type": "stream",
     "text": [
      "1099    148427295\n",
      "18      199603092\n",
      "928     204675465\n",
      "23      237748145\n",
      "37      249864742\n",
      "dtype: int64\n",
      "Всего аномальных пользователей: (74,)\n"
     ]
    }
   ],
   "source": [
    "usersWithManyOrders = pd.concat(\n",
    "    [ordersByUsersA[ordersByUsersA['orders'] > 2]['userId'], \n",
    "     ordersByUsersB[ordersByUsersB['orders'] > 2]['userId']], \n",
    "    axis = 0\n",
    ")\n",
    "usersWithExpensiveOrders = orders[orders['revenue'] > 28000]['visitor_id']\n",
    "abnormalUsers = pd.concat(\n",
    "    [usersWithManyOrders, usersWithExpensiveOrders], \n",
    "    axis = 0\n",
    ").drop_duplicates().sort_values()\n",
    "print(abnormalUsers.head(5))\n",
    "print(\"Всего аномальных пользователей: {}\".format(abnormalUsers.shape))"
   ]
  },
  {
   "cell_type": "markdown",
   "metadata": {},
   "source": [
    "Всего 74 аномальных пользователя. Узнаем, как их действия повлияли на результаты теста. "
   ]
  },
  {
   "cell_type": "markdown",
   "metadata": {},
   "source": [
    "**Гипотеза3**: конверсии в группах А и В по \"очищенным\" данным отличаются.\n",
    "\n",
    "Сформулируем нулевую и альтернативную гипотезы.\n",
    "\n",
    "Нулевая гипотеза: конверсии в группах А и В по \"очищенным\" данным не отличаются.\n",
    "\n",
    "Альтернативная гипотеза: конверсии в группах А и В по \"очищенным\" данным отличаются.\n",
    "\n",
    "Уровень значимости возьмем равный 5%."
   ]
  },
  {
   "cell_type": "markdown",
   "metadata": {},
   "source": [
    "Посчитаем статистическую значимость различий в конверсии между группами теста по очищенным данным. Сначала подготовим выборки количества заказов по пользователям по группам теста:"
   ]
  },
  {
   "cell_type": "code",
   "execution_count": 43,
   "metadata": {},
   "outputs": [],
   "source": [
    "sampleAFiltered = pd.concat(\n",
    "    [\n",
    "        ordersByUsersA[np.logical_not(ordersByUsersA['userId'].isin(abnormalUsers))\n",
    "        ]['orders'],\n",
    "        pd.Series(\n",
    "            0, \n",
    "            index=np.arange(\n",
    "                data['visitorsPerDateA'].sum() - len(ordersByUsersA['orders'])\n",
    "            ),\n",
    "            name='orders'\n",
    "        )\n",
    "    ],\n",
    "    axis=0\n",
    ")\n",
    "sampleBFiltered = pd.concat(\n",
    "    [\n",
    "        ordersByUsersB[np.logical_not(ordersByUsersB['userId'].isin(abnormalUsers))\n",
    "        ]['orders'],\n",
    "        pd.Series(\n",
    "            0, \n",
    "            index=np.arange(\n",
    "                data['visitorsPerDateB'].sum() - len(ordersByUsersB['orders'])\n",
    "            ),name='orders'\n",
    "        )\n",
    "    ],\n",
    "    axis=0\n",
    ")"
   ]
  },
  {
   "cell_type": "markdown",
   "metadata": {},
   "source": [
    "Применим статистический критерий Манна-Уитни к полученным выборкам:"
   ]
  },
  {
   "cell_type": "code",
   "execution_count": 44,
   "metadata": {},
   "outputs": [],
   "source": [
    "#print(\"{0:.3f}\".format(stats.mannwhitneyu(sampleAFiltered, sampleBFiltered)[1]))\n",
    "#print(\"{0:.3f}\".format(sampleBFiltered.mean()/sampleAFiltered.mean()-1))"
   ]
  },
  {
   "cell_type": "code",
   "execution_count": 45,
   "metadata": {},
   "outputs": [
    {
     "name": "stdout",
     "output_type": "stream",
     "text": [
      "P-value по конверсии для \"очищенных\" данных: 0.013\n",
      "на 5% уровне значимости нулевая гипотеза отвергается\n",
      "относительный прирост конверсии группы B по \"очищенным\" данным составляет: 0.173\n"
     ]
    }
   ],
   "source": [
    "alpha =0.05\n",
    "p_value_conv_clean = stats.mannwhitneyu(sampleAFiltered, sampleBFiltered, alternative = 'two-sided')[1].round(3)\n",
    "\n",
    "print('P-value по конверсии для \"очищенных\" данных: {}'.format(p_value_conv_clean))\n",
    "if (p_value_conv_clean < alpha):\n",
    "    print(\"на 5% уровне значимости нулевая гипотеза отвергается\")\n",
    "else:\n",
    "    print(\"Не получилось отвергнуть нулевую гипотезу\")\n",
    "    \n",
    "\n",
    "print('относительный прирост конверсии группы B по \"очищенным\" данным составляет: {0:.3f}'.format(sampleBFiltered.mean()/sampleAFiltered.mean()-1))"
   ]
  },
  {
   "cell_type": "markdown",
   "metadata": {},
   "source": [
    "По очищенным данным есть статистически значимые различия в конверсии групп A и B. Относительный прирост конверсии группы B составлет 17,3%"
   ]
  },
  {
   "cell_type": "markdown",
   "metadata": {},
   "source": [
    "**Посчитаем статистическую значимость различий в среднем чеке заказа между группами по «очищенным» данным. Сделаем выводы и предположения.**"
   ]
  },
  {
   "cell_type": "markdown",
   "metadata": {},
   "source": [
    "**Гипотеза4**: значение среднего чека в группах А и В по \"очищенным\" данным отличается\n",
    "\n",
    "Сформулируем нулевую и альтернативную гипотезы.\n",
    "\n",
    "Нулевая гипотеза: различий в среднем чеке в группах А и В по \"очищенным\" данным нет.\n",
    "\n",
    "Альтернативная гипотеза: различия в среднем чеке в группах А и В по \"очищенным\" данным есть.\n",
    "\n",
    "Уровень значимости возьмем равный 5%."
   ]
  },
  {
   "cell_type": "code",
   "execution_count": 46,
   "metadata": {},
   "outputs": [
    {
     "name": "stdout",
     "output_type": "stream",
     "text": [
      "P-value по конверсии для \"очищенных\" данных: 0.738\n",
      "Не получилось отвергнуть нулевую гипотезу\n",
      "относительный прирост среднего чека группы B по \"очищенным\" данным составляет: -0.020\n"
     ]
    }
   ],
   "source": [
    "alpha =0.05\n",
    "p_value_check_clean = stats.mannwhitneyu(orders[np.logical_and(\n",
    "        orders['group']=='A',\n",
    "        np.logical_not(orders['visitor_id'].isin(abnormalUsers)))]['revenue'],\n",
    "    orders[np.logical_and(\n",
    "        orders['group']=='B',\n",
    "        np.logical_not(orders['visitor_id'].isin(abnormalUsers)))]['revenue'], \n",
    "                                   alternative = 'two-sided')[1].round(3)\n",
    "\n",
    "print('P-value по конверсии для \"очищенных\" данных: {}'.format(p_value_check_clean))\n",
    "if (p_value_check_clean < alpha):\n",
    "    print(\"на 5% уровне значимости нулевая гипотеза отвергается\")\n",
    "else:\n",
    "    print(\"Не получилось отвергнуть нулевую гипотезу\")\n",
    "    \n",
    "\n",
    "print('относительный прирост среднего чека группы B по \"очищенным\" данным составляет: {0:.3f}'.format(\n",
    "    orders[np.logical_and(\n",
    "        orders['group']=='B',\n",
    "            np.logical_not(orders['visitor_id'].isin(abnormalUsers)))]['revenue'].mean()/\n",
    "    orders[np.logical_and(\n",
    "        orders['group']=='A',\n",
    "        np.logical_not(orders['visitor_id'].isin(abnormalUsers)))]['revenue'].mean()-1))\n",
    "\n",
    "\n"
   ]
  },
  {
   "cell_type": "markdown",
   "metadata": {},
   "source": [
    "P-value практически не изменился, а разница между сегментами сильно изменилась. Очищенные данные показывают, что средний чек группы B немного уступает группе A, в то время как на сырых данных чек группы B был на 26% больше.\n",
    "\n",
    "По очищенным данным статистически значимых различий среднего чека между группами нет.\n",
    "\n",
    "Хотя статистической зачимости и нет, стоит отметить, что разница из положительной стала отрицательной - это дополнительно показывает вклад аномалии."
   ]
  },
  {
   "cell_type": "markdown",
   "metadata": {},
   "source": [
    "## Результаты A/B теста"
   ]
  },
  {
   "cell_type": "markdown",
   "metadata": {},
   "source": [
    "Есть статистически значимое различие по конверсии между группами как по сырым данным, так и после фильтрации аномалий.\n",
    "\n",
    "Как по сырым, так и по очищенным данным нет статистически значимого различия по среднему чеку между группами.\n",
    "\n",
    "График различия конверсии между группами сообщает, что результаты группы B лучше группы A: имеют тенденцию к росту и практически зафиксировались.\n",
    "\n",
    "График различия среднего чека колеблется. Сделать из этого графика определённые выводы нельзя."
   ]
  },
  {
   "cell_type": "markdown",
   "metadata": {},
   "source": [
    "## Решение"
   ]
  },
  {
   "cell_type": "markdown",
   "metadata": {},
   "source": [
    "Тест можно остановить и считать успешно пройденным. Фиксируем победу группы B. \n",
    "\n",
    "Такое решение мы принимаем, потому что анализ показывает наличие статистически значимого различия по конверсии между группами, относительный прирост конверсии группы В составил 17,3%,  хотя конверсия по среднему чеку не имеет значимых различий между группами."
   ]
  },
  {
   "cell_type": "markdown",
   "metadata": {},
   "source": [
    "## Общий вывод."
   ]
  },
  {
   "cell_type": "markdown",
   "metadata": {},
   "source": [
    "В проекте проанализированы таблицы, содержащие 9 гипотез по увеличению выручки интернет-магазина с указанными параметрами Reach, Impact, Confidence, Effort и полученные результаты A/B-теста. Все таблицы корректно загружены, пропусков не обнаружено. Преобразованы названия полей, а также приведены типы данных, проведена проверка на наличие дубликатов,  дубликатов не обнаружено. Выявлены пользователи, попавшие в две группы  А\\В-теста. Их оказалось 58. На результаты А/В-теста они, на мой взгляд, не повлияли потому, что в рамках этого A/B теста не пользователей, а сесии разделяли на группы."
   ]
  },
  {
   "cell_type": "markdown",
   "metadata": {},
   "source": [
    "В процессе приоритизации 9 гипотез по увеличению выручки интернет-магазина было выявлено, что \n",
    "при применении фреймворка ICE и фреймворка RICE наиболее перспективными являютя гипотезы:\n",
    "\n",
    "-Добавить форму подписки на все основные страницы, чтобы собрать базу клиентов для email-рассылок\n",
    "\n",
    "-Добавить два новых канала привлечения трафика, что позволит привлекать на 30% больше пользователей\n",
    "\n",
    "\n",
    "Самой бесперспективной оказалась гипотеза:\n",
    "\n",
    "-Изменить цвет фона главной страницы, чтобы увеличить вовлеченность пользователей"
   ]
  },
  {
   "cell_type": "markdown",
   "metadata": {},
   "source": [
    "Также проведен анализ результатов А\\В теста, который показал, что чаще всего пользователи заказывают 1-2 раза, суммы заказов не более 28000. Поэтому пользователи, у которых более 2 сессий или заказ дороже 28000 были отнесены к \"аномальным\". Таких оказалось 74.\n"
   ]
  },
  {
   "cell_type": "markdown",
   "metadata": {},
   "source": [
    "Проведена проверка гипотез о наличии различий в конверсии между группами А и В как по сырым данным, так и после фильтрации аномалий. Гипотезы подтвердились. Относительный прирост конверсии группы B по \"сырым\" данным составил 13,8%, а по \"очищенным\" - 17,3%.\n",
    "\n",
    "Выдвинутые гипотезы о различии среднего чека по группам не подтвердились, как для \"сырых\", так идля \"очищенных\" данных А/В-теста.\n",
    "Из-за аномальных покупателей средний чек группы B почти на 26% был выше среднего чека группы А."
   ]
  },
  {
   "cell_type": "markdown",
   "metadata": {},
   "source": [
    "Построен график различия конверсии между группами. Очевидно, что результаты группы B лучше группы A: имеют тенденцию к росту и практически зафиксировались.\n",
    "\n",
    "График различия среднего чека колеблется. Сделать из этого графика определённые выводы нельзя."
   ]
  },
  {
   "cell_type": "markdown",
   "metadata": {},
   "source": [
    "В результате проведенного А\\В- теста побеждает группа В. Тест можно остановить и считать успешно пройденным."
   ]
  },
  {
   "cell_type": "code",
   "execution_count": null,
   "metadata": {},
   "outputs": [],
   "source": []
  }
 ],
 "metadata": {
  "ExecuteTimeLog": [
   {
    "duration": 1827,
    "start_time": "2021-08-29T17:07:25.614Z"
   },
   {
    "duration": 162,
    "start_time": "2021-08-29T17:11:27.841Z"
   },
   {
    "duration": 16,
    "start_time": "2021-08-29T17:12:49.561Z"
   },
   {
    "duration": 9,
    "start_time": "2021-08-29T17:15:12.725Z"
   },
   {
    "duration": 4,
    "start_time": "2021-08-29T17:23:51.521Z"
   },
   {
    "duration": 14,
    "start_time": "2021-08-29T17:42:11.448Z"
   },
   {
    "duration": 11,
    "start_time": "2021-08-29T17:43:20.832Z"
   },
   {
    "duration": 10,
    "start_time": "2021-08-29T17:43:39.703Z"
   },
   {
    "duration": 16,
    "start_time": "2021-08-29T17:48:01.528Z"
   },
   {
    "duration": 6,
    "start_time": "2021-08-29T18:00:00.892Z"
   },
   {
    "duration": 9,
    "start_time": "2021-08-29T18:02:34.359Z"
   },
   {
    "duration": 16,
    "start_time": "2021-08-29T18:03:12.419Z"
   },
   {
    "duration": 6,
    "start_time": "2021-08-29T18:07:33.383Z"
   },
   {
    "duration": 14,
    "start_time": "2021-08-29T18:09:19.120Z"
   },
   {
    "duration": 20,
    "start_time": "2021-08-29T18:24:15.935Z"
   },
   {
    "duration": 99,
    "start_time": "2021-08-29T18:28:20.883Z"
   },
   {
    "duration": 16,
    "start_time": "2021-08-29T18:28:39.703Z"
   },
   {
    "duration": 2354,
    "start_time": "2021-08-29T18:30:08.871Z"
   },
   {
    "duration": 4733,
    "start_time": "2021-08-29T18:30:06.496Z"
   },
   {
    "duration": 4728,
    "start_time": "2021-08-29T18:30:06.502Z"
   },
   {
    "duration": 4725,
    "start_time": "2021-08-29T18:30:06.506Z"
   },
   {
    "duration": 4724,
    "start_time": "2021-08-29T18:30:06.509Z"
   },
   {
    "duration": 4721,
    "start_time": "2021-08-29T18:30:06.513Z"
   },
   {
    "duration": 4719,
    "start_time": "2021-08-29T18:30:06.516Z"
   },
   {
    "duration": 4718,
    "start_time": "2021-08-29T18:30:06.519Z"
   },
   {
    "duration": 4716,
    "start_time": "2021-08-29T18:30:06.523Z"
   },
   {
    "duration": 4715,
    "start_time": "2021-08-29T18:30:06.526Z"
   },
   {
    "duration": 4706,
    "start_time": "2021-08-29T18:30:06.536Z"
   },
   {
    "duration": 4705,
    "start_time": "2021-08-29T18:30:06.539Z"
   },
   {
    "duration": 4703,
    "start_time": "2021-08-29T18:30:06.542Z"
   },
   {
    "duration": 4703,
    "start_time": "2021-08-29T18:30:06.544Z"
   },
   {
    "duration": 7,
    "start_time": "2021-08-29T18:31:41.503Z"
   },
   {
    "duration": 1827,
    "start_time": "2021-08-29T18:31:49.795Z"
   },
   {
    "duration": 108,
    "start_time": "2021-08-29T18:31:51.625Z"
   },
   {
    "duration": 15,
    "start_time": "2021-08-29T18:31:51.736Z"
   },
   {
    "duration": 11,
    "start_time": "2021-08-29T18:31:51.754Z"
   },
   {
    "duration": 13,
    "start_time": "2021-08-29T18:31:51.767Z"
   },
   {
    "duration": 12,
    "start_time": "2021-08-29T18:31:51.782Z"
   },
   {
    "duration": 8,
    "start_time": "2021-08-29T18:31:51.797Z"
   },
   {
    "duration": 7,
    "start_time": "2021-08-29T18:31:51.810Z"
   },
   {
    "duration": 47,
    "start_time": "2021-08-29T18:31:51.820Z"
   },
   {
    "duration": 10,
    "start_time": "2021-08-29T18:31:51.869Z"
   },
   {
    "duration": 12,
    "start_time": "2021-08-29T18:31:51.881Z"
   },
   {
    "duration": 6,
    "start_time": "2021-08-29T18:31:51.896Z"
   },
   {
    "duration": 15,
    "start_time": "2021-08-29T18:31:51.904Z"
   },
   {
    "duration": 52,
    "start_time": "2021-08-29T18:31:51.922Z"
   },
   {
    "duration": 16,
    "start_time": "2021-08-29T18:34:28.707Z"
   },
   {
    "duration": 16,
    "start_time": "2021-08-29T20:22:48.117Z"
   },
   {
    "duration": 1826,
    "start_time": "2021-08-29T21:13:56.493Z"
   },
   {
    "duration": 63,
    "start_time": "2021-08-29T21:13:58.322Z"
   },
   {
    "duration": 16,
    "start_time": "2021-08-29T21:13:58.387Z"
   },
   {
    "duration": 20,
    "start_time": "2021-08-29T21:13:58.405Z"
   },
   {
    "duration": 19,
    "start_time": "2021-08-29T21:13:58.427Z"
   },
   {
    "duration": 20,
    "start_time": "2021-08-29T21:13:58.449Z"
   },
   {
    "duration": 8,
    "start_time": "2021-08-29T21:13:58.473Z"
   },
   {
    "duration": 7,
    "start_time": "2021-08-29T21:13:58.485Z"
   },
   {
    "duration": 11,
    "start_time": "2021-08-29T21:13:58.495Z"
   },
   {
    "duration": 10,
    "start_time": "2021-08-29T21:13:58.509Z"
   },
   {
    "duration": 42,
    "start_time": "2021-08-29T21:13:58.522Z"
   },
   {
    "duration": 9,
    "start_time": "2021-08-29T21:13:58.566Z"
   },
   {
    "duration": 17,
    "start_time": "2021-08-29T21:13:58.577Z"
   },
   {
    "duration": 18,
    "start_time": "2021-08-29T21:13:58.596Z"
   },
   {
    "duration": 47,
    "start_time": "2021-08-29T21:13:58.617Z"
   },
   {
    "duration": 16,
    "start_time": "2021-08-29T21:13:58.666Z"
   },
   {
    "duration": 1929,
    "start_time": "2021-08-31T09:05:12.442Z"
   },
   {
    "duration": 115,
    "start_time": "2021-08-31T09:05:14.374Z"
   },
   {
    "duration": 16,
    "start_time": "2021-08-31T09:05:14.492Z"
   },
   {
    "duration": 9,
    "start_time": "2021-08-31T09:05:14.510Z"
   },
   {
    "duration": 13,
    "start_time": "2021-08-31T09:05:14.521Z"
   },
   {
    "duration": 13,
    "start_time": "2021-08-31T09:05:14.537Z"
   },
   {
    "duration": 8,
    "start_time": "2021-08-31T09:05:14.553Z"
   },
   {
    "duration": 7,
    "start_time": "2021-08-31T09:05:14.565Z"
   },
   {
    "duration": 43,
    "start_time": "2021-08-31T09:05:14.575Z"
   },
   {
    "duration": 9,
    "start_time": "2021-08-31T09:05:14.621Z"
   },
   {
    "duration": 11,
    "start_time": "2021-08-31T09:05:14.632Z"
   },
   {
    "duration": 7,
    "start_time": "2021-08-31T09:05:14.646Z"
   },
   {
    "duration": 17,
    "start_time": "2021-08-31T09:05:14.655Z"
   },
   {
    "duration": 58,
    "start_time": "2021-08-31T09:05:14.674Z"
   },
   {
    "duration": 16,
    "start_time": "2021-08-31T09:05:14.734Z"
   },
   {
    "duration": 21,
    "start_time": "2021-08-31T09:05:14.753Z"
   },
   {
    "duration": 8394,
    "start_time": "2021-08-31T09:05:14.777Z"
   },
   {
    "duration": 585,
    "start_time": "2021-08-31T09:09:32.664Z"
   },
   {
    "duration": 490,
    "start_time": "2021-08-31T09:11:09.365Z"
   },
   {
    "duration": 416,
    "start_time": "2021-08-31T09:15:40.703Z"
   },
   {
    "duration": 120,
    "start_time": "2021-08-31T09:22:54.405Z"
   },
   {
    "duration": 415,
    "start_time": "2021-08-31T09:23:07.801Z"
   },
   {
    "duration": 515,
    "start_time": "2021-08-31T09:32:21.193Z"
   },
   {
    "duration": 524,
    "start_time": "2021-08-31T09:33:37.697Z"
   },
   {
    "duration": 544,
    "start_time": "2021-08-31T09:37:27.214Z"
   },
   {
    "duration": 518,
    "start_time": "2021-08-31T09:39:13.902Z"
   },
   {
    "duration": 514,
    "start_time": "2021-08-31T09:40:35.413Z"
   },
   {
    "duration": 2389,
    "start_time": "2021-08-31T09:42:12.883Z"
   },
   {
    "duration": 129,
    "start_time": "2021-08-31T09:42:15.276Z"
   },
   {
    "duration": 18,
    "start_time": "2021-08-31T09:42:15.407Z"
   },
   {
    "duration": 12,
    "start_time": "2021-08-31T09:42:15.429Z"
   },
   {
    "duration": 15,
    "start_time": "2021-08-31T09:42:15.444Z"
   },
   {
    "duration": 15,
    "start_time": "2021-08-31T09:42:15.461Z"
   },
   {
    "duration": 42,
    "start_time": "2021-08-31T09:42:15.479Z"
   },
   {
    "duration": 11,
    "start_time": "2021-08-31T09:42:15.525Z"
   },
   {
    "duration": 7,
    "start_time": "2021-08-31T09:42:15.539Z"
   },
   {
    "duration": 17,
    "start_time": "2021-08-31T09:42:15.549Z"
   },
   {
    "duration": 14,
    "start_time": "2021-08-31T09:42:15.568Z"
   },
   {
    "duration": 35,
    "start_time": "2021-08-31T09:42:15.585Z"
   },
   {
    "duration": 18,
    "start_time": "2021-08-31T09:42:15.623Z"
   },
   {
    "duration": 18,
    "start_time": "2021-08-31T09:42:15.645Z"
   },
   {
    "duration": 52,
    "start_time": "2021-08-31T09:42:15.665Z"
   },
   {
    "duration": 21,
    "start_time": "2021-08-31T09:42:15.719Z"
   },
   {
    "duration": 649,
    "start_time": "2021-08-31T09:42:15.743Z"
   },
   {
    "duration": 113,
    "start_time": "2021-08-31T09:42:16.394Z"
   },
   {
    "duration": 7054,
    "start_time": "2021-08-31T09:42:09.456Z"
   },
   {
    "duration": 7050,
    "start_time": "2021-08-31T09:42:09.461Z"
   },
   {
    "duration": 7050,
    "start_time": "2021-08-31T09:42:09.463Z"
   },
   {
    "duration": 451,
    "start_time": "2021-08-31T09:43:01.705Z"
   },
   {
    "duration": 428,
    "start_time": "2021-08-31T09:43:06.702Z"
   },
   {
    "duration": 531,
    "start_time": "2021-08-31T09:43:12.350Z"
   },
   {
    "duration": 514,
    "start_time": "2021-08-31T09:43:36.053Z"
   },
   {
    "duration": 486,
    "start_time": "2021-08-31T09:43:58.543Z"
   },
   {
    "duration": 8,
    "start_time": "2021-08-31T10:27:46.545Z"
   },
   {
    "duration": 7,
    "start_time": "2021-08-31T10:29:01.225Z"
   },
   {
    "duration": 7,
    "start_time": "2021-08-31T10:29:33.816Z"
   },
   {
    "duration": 8,
    "start_time": "2021-08-31T10:29:38.115Z"
   },
   {
    "duration": 418,
    "start_time": "2021-08-31T10:30:12.481Z"
   },
   {
    "duration": 419,
    "start_time": "2021-08-31T10:31:17.616Z"
   },
   {
    "duration": 572,
    "start_time": "2021-08-31T11:08:22.447Z"
   },
   {
    "duration": 201,
    "start_time": "2021-08-31T11:27:11.894Z"
   },
   {
    "duration": 360,
    "start_time": "2021-08-31T11:28:26.397Z"
   },
   {
    "duration": 286,
    "start_time": "2021-08-31T11:31:49.637Z"
   },
   {
    "duration": 287,
    "start_time": "2021-08-31T11:32:03.135Z"
   },
   {
    "duration": 383,
    "start_time": "2021-08-31T11:47:32.921Z"
   },
   {
    "duration": 7,
    "start_time": "2021-08-31T11:53:36.657Z"
   },
   {
    "duration": 5,
    "start_time": "2021-08-31T12:39:59.796Z"
   },
   {
    "duration": 114,
    "start_time": "2021-08-31T12:43:52.829Z"
   },
   {
    "duration": 11,
    "start_time": "2021-08-31T12:49:13.655Z"
   },
   {
    "duration": 277,
    "start_time": "2021-08-31T12:49:59.983Z"
   },
   {
    "duration": 428,
    "start_time": "2021-08-31T12:50:39.302Z"
   },
   {
    "duration": 505,
    "start_time": "2021-08-31T12:53:13.180Z"
   },
   {
    "duration": 6,
    "start_time": "2021-08-31T12:53:25.192Z"
   },
   {
    "duration": 8366,
    "start_time": "2021-08-31T12:58:34.921Z"
   },
   {
    "duration": 470,
    "start_time": "2021-08-31T12:59:13.121Z"
   },
   {
    "duration": 117,
    "start_time": "2021-08-31T13:00:24.978Z"
   },
   {
    "duration": 108,
    "start_time": "2021-08-31T13:00:56.440Z"
   },
   {
    "duration": 246,
    "start_time": "2021-08-31T13:01:13.696Z"
   },
   {
    "duration": 8,
    "start_time": "2021-08-31T13:02:23.544Z"
   },
   {
    "duration": 512,
    "start_time": "2021-08-31T13:04:00.921Z"
   },
   {
    "duration": 547,
    "start_time": "2021-08-31T13:04:34.391Z"
   },
   {
    "duration": 2153,
    "start_time": "2021-08-31T13:05:58.234Z"
   },
   {
    "duration": 97,
    "start_time": "2021-08-31T13:06:00.390Z"
   },
   {
    "duration": 16,
    "start_time": "2021-08-31T13:06:00.490Z"
   },
   {
    "duration": 13,
    "start_time": "2021-08-31T13:06:00.509Z"
   },
   {
    "duration": 26,
    "start_time": "2021-08-31T13:06:00.524Z"
   },
   {
    "duration": 27,
    "start_time": "2021-08-31T13:06:00.553Z"
   },
   {
    "duration": 21,
    "start_time": "2021-08-31T13:06:00.583Z"
   },
   {
    "duration": 30,
    "start_time": "2021-08-31T13:06:00.608Z"
   },
   {
    "duration": 19,
    "start_time": "2021-08-31T13:06:00.642Z"
   },
   {
    "duration": 29,
    "start_time": "2021-08-31T13:06:00.663Z"
   },
   {
    "duration": 22,
    "start_time": "2021-08-31T13:06:00.695Z"
   },
   {
    "duration": 23,
    "start_time": "2021-08-31T13:06:00.720Z"
   },
   {
    "duration": 36,
    "start_time": "2021-08-31T13:06:00.746Z"
   },
   {
    "duration": 50,
    "start_time": "2021-08-31T13:06:00.784Z"
   },
   {
    "duration": 19,
    "start_time": "2021-08-31T13:06:00.837Z"
   },
   {
    "duration": 34,
    "start_time": "2021-08-31T13:06:00.859Z"
   },
   {
    "duration": 624,
    "start_time": "2021-08-31T13:06:00.895Z"
   },
   {
    "duration": 455,
    "start_time": "2021-08-31T13:06:01.521Z"
   },
   {
    "duration": 452,
    "start_time": "2021-08-31T13:06:01.979Z"
   },
   {
    "duration": 503,
    "start_time": "2021-08-31T13:06:02.434Z"
   },
   {
    "duration": 8,
    "start_time": "2021-08-31T13:06:02.939Z"
   },
   {
    "duration": 448,
    "start_time": "2021-08-31T13:06:02.949Z"
   },
   {
    "duration": 519,
    "start_time": "2021-08-31T13:06:03.402Z"
   },
   {
    "duration": 237,
    "start_time": "2021-08-31T13:06:03.923Z"
   },
   {
    "duration": 317,
    "start_time": "2021-08-31T13:06:04.162Z"
   },
   {
    "duration": 552,
    "start_time": "2021-08-31T13:06:04.482Z"
   },
   {
    "duration": 7,
    "start_time": "2021-08-31T13:06:05.037Z"
   },
   {
    "duration": 16,
    "start_time": "2021-08-31T13:06:05.046Z"
   },
   {
    "duration": 333,
    "start_time": "2021-08-31T13:06:05.064Z"
   },
   {
    "duration": 420,
    "start_time": "2021-08-31T13:06:05.400Z"
   },
   {
    "duration": 6,
    "start_time": "2021-08-31T13:06:05.823Z"
   },
   {
    "duration": 498,
    "start_time": "2021-08-31T13:06:05.832Z"
   },
   {
    "duration": 233,
    "start_time": "2021-08-31T13:06:06.332Z"
   },
   {
    "duration": 8,
    "start_time": "2021-08-31T13:06:06.567Z"
   },
   {
    "duration": 217,
    "start_time": "2021-08-31T13:06:06.577Z"
   },
   {
    "duration": 16,
    "start_time": "2021-08-31T13:13:44.966Z"
   },
   {
    "duration": 21,
    "start_time": "2021-08-31T13:21:26.616Z"
   },
   {
    "duration": 17,
    "start_time": "2021-08-31T13:26:36.506Z"
   },
   {
    "duration": 13,
    "start_time": "2021-08-31T13:27:28.208Z"
   },
   {
    "duration": 9082,
    "start_time": "2021-08-31T13:30:18.007Z"
   },
   {
    "duration": 21,
    "start_time": "2021-08-31T13:30:49.663Z"
   },
   {
    "duration": 1929,
    "start_time": "2021-08-31T13:41:06.969Z"
   },
   {
    "duration": 85,
    "start_time": "2021-08-31T13:41:08.900Z"
   },
   {
    "duration": 18,
    "start_time": "2021-08-31T13:41:08.989Z"
   },
   {
    "duration": 11,
    "start_time": "2021-08-31T13:41:09.011Z"
   },
   {
    "duration": 19,
    "start_time": "2021-08-31T13:41:09.025Z"
   },
   {
    "duration": 14,
    "start_time": "2021-08-31T13:41:09.047Z"
   },
   {
    "duration": 12,
    "start_time": "2021-08-31T13:41:09.063Z"
   },
   {
    "duration": 8,
    "start_time": "2021-08-31T13:41:09.115Z"
   },
   {
    "duration": 8,
    "start_time": "2021-08-31T13:41:09.127Z"
   },
   {
    "duration": 13,
    "start_time": "2021-08-31T13:41:09.138Z"
   },
   {
    "duration": 12,
    "start_time": "2021-08-31T13:41:09.154Z"
   },
   {
    "duration": 48,
    "start_time": "2021-08-31T13:41:09.169Z"
   },
   {
    "duration": 18,
    "start_time": "2021-08-31T13:41:09.219Z"
   },
   {
    "duration": 18,
    "start_time": "2021-08-31T13:41:09.239Z"
   },
   {
    "duration": 15,
    "start_time": "2021-08-31T13:41:09.259Z"
   },
   {
    "duration": 49,
    "start_time": "2021-08-31T13:41:09.276Z"
   },
   {
    "duration": 652,
    "start_time": "2021-08-31T13:41:09.327Z"
   },
   {
    "duration": 455,
    "start_time": "2021-08-31T13:41:09.982Z"
   },
   {
    "duration": 430,
    "start_time": "2021-08-31T13:41:10.439Z"
   },
   {
    "duration": 592,
    "start_time": "2021-08-31T13:41:10.871Z"
   },
   {
    "duration": 10,
    "start_time": "2021-08-31T13:41:11.465Z"
   },
   {
    "duration": 439,
    "start_time": "2021-08-31T13:41:11.477Z"
   },
   {
    "duration": 495,
    "start_time": "2021-08-31T13:41:11.921Z"
   },
   {
    "duration": 201,
    "start_time": "2021-08-31T13:41:12.419Z"
   },
   {
    "duration": 405,
    "start_time": "2021-08-31T13:41:12.622Z"
   },
   {
    "duration": 499,
    "start_time": "2021-08-31T13:41:13.029Z"
   },
   {
    "duration": 6,
    "start_time": "2021-08-31T13:41:13.531Z"
   },
   {
    "duration": 14,
    "start_time": "2021-08-31T13:41:13.540Z"
   },
   {
    "duration": 320,
    "start_time": "2021-08-31T13:41:13.557Z"
   },
   {
    "duration": 431,
    "start_time": "2021-08-31T13:41:13.880Z"
   },
   {
    "duration": 5,
    "start_time": "2021-08-31T13:41:14.313Z"
   },
   {
    "duration": 546,
    "start_time": "2021-08-31T13:41:14.321Z"
   },
   {
    "duration": 274,
    "start_time": "2021-08-31T13:41:14.869Z"
   },
   {
    "duration": 8,
    "start_time": "2021-08-31T13:41:15.145Z"
   },
   {
    "duration": 220,
    "start_time": "2021-08-31T13:41:15.155Z"
   },
   {
    "duration": 17,
    "start_time": "2021-08-31T13:41:15.378Z"
   },
   {
    "duration": 31,
    "start_time": "2021-08-31T13:41:15.397Z"
   },
   {
    "duration": 15,
    "start_time": "2021-08-31T13:41:15.431Z"
   },
   {
    "duration": 14,
    "start_time": "2021-08-31T13:41:15.448Z"
   },
   {
    "duration": 63,
    "start_time": "2021-08-31T13:41:15.464Z"
   },
   {
    "duration": 274,
    "start_time": "2021-08-31T15:48:32.631Z"
   },
   {
    "duration": 9,
    "start_time": "2021-08-31T16:04:12.224Z"
   },
   {
    "duration": 298,
    "start_time": "2021-08-31T16:07:28.384Z"
   },
   {
    "duration": 1999,
    "start_time": "2021-08-31T16:07:57.585Z"
   },
   {
    "duration": 81,
    "start_time": "2021-08-31T16:07:59.587Z"
   },
   {
    "duration": 25,
    "start_time": "2021-08-31T16:07:59.673Z"
   },
   {
    "duration": 12,
    "start_time": "2021-08-31T16:07:59.701Z"
   },
   {
    "duration": 19,
    "start_time": "2021-08-31T16:07:59.716Z"
   },
   {
    "duration": 11,
    "start_time": "2021-08-31T16:07:59.738Z"
   },
   {
    "duration": 9,
    "start_time": "2021-08-31T16:07:59.752Z"
   },
   {
    "duration": 7,
    "start_time": "2021-08-31T16:07:59.764Z"
   },
   {
    "duration": 41,
    "start_time": "2021-08-31T16:07:59.774Z"
   },
   {
    "duration": 8,
    "start_time": "2021-08-31T16:07:59.818Z"
   },
   {
    "duration": 12,
    "start_time": "2021-08-31T16:07:59.828Z"
   },
   {
    "duration": 18,
    "start_time": "2021-08-31T16:07:59.842Z"
   },
   {
    "duration": 17,
    "start_time": "2021-08-31T16:07:59.863Z"
   },
   {
    "duration": 51,
    "start_time": "2021-08-31T16:07:59.882Z"
   },
   {
    "duration": 17,
    "start_time": "2021-08-31T16:07:59.936Z"
   },
   {
    "duration": 19,
    "start_time": "2021-08-31T16:07:59.955Z"
   },
   {
    "duration": 646,
    "start_time": "2021-08-31T16:07:59.976Z"
   },
   {
    "duration": 453,
    "start_time": "2021-08-31T16:08:00.624Z"
   },
   {
    "duration": 430,
    "start_time": "2021-08-31T16:08:01.080Z"
   },
   {
    "duration": 508,
    "start_time": "2021-08-31T16:08:01.516Z"
   },
   {
    "duration": 8,
    "start_time": "2021-08-31T16:08:02.026Z"
   },
   {
    "duration": 458,
    "start_time": "2021-08-31T16:08:02.036Z"
   },
   {
    "duration": 503,
    "start_time": "2021-08-31T16:08:02.499Z"
   },
   {
    "duration": 227,
    "start_time": "2021-08-31T16:08:03.005Z"
   },
   {
    "duration": 306,
    "start_time": "2021-08-31T16:08:03.234Z"
   },
   {
    "duration": 475,
    "start_time": "2021-08-31T16:08:03.543Z"
   },
   {
    "duration": 6,
    "start_time": "2021-08-31T16:08:04.021Z"
   },
   {
    "duration": 19,
    "start_time": "2021-08-31T16:08:04.029Z"
   },
   {
    "duration": 321,
    "start_time": "2021-08-31T16:08:04.051Z"
   },
   {
    "duration": 420,
    "start_time": "2021-08-31T16:08:04.375Z"
   },
   {
    "duration": 7,
    "start_time": "2021-08-31T16:08:04.798Z"
   },
   {
    "duration": 503,
    "start_time": "2021-08-31T16:08:04.818Z"
   },
   {
    "duration": 231,
    "start_time": "2021-08-31T16:08:05.324Z"
   },
   {
    "duration": 10,
    "start_time": "2021-08-31T16:08:05.558Z"
   },
   {
    "duration": 229,
    "start_time": "2021-08-31T16:08:05.570Z"
   },
   {
    "duration": 25,
    "start_time": "2021-08-31T16:08:05.802Z"
   },
   {
    "duration": 13,
    "start_time": "2021-08-31T16:08:05.830Z"
   },
   {
    "duration": 13,
    "start_time": "2021-08-31T16:08:05.846Z"
   },
   {
    "duration": 10,
    "start_time": "2021-08-31T16:08:05.861Z"
   },
   {
    "duration": 58,
    "start_time": "2021-08-31T16:08:05.873Z"
   },
   {
    "duration": 436,
    "start_time": "2021-08-31T16:14:25.783Z"
   },
   {
    "duration": 14,
    "start_time": "2021-08-31T16:40:34.190Z"
   },
   {
    "duration": 20,
    "start_time": "2021-08-31T16:44:30.780Z"
   },
   {
    "duration": 21,
    "start_time": "2021-08-31T16:45:44.274Z"
   },
   {
    "duration": 14,
    "start_time": "2021-08-31T17:01:21.144Z"
   },
   {
    "duration": 15,
    "start_time": "2021-08-31T17:02:00.225Z"
   },
   {
    "duration": 14,
    "start_time": "2021-08-31T17:02:17.673Z"
   },
   {
    "duration": 1964,
    "start_time": "2021-08-31T17:04:15.024Z"
   },
   {
    "duration": 74,
    "start_time": "2021-08-31T17:04:16.991Z"
   },
   {
    "duration": 15,
    "start_time": "2021-08-31T17:04:17.072Z"
   },
   {
    "duration": 8,
    "start_time": "2021-08-31T17:04:17.090Z"
   },
   {
    "duration": 12,
    "start_time": "2021-08-31T17:04:17.100Z"
   },
   {
    "duration": 12,
    "start_time": "2021-08-31T17:04:17.114Z"
   },
   {
    "duration": 9,
    "start_time": "2021-08-31T17:04:17.129Z"
   },
   {
    "duration": 7,
    "start_time": "2021-08-31T17:04:17.141Z"
   },
   {
    "duration": 6,
    "start_time": "2021-08-31T17:04:17.151Z"
   },
   {
    "duration": 13,
    "start_time": "2021-08-31T17:04:17.159Z"
   },
   {
    "duration": 15,
    "start_time": "2021-08-31T17:04:17.174Z"
   },
   {
    "duration": 29,
    "start_time": "2021-08-31T17:04:17.191Z"
   },
   {
    "duration": 17,
    "start_time": "2021-08-31T17:04:17.223Z"
   },
   {
    "duration": 18,
    "start_time": "2021-08-31T17:04:17.242Z"
   },
   {
    "duration": 60,
    "start_time": "2021-08-31T17:04:17.262Z"
   },
   {
    "duration": 16,
    "start_time": "2021-08-31T17:04:17.325Z"
   },
   {
    "duration": 627,
    "start_time": "2021-08-31T17:04:17.344Z"
   },
   {
    "duration": 442,
    "start_time": "2021-08-31T17:04:17.974Z"
   },
   {
    "duration": 412,
    "start_time": "2021-08-31T17:04:18.418Z"
   },
   {
    "duration": 498,
    "start_time": "2021-08-31T17:04:18.833Z"
   },
   {
    "duration": 8,
    "start_time": "2021-08-31T17:04:19.333Z"
   },
   {
    "duration": 432,
    "start_time": "2021-08-31T17:04:19.347Z"
   },
   {
    "duration": 502,
    "start_time": "2021-08-31T17:04:19.782Z"
   },
   {
    "duration": 201,
    "start_time": "2021-08-31T17:04:20.286Z"
   },
   {
    "duration": 292,
    "start_time": "2021-08-31T17:04:20.489Z"
   },
   {
    "duration": 510,
    "start_time": "2021-08-31T17:04:20.783Z"
   },
   {
    "duration": 5,
    "start_time": "2021-08-31T17:04:21.295Z"
   },
   {
    "duration": 20,
    "start_time": "2021-08-31T17:04:21.302Z"
   },
   {
    "duration": 329,
    "start_time": "2021-08-31T17:04:21.325Z"
   },
   {
    "duration": 411,
    "start_time": "2021-08-31T17:04:21.657Z"
   },
   {
    "duration": 6,
    "start_time": "2021-08-31T17:04:22.070Z"
   },
   {
    "duration": 484,
    "start_time": "2021-08-31T17:04:22.079Z"
   },
   {
    "duration": 215,
    "start_time": "2021-08-31T17:04:22.566Z"
   },
   {
    "duration": 8,
    "start_time": "2021-08-31T17:04:22.783Z"
   },
   {
    "duration": 238,
    "start_time": "2021-08-31T17:04:22.793Z"
   },
   {
    "duration": 14,
    "start_time": "2021-08-31T17:04:23.033Z"
   },
   {
    "duration": 14,
    "start_time": "2021-08-31T17:04:23.049Z"
   },
   {
    "duration": 11,
    "start_time": "2021-08-31T17:04:23.066Z"
   },
   {
    "duration": 43,
    "start_time": "2021-08-31T17:04:23.080Z"
   },
   {
    "duration": 21,
    "start_time": "2021-08-31T17:04:23.125Z"
   },
   {
    "duration": 9,
    "start_time": "2021-08-31T17:06:13.267Z"
   },
   {
    "duration": 9,
    "start_time": "2021-08-31T17:06:59.716Z"
   },
   {
    "duration": 508,
    "start_time": "2021-08-31T17:07:49.085Z"
   },
   {
    "duration": 113,
    "start_time": "2021-08-31T17:09:32.243Z"
   },
   {
    "duration": 107,
    "start_time": "2021-08-31T17:10:00.155Z"
   },
   {
    "duration": 112,
    "start_time": "2021-08-31T17:10:18.548Z"
   },
   {
    "duration": 257,
    "start_time": "2021-08-31T17:10:42.899Z"
   },
   {
    "duration": 227,
    "start_time": "2021-08-31T17:13:04.400Z"
   },
   {
    "duration": 226,
    "start_time": "2021-08-31T17:13:28.810Z"
   },
   {
    "duration": 222,
    "start_time": "2021-08-31T17:14:38.079Z"
   },
   {
    "duration": 213,
    "start_time": "2021-08-31T17:14:52.567Z"
   },
   {
    "duration": 499,
    "start_time": "2021-08-31T17:17:43.322Z"
   },
   {
    "duration": 526,
    "start_time": "2021-08-31T17:18:38.086Z"
   },
   {
    "duration": 653,
    "start_time": "2021-08-31T17:20:42.852Z"
   },
   {
    "duration": 115,
    "start_time": "2021-08-31T17:23:05.250Z"
   },
   {
    "duration": 657,
    "start_time": "2021-08-31T17:26:01.131Z"
   },
   {
    "duration": 633,
    "start_time": "2021-08-31T17:28:02.384Z"
   },
   {
    "duration": 638,
    "start_time": "2021-08-31T17:29:03.551Z"
   },
   {
    "duration": 629,
    "start_time": "2021-08-31T17:29:39.273Z"
   },
   {
    "duration": 2254,
    "start_time": "2021-08-31T17:31:05.953Z"
   },
   {
    "duration": 77,
    "start_time": "2021-08-31T17:31:08.210Z"
   },
   {
    "duration": 19,
    "start_time": "2021-08-31T17:31:08.290Z"
   },
   {
    "duration": 10,
    "start_time": "2021-08-31T17:31:08.312Z"
   },
   {
    "duration": 20,
    "start_time": "2021-08-31T17:31:08.325Z"
   },
   {
    "duration": 16,
    "start_time": "2021-08-31T17:31:08.348Z"
   },
   {
    "duration": 161,
    "start_time": "2021-08-31T17:31:08.367Z"
   },
   {
    "duration": 11,
    "start_time": "2021-08-31T17:31:08.534Z"
   },
   {
    "duration": 8,
    "start_time": "2021-08-31T17:31:08.549Z"
   },
   {
    "duration": 15,
    "start_time": "2021-08-31T17:31:08.560Z"
   },
   {
    "duration": 45,
    "start_time": "2021-08-31T17:31:08.579Z"
   },
   {
    "duration": 7,
    "start_time": "2021-08-31T17:31:08.627Z"
   },
   {
    "duration": 23,
    "start_time": "2021-08-31T17:31:08.638Z"
   },
   {
    "duration": 33,
    "start_time": "2021-08-31T17:31:08.663Z"
   },
   {
    "duration": 21,
    "start_time": "2021-08-31T17:31:08.718Z"
   },
   {
    "duration": 19,
    "start_time": "2021-08-31T17:31:08.742Z"
   },
   {
    "duration": 761,
    "start_time": "2021-08-31T17:31:08.764Z"
   },
   {
    "duration": 524,
    "start_time": "2021-08-31T17:31:09.529Z"
   },
   {
    "duration": 466,
    "start_time": "2021-08-31T17:31:10.056Z"
   },
   {
    "duration": 495,
    "start_time": "2021-08-31T17:31:10.525Z"
   },
   {
    "duration": 10,
    "start_time": "2021-08-31T17:31:11.025Z"
   },
   {
    "duration": 524,
    "start_time": "2021-08-31T17:31:11.038Z"
   },
   {
    "duration": 627,
    "start_time": "2021-08-31T17:31:11.568Z"
   },
   {
    "duration": 211,
    "start_time": "2021-08-31T17:31:12.198Z"
   },
   {
    "duration": 300,
    "start_time": "2021-08-31T17:31:12.416Z"
   },
   {
    "duration": 514,
    "start_time": "2021-08-31T17:31:12.719Z"
   },
   {
    "duration": 7,
    "start_time": "2021-08-31T17:31:13.237Z"
   },
   {
    "duration": 15,
    "start_time": "2021-08-31T17:31:13.247Z"
   },
   {
    "duration": 378,
    "start_time": "2021-08-31T17:31:13.265Z"
   },
   {
    "duration": 450,
    "start_time": "2021-08-31T17:31:13.645Z"
   },
   {
    "duration": 19,
    "start_time": "2021-08-31T17:31:14.098Z"
   },
   {
    "duration": 529,
    "start_time": "2021-08-31T17:31:14.120Z"
   },
   {
    "duration": 283,
    "start_time": "2021-08-31T17:31:14.652Z"
   },
   {
    "duration": 10,
    "start_time": "2021-08-31T17:31:14.938Z"
   },
   {
    "duration": 278,
    "start_time": "2021-08-31T17:31:14.950Z"
   },
   {
    "duration": 15,
    "start_time": "2021-08-31T17:31:15.232Z"
   },
   {
    "duration": 15,
    "start_time": "2021-08-31T17:31:15.250Z"
   },
   {
    "duration": 13,
    "start_time": "2021-08-31T17:31:15.268Z"
   },
   {
    "duration": 13,
    "start_time": "2021-08-31T17:31:15.319Z"
   },
   {
    "duration": 22,
    "start_time": "2021-08-31T17:31:15.335Z"
   },
   {
    "duration": 15299,
    "start_time": "2021-08-31T21:03:20.652Z"
   },
   {
    "duration": 84,
    "start_time": "2021-08-31T21:03:35.954Z"
   },
   {
    "duration": 17,
    "start_time": "2021-08-31T21:03:36.041Z"
   },
   {
    "duration": 28,
    "start_time": "2021-08-31T21:03:36.061Z"
   },
   {
    "duration": 32,
    "start_time": "2021-08-31T21:03:36.092Z"
   },
   {
    "duration": 12,
    "start_time": "2021-08-31T21:03:36.127Z"
   },
   {
    "duration": 12,
    "start_time": "2021-08-31T21:03:36.141Z"
   },
   {
    "duration": 18,
    "start_time": "2021-08-31T21:03:36.156Z"
   },
   {
    "duration": 19,
    "start_time": "2021-08-31T21:03:36.178Z"
   },
   {
    "duration": 29,
    "start_time": "2021-08-31T21:03:36.201Z"
   },
   {
    "duration": 18,
    "start_time": "2021-08-31T21:03:36.233Z"
   },
   {
    "duration": 11,
    "start_time": "2021-08-31T21:03:36.253Z"
   },
   {
    "duration": 20,
    "start_time": "2021-08-31T21:03:36.266Z"
   },
   {
    "duration": 24,
    "start_time": "2021-08-31T21:03:36.289Z"
   },
   {
    "duration": 16,
    "start_time": "2021-08-31T21:03:36.315Z"
   },
   {
    "duration": 34,
    "start_time": "2021-08-31T21:03:36.334Z"
   },
   {
    "duration": 572,
    "start_time": "2021-08-31T21:03:36.371Z"
   },
   {
    "duration": 438,
    "start_time": "2021-08-31T21:03:36.946Z"
   },
   {
    "duration": 416,
    "start_time": "2021-08-31T21:03:37.386Z"
   },
   {
    "duration": 528,
    "start_time": "2021-08-31T21:03:37.805Z"
   },
   {
    "duration": 11,
    "start_time": "2021-08-31T21:03:38.337Z"
   },
   {
    "duration": 420,
    "start_time": "2021-08-31T21:03:38.351Z"
   },
   {
    "duration": 461,
    "start_time": "2021-08-31T21:03:38.774Z"
   },
   {
    "duration": 185,
    "start_time": "2021-08-31T21:03:39.238Z"
   },
   {
    "duration": 293,
    "start_time": "2021-08-31T21:03:39.426Z"
   },
   {
    "duration": 489,
    "start_time": "2021-08-31T21:03:39.723Z"
   },
   {
    "duration": 6,
    "start_time": "2021-08-31T21:03:40.216Z"
   },
   {
    "duration": 35,
    "start_time": "2021-08-31T21:03:40.226Z"
   },
   {
    "duration": 308,
    "start_time": "2021-08-31T21:03:40.264Z"
   },
   {
    "duration": 403,
    "start_time": "2021-08-31T21:03:40.575Z"
   },
   {
    "duration": 5,
    "start_time": "2021-08-31T21:03:40.981Z"
   },
   {
    "duration": 476,
    "start_time": "2021-08-31T21:03:40.989Z"
   },
   {
    "duration": 211,
    "start_time": "2021-08-31T21:03:41.467Z"
   },
   {
    "duration": 7,
    "start_time": "2021-08-31T21:03:41.681Z"
   },
   {
    "duration": 237,
    "start_time": "2021-08-31T21:03:41.691Z"
   },
   {
    "duration": 15,
    "start_time": "2021-08-31T21:03:41.930Z"
   },
   {
    "duration": 15,
    "start_time": "2021-08-31T21:03:41.962Z"
   },
   {
    "duration": 17,
    "start_time": "2021-08-31T21:03:41.979Z"
   },
   {
    "duration": 9,
    "start_time": "2021-08-31T21:03:41.998Z"
   },
   {
    "duration": 19,
    "start_time": "2021-08-31T21:03:42.009Z"
   },
   {
    "duration": 112,
    "start_time": "2021-08-31T21:08:16.515Z"
   },
   {
    "duration": 1363,
    "start_time": "2021-09-01T16:20:13.217Z"
   },
   {
    "duration": 68,
    "start_time": "2021-09-01T16:20:14.582Z"
   },
   {
    "duration": 11,
    "start_time": "2021-09-01T16:20:14.654Z"
   },
   {
    "duration": 5,
    "start_time": "2021-09-01T16:20:14.667Z"
   },
   {
    "duration": 8,
    "start_time": "2021-09-01T16:20:14.674Z"
   },
   {
    "duration": 8,
    "start_time": "2021-09-01T16:20:14.683Z"
   },
   {
    "duration": 7,
    "start_time": "2021-09-01T16:20:14.694Z"
   },
   {
    "duration": 5,
    "start_time": "2021-09-01T16:20:14.702Z"
   },
   {
    "duration": 5,
    "start_time": "2021-09-01T16:20:14.709Z"
   },
   {
    "duration": 12,
    "start_time": "2021-09-01T16:20:14.716Z"
   },
   {
    "duration": 12,
    "start_time": "2021-09-01T16:20:14.730Z"
   },
   {
    "duration": 4,
    "start_time": "2021-09-01T16:20:14.744Z"
   },
   {
    "duration": 12,
    "start_time": "2021-09-01T16:20:14.750Z"
   },
   {
    "duration": 126,
    "start_time": "2021-09-01T16:20:14.764Z"
   },
   {
    "duration": 1285,
    "start_time": "2021-09-01T16:20:13.607Z"
   },
   {
    "duration": 1283,
    "start_time": "2021-09-01T16:20:13.610Z"
   },
   {
    "duration": 1280,
    "start_time": "2021-09-01T16:20:13.614Z"
   },
   {
    "duration": 1277,
    "start_time": "2021-09-01T16:20:13.618Z"
   },
   {
    "duration": 1274,
    "start_time": "2021-09-01T16:20:13.622Z"
   },
   {
    "duration": 1270,
    "start_time": "2021-09-01T16:20:13.627Z"
   },
   {
    "duration": 1267,
    "start_time": "2021-09-01T16:20:13.631Z"
   },
   {
    "duration": 1264,
    "start_time": "2021-09-01T16:20:13.635Z"
   },
   {
    "duration": 1261,
    "start_time": "2021-09-01T16:20:13.639Z"
   },
   {
    "duration": 1257,
    "start_time": "2021-09-01T16:20:13.643Z"
   },
   {
    "duration": 1255,
    "start_time": "2021-09-01T16:20:13.646Z"
   },
   {
    "duration": 1252,
    "start_time": "2021-09-01T16:20:13.650Z"
   },
   {
    "duration": 1233,
    "start_time": "2021-09-01T16:20:13.670Z"
   },
   {
    "duration": 1227,
    "start_time": "2021-09-01T16:20:13.677Z"
   },
   {
    "duration": 1203,
    "start_time": "2021-09-01T16:20:13.702Z"
   },
   {
    "duration": 1200,
    "start_time": "2021-09-01T16:20:13.706Z"
   },
   {
    "duration": 1197,
    "start_time": "2021-09-01T16:20:13.710Z"
   },
   {
    "duration": 1194,
    "start_time": "2021-09-01T16:20:13.714Z"
   },
   {
    "duration": 1191,
    "start_time": "2021-09-01T16:20:13.718Z"
   },
   {
    "duration": 1189,
    "start_time": "2021-09-01T16:20:13.721Z"
   },
   {
    "duration": 1185,
    "start_time": "2021-09-01T16:20:13.725Z"
   },
   {
    "duration": 1182,
    "start_time": "2021-09-01T16:20:13.729Z"
   },
   {
    "duration": 1180,
    "start_time": "2021-09-01T16:20:13.732Z"
   },
   {
    "duration": 1178,
    "start_time": "2021-09-01T16:20:13.735Z"
   },
   {
    "duration": 1175,
    "start_time": "2021-09-01T16:20:13.739Z"
   },
   {
    "duration": 1173,
    "start_time": "2021-09-01T16:20:13.742Z"
   },
   {
    "duration": 1169,
    "start_time": "2021-09-01T16:20:13.747Z"
   },
   {
    "duration": 107,
    "start_time": "2021-09-01T16:21:59.161Z"
   },
   {
    "duration": 2165,
    "start_time": "2021-09-01T16:22:09.795Z"
   },
   {
    "duration": 17,
    "start_time": "2021-09-01T16:25:28.963Z"
   },
   {
    "duration": 301,
    "start_time": "2021-09-01T16:26:54.433Z"
   },
   {
    "duration": 311,
    "start_time": "2021-09-01T16:32:29.990Z"
   },
   {
    "duration": 9,
    "start_time": "2021-09-01T16:34:56.217Z"
   },
   {
    "duration": 16,
    "start_time": "2021-09-01T16:35:14.493Z"
   },
   {
    "duration": 106,
    "start_time": "2021-09-01T16:38:45.380Z"
   },
   {
    "duration": 142,
    "start_time": "2021-09-01T16:38:51.402Z"
   },
   {
    "duration": 8,
    "start_time": "2021-09-01T16:39:08.987Z"
   },
   {
    "duration": 19,
    "start_time": "2021-09-01T16:39:24.772Z"
   },
   {
    "duration": 296,
    "start_time": "2021-09-01T16:46:26.350Z"
   },
   {
    "duration": 3,
    "start_time": "2021-09-01T17:09:35.234Z"
   },
   {
    "duration": 1384,
    "start_time": "2021-09-01T17:09:42.386Z"
   },
   {
    "duration": 66,
    "start_time": "2021-09-01T17:09:43.772Z"
   },
   {
    "duration": 10,
    "start_time": "2021-09-01T17:09:43.840Z"
   },
   {
    "duration": 5,
    "start_time": "2021-09-01T17:09:43.852Z"
   },
   {
    "duration": 13,
    "start_time": "2021-09-01T17:09:43.859Z"
   },
   {
    "duration": 8,
    "start_time": "2021-09-01T17:09:43.873Z"
   },
   {
    "duration": 6,
    "start_time": "2021-09-01T17:09:43.883Z"
   },
   {
    "duration": 6,
    "start_time": "2021-09-01T17:09:43.891Z"
   },
   {
    "duration": 5,
    "start_time": "2021-09-01T17:09:43.899Z"
   },
   {
    "duration": 6,
    "start_time": "2021-09-01T17:09:43.905Z"
   },
   {
    "duration": 7,
    "start_time": "2021-09-01T17:09:43.913Z"
   },
   {
    "duration": 4,
    "start_time": "2021-09-01T17:09:43.922Z"
   },
   {
    "duration": 10,
    "start_time": "2021-09-01T17:09:43.927Z"
   },
   {
    "duration": 14,
    "start_time": "2021-09-01T17:09:43.939Z"
   },
   {
    "duration": 47,
    "start_time": "2021-09-01T17:09:43.955Z"
   },
   {
    "duration": 2,
    "start_time": "2021-09-01T17:09:44.004Z"
   },
   {
    "duration": 14,
    "start_time": "2021-09-01T17:09:44.007Z"
   },
   {
    "duration": 10,
    "start_time": "2021-09-01T17:09:44.022Z"
   },
   {
    "duration": 9,
    "start_time": "2021-09-01T17:09:44.034Z"
   },
   {
    "duration": 365,
    "start_time": "2021-09-01T17:09:44.044Z"
   },
   {
    "duration": 260,
    "start_time": "2021-09-01T17:09:44.411Z"
   },
   {
    "duration": 247,
    "start_time": "2021-09-01T17:09:44.673Z"
   },
   {
    "duration": 338,
    "start_time": "2021-09-01T17:09:44.921Z"
   },
   {
    "duration": 5,
    "start_time": "2021-09-01T17:09:45.261Z"
   },
   {
    "duration": 250,
    "start_time": "2021-09-01T17:09:45.267Z"
   },
   {
    "duration": 316,
    "start_time": "2021-09-01T17:09:45.518Z"
   },
   {
    "duration": 104,
    "start_time": "2021-09-01T17:09:45.837Z"
   },
   {
    "duration": 182,
    "start_time": "2021-09-01T17:09:45.943Z"
   },
   {
    "duration": 359,
    "start_time": "2021-09-01T17:09:46.126Z"
   },
   {
    "duration": 4,
    "start_time": "2021-09-01T17:09:46.486Z"
   },
   {
    "duration": 10,
    "start_time": "2021-09-01T17:09:46.491Z"
   },
   {
    "duration": 189,
    "start_time": "2021-09-01T17:09:46.502Z"
   },
   {
    "duration": 301,
    "start_time": "2021-09-01T17:09:46.693Z"
   },
   {
    "duration": 3,
    "start_time": "2021-09-01T17:09:46.996Z"
   },
   {
    "duration": 262,
    "start_time": "2021-09-01T17:09:47.001Z"
   },
   {
    "duration": 103,
    "start_time": "2021-09-01T17:09:47.265Z"
   },
   {
    "duration": 6,
    "start_time": "2021-09-01T17:09:47.369Z"
   },
   {
    "duration": 142,
    "start_time": "2021-09-01T17:09:47.376Z"
   },
   {
    "duration": 10,
    "start_time": "2021-09-01T17:09:47.519Z"
   },
   {
    "duration": 9,
    "start_time": "2021-09-01T17:09:47.531Z"
   },
   {
    "duration": 9,
    "start_time": "2021-09-01T17:09:47.542Z"
   },
   {
    "duration": 34,
    "start_time": "2021-09-01T17:09:47.553Z"
   },
   {
    "duration": 12,
    "start_time": "2021-09-01T17:09:47.588Z"
   },
   {
    "duration": 1892,
    "start_time": "2021-09-02T05:57:53.770Z"
   },
   {
    "duration": 65,
    "start_time": "2021-09-02T05:57:55.666Z"
   },
   {
    "duration": 16,
    "start_time": "2021-09-02T05:57:55.734Z"
   },
   {
    "duration": 9,
    "start_time": "2021-09-02T05:57:55.754Z"
   },
   {
    "duration": 12,
    "start_time": "2021-09-02T05:57:55.765Z"
   },
   {
    "duration": 14,
    "start_time": "2021-09-02T05:57:55.780Z"
   },
   {
    "duration": 15,
    "start_time": "2021-09-02T05:57:55.796Z"
   },
   {
    "duration": 8,
    "start_time": "2021-09-02T05:57:55.813Z"
   },
   {
    "duration": 8,
    "start_time": "2021-09-02T05:57:55.825Z"
   },
   {
    "duration": 12,
    "start_time": "2021-09-02T05:57:55.836Z"
   },
   {
    "duration": 37,
    "start_time": "2021-09-02T05:57:55.850Z"
   },
   {
    "duration": 6,
    "start_time": "2021-09-02T05:57:55.889Z"
   },
   {
    "duration": 22,
    "start_time": "2021-09-02T05:57:55.897Z"
   },
   {
    "duration": 28,
    "start_time": "2021-09-02T05:57:55.922Z"
   },
   {
    "duration": 53,
    "start_time": "2021-09-02T05:57:55.953Z"
   },
   {
    "duration": 475,
    "start_time": "2021-09-02T05:57:56.008Z"
   },
   {
    "duration": 2459,
    "start_time": "2021-09-02T05:57:54.028Z"
   },
   {
    "duration": 2455,
    "start_time": "2021-09-02T05:57:54.033Z"
   },
   {
    "duration": 2453,
    "start_time": "2021-09-02T05:57:54.037Z"
   },
   {
    "duration": 2449,
    "start_time": "2021-09-02T05:57:54.042Z"
   },
   {
    "duration": 2447,
    "start_time": "2021-09-02T05:57:54.046Z"
   },
   {
    "duration": 2444,
    "start_time": "2021-09-02T05:57:54.050Z"
   },
   {
    "duration": 2442,
    "start_time": "2021-09-02T05:57:54.054Z"
   },
   {
    "duration": 2440,
    "start_time": "2021-09-02T05:57:54.058Z"
   },
   {
    "duration": 2437,
    "start_time": "2021-09-02T05:57:54.062Z"
   },
   {
    "duration": 2435,
    "start_time": "2021-09-02T05:57:54.066Z"
   },
   {
    "duration": 2432,
    "start_time": "2021-09-02T05:57:54.070Z"
   },
   {
    "duration": 2430,
    "start_time": "2021-09-02T05:57:54.074Z"
   },
   {
    "duration": 2428,
    "start_time": "2021-09-02T05:57:54.077Z"
   },
   {
    "duration": 2420,
    "start_time": "2021-09-02T05:57:54.087Z"
   },
   {
    "duration": 2415,
    "start_time": "2021-09-02T05:57:54.093Z"
   },
   {
    "duration": 2413,
    "start_time": "2021-09-02T05:57:54.097Z"
   },
   {
    "duration": 2408,
    "start_time": "2021-09-02T05:57:54.103Z"
   },
   {
    "duration": 2405,
    "start_time": "2021-09-02T05:57:54.107Z"
   },
   {
    "duration": 2403,
    "start_time": "2021-09-02T05:57:54.111Z"
   },
   {
    "duration": 2400,
    "start_time": "2021-09-02T05:57:54.116Z"
   },
   {
    "duration": 2392,
    "start_time": "2021-09-02T05:57:54.125Z"
   },
   {
    "duration": 2389,
    "start_time": "2021-09-02T05:57:54.130Z"
   },
   {
    "duration": 2386,
    "start_time": "2021-09-02T05:57:54.134Z"
   },
   {
    "duration": 2383,
    "start_time": "2021-09-02T05:57:54.138Z"
   },
   {
    "duration": 2377,
    "start_time": "2021-09-02T05:57:54.146Z"
   },
   {
    "duration": 2374,
    "start_time": "2021-09-02T05:57:54.150Z"
   },
   {
    "duration": 2372,
    "start_time": "2021-09-02T05:57:54.154Z"
   },
   {
    "duration": 20,
    "start_time": "2021-09-02T06:06:28.169Z"
   },
   {
    "duration": 21,
    "start_time": "2021-09-02T06:07:15.378Z"
   },
   {
    "duration": 7,
    "start_time": "2021-09-02T06:19:10.969Z"
   },
   {
    "duration": 11,
    "start_time": "2021-09-02T06:19:33.170Z"
   },
   {
    "duration": 7,
    "start_time": "2021-09-02T06:22:57.142Z"
   },
   {
    "duration": 9,
    "start_time": "2021-09-02T06:23:10.846Z"
   },
   {
    "duration": 3,
    "start_time": "2021-09-02T06:25:51.742Z"
   },
   {
    "duration": 27,
    "start_time": "2021-09-02T06:30:19.016Z"
   },
   {
    "duration": 23,
    "start_time": "2021-09-02T06:31:22.811Z"
   },
   {
    "duration": 23,
    "start_time": "2021-09-02T06:33:30.758Z"
   },
   {
    "duration": 191,
    "start_time": "2021-09-02T07:15:08.873Z"
   },
   {
    "duration": 123,
    "start_time": "2021-09-02T07:15:42.992Z"
   },
   {
    "duration": 13,
    "start_time": "2021-09-02T07:17:26.231Z"
   },
   {
    "duration": 28,
    "start_time": "2021-09-02T07:17:42.191Z"
   },
   {
    "duration": 24,
    "start_time": "2021-09-02T07:25:24.554Z"
   },
   {
    "duration": 22,
    "start_time": "2021-09-02T07:30:37.586Z"
   },
   {
    "duration": 11,
    "start_time": "2021-09-02T07:32:59.856Z"
   },
   {
    "duration": 6,
    "start_time": "2021-09-02T07:38:50.346Z"
   },
   {
    "duration": 325,
    "start_time": "2021-09-02T07:39:23.233Z"
   },
   {
    "duration": 321,
    "start_time": "2021-09-02T07:43:49.672Z"
   },
   {
    "duration": 305,
    "start_time": "2021-09-02T07:47:15.183Z"
   },
   {
    "duration": 10460,
    "start_time": "2021-09-02T07:49:49.093Z"
   },
   {
    "duration": 450,
    "start_time": "2021-09-02T07:52:25.651Z"
   },
   {
    "duration": 394,
    "start_time": "2021-09-02T07:52:54.483Z"
   },
   {
    "duration": 372,
    "start_time": "2021-09-02T07:53:05.867Z"
   },
   {
    "duration": 1840,
    "start_time": "2021-09-02T07:53:50.240Z"
   },
   {
    "duration": 62,
    "start_time": "2021-09-02T07:53:52.083Z"
   },
   {
    "duration": 14,
    "start_time": "2021-09-02T07:53:52.148Z"
   },
   {
    "duration": 9,
    "start_time": "2021-09-02T07:53:52.165Z"
   },
   {
    "duration": 11,
    "start_time": "2021-09-02T07:53:52.177Z"
   },
   {
    "duration": 14,
    "start_time": "2021-09-02T07:53:52.191Z"
   },
   {
    "duration": 9,
    "start_time": "2021-09-02T07:53:52.207Z"
   },
   {
    "duration": 6,
    "start_time": "2021-09-02T07:53:52.219Z"
   },
   {
    "duration": 14,
    "start_time": "2021-09-02T07:53:52.228Z"
   },
   {
    "duration": 10,
    "start_time": "2021-09-02T07:53:52.244Z"
   },
   {
    "duration": 10,
    "start_time": "2021-09-02T07:53:52.284Z"
   },
   {
    "duration": 6,
    "start_time": "2021-09-02T07:53:52.296Z"
   },
   {
    "duration": 22,
    "start_time": "2021-09-02T07:53:52.304Z"
   },
   {
    "duration": 27,
    "start_time": "2021-09-02T07:53:52.328Z"
   },
   {
    "duration": 3,
    "start_time": "2021-09-02T07:53:52.382Z"
   },
   {
    "duration": 12,
    "start_time": "2021-09-02T07:53:52.387Z"
   },
   {
    "duration": 26,
    "start_time": "2021-09-02T07:53:52.401Z"
   },
   {
    "duration": 62,
    "start_time": "2021-09-02T07:53:52.429Z"
   },
   {
    "duration": 3,
    "start_time": "2021-09-02T07:53:52.494Z"
   },
   {
    "duration": 10,
    "start_time": "2021-09-02T07:53:52.499Z"
   },
   {
    "duration": 19,
    "start_time": "2021-09-02T07:53:52.511Z"
   },
   {
    "duration": 15,
    "start_time": "2021-09-02T07:53:52.532Z"
   },
   {
    "duration": 15,
    "start_time": "2021-09-02T07:53:52.586Z"
   },
   {
    "duration": 579,
    "start_time": "2021-09-02T07:53:52.604Z"
   },
   {
    "duration": 421,
    "start_time": "2021-09-02T07:53:53.185Z"
   },
   {
    "duration": 416,
    "start_time": "2021-09-02T07:53:53.609Z"
   },
   {
    "duration": 518,
    "start_time": "2021-09-02T07:53:54.028Z"
   },
   {
    "duration": 9,
    "start_time": "2021-09-02T07:53:54.548Z"
   },
   {
    "duration": 404,
    "start_time": "2021-09-02T07:53:54.559Z"
   },
   {
    "duration": 472,
    "start_time": "2021-09-02T07:53:54.966Z"
   },
   {
    "duration": 185,
    "start_time": "2021-09-02T07:53:55.441Z"
   },
   {
    "duration": 299,
    "start_time": "2021-09-02T07:53:55.629Z"
   },
   {
    "duration": 454,
    "start_time": "2021-09-02T07:53:55.931Z"
   },
   {
    "duration": 5,
    "start_time": "2021-09-02T07:53:56.388Z"
   },
   {
    "duration": 13,
    "start_time": "2021-09-02T07:53:56.395Z"
   },
   {
    "duration": 330,
    "start_time": "2021-09-02T07:53:56.410Z"
   },
   {
    "duration": 443,
    "start_time": "2021-09-02T07:53:56.743Z"
   },
   {
    "duration": 6,
    "start_time": "2021-09-02T07:53:57.188Z"
   },
   {
    "duration": 485,
    "start_time": "2021-09-02T07:53:57.197Z"
   },
   {
    "duration": 222,
    "start_time": "2021-09-02T07:53:57.685Z"
   },
   {
    "duration": 9,
    "start_time": "2021-09-02T07:53:57.909Z"
   },
   {
    "duration": 262,
    "start_time": "2021-09-02T07:53:57.920Z"
   },
   {
    "duration": 13,
    "start_time": "2021-09-02T07:53:58.184Z"
   },
   {
    "duration": 13,
    "start_time": "2021-09-02T07:53:58.199Z"
   },
   {
    "duration": 12,
    "start_time": "2021-09-02T07:53:58.215Z"
   },
   {
    "duration": 8,
    "start_time": "2021-09-02T07:53:58.229Z"
   },
   {
    "duration": 55,
    "start_time": "2021-09-02T07:53:58.240Z"
   },
   {
    "duration": 8,
    "start_time": "2021-09-02T07:54:43.336Z"
   },
   {
    "duration": 527,
    "start_time": "2021-09-02T07:56:25.563Z"
   },
   {
    "duration": 9,
    "start_time": "2021-09-02T07:57:05.508Z"
   },
   {
    "duration": 39,
    "start_time": "2021-09-02T07:57:11.074Z"
   },
   {
    "duration": 30,
    "start_time": "2021-09-02T07:58:49.508Z"
   },
   {
    "duration": 40,
    "start_time": "2021-09-02T07:58:59.434Z"
   },
   {
    "duration": 41,
    "start_time": "2021-09-02T08:01:11.482Z"
   },
   {
    "duration": 960,
    "start_time": "2021-09-02T08:02:13.673Z"
   },
   {
    "duration": 434,
    "start_time": "2021-09-02T08:06:40.566Z"
   },
   {
    "duration": 33,
    "start_time": "2021-09-02T08:07:39.504Z"
   },
   {
    "duration": 42,
    "start_time": "2021-09-02T08:07:53.917Z"
   },
   {
    "duration": 34,
    "start_time": "2021-09-02T08:08:37.382Z"
   },
   {
    "duration": 378,
    "start_time": "2021-09-02T08:09:32.270Z"
   },
   {
    "duration": 36,
    "start_time": "2021-09-02T08:09:40.284Z"
   },
   {
    "duration": 44,
    "start_time": "2021-09-02T08:11:48.578Z"
   },
   {
    "duration": 8,
    "start_time": "2021-09-02T09:09:11.432Z"
   },
   {
    "duration": 30,
    "start_time": "2021-09-02T09:09:22.041Z"
   },
   {
    "duration": 19,
    "start_time": "2021-09-02T09:10:59.440Z"
   },
   {
    "duration": 13,
    "start_time": "2021-09-02T09:12:22.984Z"
   },
   {
    "duration": 28,
    "start_time": "2021-09-02T09:15:21.549Z"
   },
   {
    "duration": 22,
    "start_time": "2021-09-02T09:15:32.429Z"
   },
   {
    "duration": 8,
    "start_time": "2021-09-02T09:20:29.290Z"
   },
   {
    "duration": 384,
    "start_time": "2021-09-02T09:20:55.171Z"
   },
   {
    "duration": 4583,
    "start_time": "2021-09-02T09:21:37.462Z"
   },
   {
    "duration": 10,
    "start_time": "2021-09-02T09:23:52.200Z"
   },
   {
    "duration": 7,
    "start_time": "2021-09-02T09:24:41.650Z"
   },
   {
    "duration": 385,
    "start_time": "2021-09-02T09:25:39.000Z"
   },
   {
    "duration": 375,
    "start_time": "2021-09-02T09:25:58.815Z"
   },
   {
    "duration": 7,
    "start_time": "2021-09-02T09:27:31.239Z"
   },
   {
    "duration": 12,
    "start_time": "2021-09-02T09:27:54.158Z"
   },
   {
    "duration": 9,
    "start_time": "2021-09-02T09:28:29.542Z"
   },
   {
    "duration": 12,
    "start_time": "2021-09-02T09:31:06.661Z"
   },
   {
    "duration": 992,
    "start_time": "2021-09-02T09:32:02.503Z"
   },
   {
    "duration": 13,
    "start_time": "2021-09-02T09:32:37.516Z"
   },
   {
    "duration": 12,
    "start_time": "2021-09-02T09:32:57.279Z"
   },
   {
    "duration": 481,
    "start_time": "2021-09-02T09:37:45.193Z"
   },
   {
    "duration": 13,
    "start_time": "2021-09-02T09:38:14.278Z"
   },
   {
    "duration": 12,
    "start_time": "2021-09-02T09:38:44.968Z"
   },
   {
    "duration": 286,
    "start_time": "2021-09-02T09:49:11.721Z"
   },
   {
    "duration": 298,
    "start_time": "2021-09-02T09:49:28.231Z"
   },
   {
    "duration": 5,
    "start_time": "2021-09-02T09:52:03.237Z"
   },
   {
    "duration": 39,
    "start_time": "2021-09-02T09:54:53.330Z"
   },
   {
    "duration": 22,
    "start_time": "2021-09-02T10:05:07.741Z"
   },
   {
    "duration": 7,
    "start_time": "2021-09-02T12:29:00.160Z"
   },
   {
    "duration": 2086,
    "start_time": "2021-09-02T12:31:28.276Z"
   },
   {
    "duration": 64,
    "start_time": "2021-09-02T12:31:30.365Z"
   },
   {
    "duration": 16,
    "start_time": "2021-09-02T12:31:30.431Z"
   },
   {
    "duration": 20,
    "start_time": "2021-09-02T12:31:30.450Z"
   },
   {
    "duration": 27,
    "start_time": "2021-09-02T12:31:30.472Z"
   },
   {
    "duration": 12,
    "start_time": "2021-09-02T12:31:30.502Z"
   },
   {
    "duration": 23,
    "start_time": "2021-09-02T12:31:30.517Z"
   },
   {
    "duration": 26,
    "start_time": "2021-09-02T12:31:30.546Z"
   },
   {
    "duration": 18,
    "start_time": "2021-09-02T12:31:30.576Z"
   },
   {
    "duration": 21,
    "start_time": "2021-09-02T12:31:30.596Z"
   },
   {
    "duration": 17,
    "start_time": "2021-09-02T12:31:30.620Z"
   },
   {
    "duration": 13,
    "start_time": "2021-09-02T12:31:30.640Z"
   },
   {
    "duration": 30,
    "start_time": "2021-09-02T12:31:30.655Z"
   },
   {
    "duration": 13,
    "start_time": "2021-09-02T12:31:30.690Z"
   },
   {
    "duration": 557,
    "start_time": "2021-09-02T12:31:30.706Z"
   },
   {
    "duration": -68,
    "start_time": "2021-09-02T12:31:31.335Z"
   },
   {
    "duration": -72,
    "start_time": "2021-09-02T12:31:31.341Z"
   },
   {
    "duration": -77,
    "start_time": "2021-09-02T12:31:31.347Z"
   },
   {
    "duration": -80,
    "start_time": "2021-09-02T12:31:31.351Z"
   },
   {
    "duration": -83,
    "start_time": "2021-09-02T12:31:31.355Z"
   },
   {
    "duration": -86,
    "start_time": "2021-09-02T12:31:31.359Z"
   },
   {
    "duration": -89,
    "start_time": "2021-09-02T12:31:31.363Z"
   },
   {
    "duration": -101,
    "start_time": "2021-09-02T12:31:31.376Z"
   },
   {
    "duration": -104,
    "start_time": "2021-09-02T12:31:31.380Z"
   },
   {
    "duration": -106,
    "start_time": "2021-09-02T12:31:31.384Z"
   },
   {
    "duration": -108,
    "start_time": "2021-09-02T12:31:31.387Z"
   },
   {
    "duration": -111,
    "start_time": "2021-09-02T12:31:31.391Z"
   },
   {
    "duration": -115,
    "start_time": "2021-09-02T12:31:31.396Z"
   },
   {
    "duration": -116,
    "start_time": "2021-09-02T12:31:31.400Z"
   },
   {
    "duration": -117,
    "start_time": "2021-09-02T12:31:31.403Z"
   },
   {
    "duration": -120,
    "start_time": "2021-09-02T12:31:31.407Z"
   },
   {
    "duration": -123,
    "start_time": "2021-09-02T12:31:31.411Z"
   },
   {
    "duration": -124,
    "start_time": "2021-09-02T12:31:31.414Z"
   },
   {
    "duration": -124,
    "start_time": "2021-09-02T12:31:31.418Z"
   },
   {
    "duration": -125,
    "start_time": "2021-09-02T12:31:31.421Z"
   },
   {
    "duration": -127,
    "start_time": "2021-09-02T12:31:31.424Z"
   },
   {
    "duration": -129,
    "start_time": "2021-09-02T12:31:31.428Z"
   },
   {
    "duration": -131,
    "start_time": "2021-09-02T12:31:31.432Z"
   },
   {
    "duration": -134,
    "start_time": "2021-09-02T12:31:31.436Z"
   },
   {
    "duration": -136,
    "start_time": "2021-09-02T12:31:31.440Z"
   },
   {
    "duration": -147,
    "start_time": "2021-09-02T12:31:31.452Z"
   },
   {
    "duration": -149,
    "start_time": "2021-09-02T12:31:31.456Z"
   },
   {
    "duration": -153,
    "start_time": "2021-09-02T12:31:31.461Z"
   },
   {
    "duration": -155,
    "start_time": "2021-09-02T12:31:31.465Z"
   },
   {
    "duration": -158,
    "start_time": "2021-09-02T12:31:31.469Z"
   },
   {
    "duration": -162,
    "start_time": "2021-09-02T12:31:31.474Z"
   },
   {
    "duration": 2070,
    "start_time": "2021-09-02T12:32:45.295Z"
   },
   {
    "duration": 69,
    "start_time": "2021-09-02T12:32:47.368Z"
   },
   {
    "duration": 15,
    "start_time": "2021-09-02T12:32:47.440Z"
   },
   {
    "duration": 9,
    "start_time": "2021-09-02T12:32:47.458Z"
   },
   {
    "duration": 14,
    "start_time": "2021-09-02T12:32:47.469Z"
   },
   {
    "duration": 18,
    "start_time": "2021-09-02T12:32:47.489Z"
   },
   {
    "duration": 14,
    "start_time": "2021-09-02T12:32:47.510Z"
   },
   {
    "duration": 10,
    "start_time": "2021-09-02T12:32:47.530Z"
   },
   {
    "duration": 40,
    "start_time": "2021-09-02T12:32:47.544Z"
   },
   {
    "duration": 13,
    "start_time": "2021-09-02T12:32:47.588Z"
   },
   {
    "duration": 11,
    "start_time": "2021-09-02T12:32:47.604Z"
   },
   {
    "duration": 7,
    "start_time": "2021-09-02T12:32:47.618Z"
   },
   {
    "duration": 17,
    "start_time": "2021-09-02T12:32:47.628Z"
   },
   {
    "duration": 46,
    "start_time": "2021-09-02T12:32:47.648Z"
   },
   {
    "duration": 18,
    "start_time": "2021-09-02T12:32:47.697Z"
   },
   {
    "duration": 7,
    "start_time": "2021-09-02T12:32:47.717Z"
   },
   {
    "duration": 5,
    "start_time": "2021-09-02T12:32:47.726Z"
   },
   {
    "duration": 91,
    "start_time": "2021-09-02T12:32:47.734Z"
   },
   {
    "duration": 26,
    "start_time": "2021-09-02T12:32:47.828Z"
   },
   {
    "duration": 42,
    "start_time": "2021-09-02T12:32:47.857Z"
   },
   {
    "duration": 17,
    "start_time": "2021-09-02T12:32:47.902Z"
   },
   {
    "duration": 639,
    "start_time": "2021-09-02T12:32:47.922Z"
   },
   {
    "duration": 455,
    "start_time": "2021-09-02T12:32:48.566Z"
   },
   {
    "duration": 426,
    "start_time": "2021-09-02T12:32:49.025Z"
   },
   {
    "duration": 510,
    "start_time": "2021-09-02T12:32:49.455Z"
   },
   {
    "duration": 19,
    "start_time": "2021-09-02T12:32:49.968Z"
   },
   {
    "duration": 613,
    "start_time": "2021-09-02T12:32:49.991Z"
   },
   {
    "duration": 540,
    "start_time": "2021-09-02T12:32:50.607Z"
   },
   {
    "duration": 210,
    "start_time": "2021-09-02T12:32:51.149Z"
   },
   {
    "duration": 393,
    "start_time": "2021-09-02T12:32:51.361Z"
   },
   {
    "duration": 428,
    "start_time": "2021-09-02T12:32:51.756Z"
   },
   {
    "duration": 6,
    "start_time": "2021-09-02T12:32:52.189Z"
   },
   {
    "duration": 12,
    "start_time": "2021-09-02T12:32:52.197Z"
   },
   {
    "duration": 326,
    "start_time": "2021-09-02T12:32:52.211Z"
   },
   {
    "duration": 497,
    "start_time": "2021-09-02T12:32:52.539Z"
   },
   {
    "duration": 44,
    "start_time": "2021-09-02T12:32:53.039Z"
   },
   {
    "duration": 737,
    "start_time": "2021-09-02T12:32:53.085Z"
   },
   {
    "duration": 346,
    "start_time": "2021-09-02T12:32:53.826Z"
   },
   {
    "duration": 17,
    "start_time": "2021-09-02T12:32:54.175Z"
   },
   {
    "duration": 224,
    "start_time": "2021-09-02T12:32:54.199Z"
   },
   {
    "duration": 17,
    "start_time": "2021-09-02T12:32:54.426Z"
   },
   {
    "duration": 46,
    "start_time": "2021-09-02T12:32:54.446Z"
   },
   {
    "duration": 17,
    "start_time": "2021-09-02T12:32:54.496Z"
   },
   {
    "duration": 9,
    "start_time": "2021-09-02T12:32:54.515Z"
   },
   {
    "duration": 20,
    "start_time": "2021-09-02T12:32:54.527Z"
   },
   {
    "duration": 76,
    "start_time": "2021-09-02T12:35:03.726Z"
   },
   {
    "duration": 19,
    "start_time": "2021-09-02T12:35:22.789Z"
   },
   {
    "duration": 1011,
    "start_time": "2021-09-02T12:38:32.820Z"
   },
   {
    "duration": 1207,
    "start_time": "2021-09-02T12:38:44.980Z"
   },
   {
    "duration": 12,
    "start_time": "2021-09-02T12:38:54.402Z"
   },
   {
    "duration": 15,
    "start_time": "2021-09-02T12:40:44.249Z"
   },
   {
    "duration": 13,
    "start_time": "2021-09-02T12:41:49.883Z"
   },
   {
    "duration": 13,
    "start_time": "2021-09-02T12:43:50.682Z"
   },
   {
    "duration": 37,
    "start_time": "2021-09-02T12:45:02.345Z"
   },
   {
    "duration": 9,
    "start_time": "2021-09-02T12:59:42.286Z"
   },
   {
    "duration": 14,
    "start_time": "2021-09-02T12:59:54.334Z"
   },
   {
    "duration": 13,
    "start_time": "2021-09-02T13:00:24.511Z"
   },
   {
    "duration": 45,
    "start_time": "2021-09-02T13:01:05.413Z"
   },
   {
    "duration": 34,
    "start_time": "2021-09-02T13:04:10.028Z"
   },
   {
    "duration": 25,
    "start_time": "2021-09-02T13:04:57.924Z"
   },
   {
    "duration": 21,
    "start_time": "2021-09-02T13:08:31.936Z"
   },
   {
    "duration": 13,
    "start_time": "2021-09-02T13:09:55.384Z"
   },
   {
    "duration": 21,
    "start_time": "2021-09-02T13:22:33.161Z"
   },
   {
    "duration": 27,
    "start_time": "2021-09-02T13:25:50.623Z"
   },
   {
    "duration": 5,
    "start_time": "2021-09-02T13:29:35.236Z"
   },
   {
    "duration": 6,
    "start_time": "2021-09-02T13:29:47.828Z"
   },
   {
    "duration": 7,
    "start_time": "2021-09-02T13:30:24.228Z"
   },
   {
    "duration": 652,
    "start_time": "2021-09-02T14:15:47.122Z"
   },
   {
    "duration": 824,
    "start_time": "2021-09-02T14:19:48.671Z"
   },
   {
    "duration": 55,
    "start_time": "2021-09-02T14:26:54.165Z"
   },
   {
    "duration": 6,
    "start_time": "2021-09-02T14:43:02.898Z"
   },
   {
    "duration": 355,
    "start_time": "2021-09-02T14:45:27.035Z"
   },
   {
    "duration": 123,
    "start_time": "2021-09-02T14:47:59.511Z"
   },
   {
    "duration": 6,
    "start_time": "2021-09-02T14:48:17.799Z"
   },
   {
    "duration": 21,
    "start_time": "2021-09-02T14:48:39.687Z"
   },
   {
    "duration": 6,
    "start_time": "2021-09-02T14:52:28.573Z"
   },
   {
    "duration": 5,
    "start_time": "2021-09-02T14:52:46.067Z"
   },
   {
    "duration": 6,
    "start_time": "2021-09-02T14:53:43.002Z"
   },
   {
    "duration": 6,
    "start_time": "2021-09-02T14:58:05.905Z"
   },
   {
    "duration": 5,
    "start_time": "2021-09-02T14:59:24.936Z"
   },
   {
    "duration": 387,
    "start_time": "2021-09-02T14:59:52.528Z"
   },
   {
    "duration": 6,
    "start_time": "2021-09-02T15:00:51.264Z"
   },
   {
    "duration": 16,
    "start_time": "2021-09-02T15:09:11.187Z"
   },
   {
    "duration": 47,
    "start_time": "2021-09-02T15:14:58.975Z"
   },
   {
    "duration": 38,
    "start_time": "2021-09-02T15:26:51.129Z"
   },
   {
    "duration": 396,
    "start_time": "2021-09-02T15:30:58.238Z"
   },
   {
    "duration": 39,
    "start_time": "2021-09-02T15:31:21.860Z"
   },
   {
    "duration": 772,
    "start_time": "2021-09-02T15:32:09.204Z"
   },
   {
    "duration": 40,
    "start_time": "2021-09-02T15:32:32.893Z"
   },
   {
    "duration": 40,
    "start_time": "2021-09-02T15:36:12.882Z"
   },
   {
    "duration": 36,
    "start_time": "2021-09-02T15:37:03.510Z"
   },
   {
    "duration": 43,
    "start_time": "2021-09-02T15:37:10.761Z"
   },
   {
    "duration": 39,
    "start_time": "2021-09-02T15:37:32.379Z"
   },
   {
    "duration": 9,
    "start_time": "2021-09-02T15:38:51.705Z"
   },
   {
    "duration": 43,
    "start_time": "2021-09-02T15:39:34.207Z"
   },
   {
    "duration": 12,
    "start_time": "2021-09-02T15:43:40.521Z"
   },
   {
    "duration": 16,
    "start_time": "2021-09-02T15:46:34.060Z"
   },
   {
    "duration": 17,
    "start_time": "2021-09-02T15:47:34.838Z"
   },
   {
    "duration": 14,
    "start_time": "2021-09-02T15:49:40.151Z"
   },
   {
    "duration": 15,
    "start_time": "2021-09-02T15:50:04.066Z"
   },
   {
    "duration": 18,
    "start_time": "2021-09-02T17:41:05.464Z"
   },
   {
    "duration": 1829,
    "start_time": "2021-09-02T17:41:50.821Z"
   },
   {
    "duration": 88,
    "start_time": "2021-09-02T17:41:52.653Z"
   },
   {
    "duration": 17,
    "start_time": "2021-09-02T17:41:52.744Z"
   },
   {
    "duration": 9,
    "start_time": "2021-09-02T17:41:52.764Z"
   },
   {
    "duration": 14,
    "start_time": "2021-09-02T17:41:52.775Z"
   },
   {
    "duration": 15,
    "start_time": "2021-09-02T17:41:52.791Z"
   },
   {
    "duration": 14,
    "start_time": "2021-09-02T17:41:52.808Z"
   },
   {
    "duration": 7,
    "start_time": "2021-09-02T17:41:52.826Z"
   },
   {
    "duration": 8,
    "start_time": "2021-09-02T17:41:52.836Z"
   },
   {
    "duration": 37,
    "start_time": "2021-09-02T17:41:52.846Z"
   },
   {
    "duration": 10,
    "start_time": "2021-09-02T17:41:52.885Z"
   },
   {
    "duration": 6,
    "start_time": "2021-09-02T17:41:52.897Z"
   },
   {
    "duration": 18,
    "start_time": "2021-09-02T17:41:52.905Z"
   },
   {
    "duration": 68,
    "start_time": "2021-09-02T17:41:52.925Z"
   },
   {
    "duration": 16,
    "start_time": "2021-09-02T17:41:52.995Z"
   },
   {
    "duration": 15,
    "start_time": "2021-09-02T17:41:53.014Z"
   },
   {
    "duration": 20,
    "start_time": "2021-09-02T17:41:53.031Z"
   },
   {
    "duration": 567,
    "start_time": "2021-09-02T17:41:53.053Z"
   },
   {
    "duration": -112,
    "start_time": "2021-09-02T17:41:53.735Z"
   },
   {
    "duration": -115,
    "start_time": "2021-09-02T17:41:53.740Z"
   },
   {
    "duration": -119,
    "start_time": "2021-09-02T17:41:53.745Z"
   },
   {
    "duration": -122,
    "start_time": "2021-09-02T17:41:53.749Z"
   },
   {
    "duration": -124,
    "start_time": "2021-09-02T17:41:53.753Z"
   },
   {
    "duration": -126,
    "start_time": "2021-09-02T17:41:53.757Z"
   },
   {
    "duration": -127,
    "start_time": "2021-09-02T17:41:53.760Z"
   },
   {
    "duration": -129,
    "start_time": "2021-09-02T17:41:53.764Z"
   },
   {
    "duration": -138,
    "start_time": "2021-09-02T17:41:53.775Z"
   },
   {
    "duration": -140,
    "start_time": "2021-09-02T17:41:53.779Z"
   },
   {
    "duration": -141,
    "start_time": "2021-09-02T17:41:53.783Z"
   },
   {
    "duration": -144,
    "start_time": "2021-09-02T17:41:53.788Z"
   },
   {
    "duration": -146,
    "start_time": "2021-09-02T17:41:53.792Z"
   },
   {
    "duration": -149,
    "start_time": "2021-09-02T17:41:53.798Z"
   },
   {
    "duration": -151,
    "start_time": "2021-09-02T17:41:53.802Z"
   },
   {
    "duration": -154,
    "start_time": "2021-09-02T17:41:53.807Z"
   },
   {
    "duration": -156,
    "start_time": "2021-09-02T17:41:53.811Z"
   },
   {
    "duration": -157,
    "start_time": "2021-09-02T17:41:53.815Z"
   },
   {
    "duration": -159,
    "start_time": "2021-09-02T17:41:53.819Z"
   },
   {
    "duration": -162,
    "start_time": "2021-09-02T17:41:53.824Z"
   },
   {
    "duration": -145,
    "start_time": "2021-09-02T17:41:53.827Z"
   },
   {
    "duration": -155,
    "start_time": "2021-09-02T17:41:53.839Z"
   },
   {
    "duration": -156,
    "start_time": "2021-09-02T17:41:53.842Z"
   },
   {
    "duration": -160,
    "start_time": "2021-09-02T17:41:53.847Z"
   },
   {
    "duration": -162,
    "start_time": "2021-09-02T17:41:53.851Z"
   },
   {
    "duration": -164,
    "start_time": "2021-09-02T17:41:53.855Z"
   },
   {
    "duration": -167,
    "start_time": "2021-09-02T17:41:53.859Z"
   },
   {
    "duration": 1869,
    "start_time": "2021-09-02T17:49:00.328Z"
   },
   {
    "duration": 59,
    "start_time": "2021-09-02T17:49:02.200Z"
   },
   {
    "duration": 14,
    "start_time": "2021-09-02T17:49:02.262Z"
   },
   {
    "duration": 20,
    "start_time": "2021-09-02T17:49:02.279Z"
   },
   {
    "duration": 38,
    "start_time": "2021-09-02T17:49:02.302Z"
   },
   {
    "duration": 22,
    "start_time": "2021-09-02T17:49:02.342Z"
   },
   {
    "duration": 27,
    "start_time": "2021-09-02T17:49:02.367Z"
   },
   {
    "duration": 23,
    "start_time": "2021-09-02T17:49:02.396Z"
   },
   {
    "duration": 26,
    "start_time": "2021-09-02T17:49:02.424Z"
   },
   {
    "duration": 29,
    "start_time": "2021-09-02T17:49:02.453Z"
   },
   {
    "duration": 36,
    "start_time": "2021-09-02T17:49:02.484Z"
   },
   {
    "duration": 17,
    "start_time": "2021-09-02T17:49:02.522Z"
   },
   {
    "duration": 31,
    "start_time": "2021-09-02T17:49:02.541Z"
   },
   {
    "duration": 69,
    "start_time": "2021-09-02T17:49:02.575Z"
   },
   {
    "duration": 19,
    "start_time": "2021-09-02T17:49:02.646Z"
   },
   {
    "duration": 16,
    "start_time": "2021-09-02T17:49:02.667Z"
   },
   {
    "duration": 31,
    "start_time": "2021-09-02T17:49:02.686Z"
   },
   {
    "duration": 23,
    "start_time": "2021-09-02T17:49:02.720Z"
   },
   {
    "duration": 25,
    "start_time": "2021-09-02T17:49:02.746Z"
   },
   {
    "duration": 20,
    "start_time": "2021-09-02T17:49:02.773Z"
   },
   {
    "duration": 576,
    "start_time": "2021-09-02T17:49:02.795Z"
   },
   {
    "duration": 404,
    "start_time": "2021-09-02T17:49:03.381Z"
   },
   {
    "duration": 456,
    "start_time": "2021-09-02T17:49:03.788Z"
   },
   {
    "duration": 495,
    "start_time": "2021-09-02T17:49:04.247Z"
   },
   {
    "duration": 8,
    "start_time": "2021-09-02T17:49:04.744Z"
   },
   {
    "duration": 411,
    "start_time": "2021-09-02T17:49:04.755Z"
   },
   {
    "duration": 484,
    "start_time": "2021-09-02T17:49:05.172Z"
   },
   {
    "duration": 227,
    "start_time": "2021-09-02T17:49:05.659Z"
   },
   {
    "duration": 369,
    "start_time": "2021-09-02T17:49:05.888Z"
   },
   {
    "duration": 394,
    "start_time": "2021-09-02T17:49:06.260Z"
   },
   {
    "duration": 5,
    "start_time": "2021-09-02T17:49:06.657Z"
   },
   {
    "duration": 27,
    "start_time": "2021-09-02T17:49:06.664Z"
   },
   {
    "duration": 312,
    "start_time": "2021-09-02T17:49:06.693Z"
   },
   {
    "duration": 507,
    "start_time": "2021-09-02T17:49:07.007Z"
   },
   {
    "duration": 6,
    "start_time": "2021-09-02T17:49:07.517Z"
   },
   {
    "duration": 493,
    "start_time": "2021-09-02T17:49:07.526Z"
   },
   {
    "duration": 254,
    "start_time": "2021-09-02T17:49:08.022Z"
   },
   {
    "duration": 8,
    "start_time": "2021-09-02T17:49:08.279Z"
   },
   {
    "duration": 234,
    "start_time": "2021-09-02T17:49:08.290Z"
   },
   {
    "duration": 16,
    "start_time": "2021-09-02T17:49:08.526Z"
   },
   {
    "duration": 38,
    "start_time": "2021-09-02T17:49:08.545Z"
   },
   {
    "duration": 12,
    "start_time": "2021-09-02T17:49:08.585Z"
   },
   {
    "duration": 9,
    "start_time": "2021-09-02T17:49:08.600Z"
   },
   {
    "duration": 23,
    "start_time": "2021-09-02T17:49:08.611Z"
   },
   {
    "duration": 18,
    "start_time": "2021-09-02T19:12:48.725Z"
   },
   {
    "duration": 16,
    "start_time": "2021-09-02T19:18:26.423Z"
   },
   {
    "duration": 16,
    "start_time": "2021-09-02T19:18:44.936Z"
   },
   {
    "duration": 6,
    "start_time": "2021-09-02T19:22:42.044Z"
   },
   {
    "duration": 4,
    "start_time": "2021-09-02T19:23:59.108Z"
   },
   {
    "duration": 7,
    "start_time": "2021-09-02T19:24:21.285Z"
   },
   {
    "duration": 5,
    "start_time": "2021-09-02T19:25:02.291Z"
   },
   {
    "duration": 5,
    "start_time": "2021-09-02T19:27:23.129Z"
   },
   {
    "duration": 7,
    "start_time": "2021-09-02T19:27:48.233Z"
   },
   {
    "duration": 13,
    "start_time": "2021-09-02T19:30:07.568Z"
   },
   {
    "duration": 12,
    "start_time": "2021-09-02T19:30:54.608Z"
   },
   {
    "duration": 12,
    "start_time": "2021-09-02T19:44:49.225Z"
   },
   {
    "duration": 8,
    "start_time": "2021-09-02T19:48:16.806Z"
   },
   {
    "duration": 22,
    "start_time": "2021-09-02T19:48:32.974Z"
   },
   {
    "duration": 19,
    "start_time": "2021-09-02T19:55:10.661Z"
   },
   {
    "duration": 31,
    "start_time": "2021-09-02T19:55:21.249Z"
   },
   {
    "duration": 27,
    "start_time": "2021-09-02T19:56:05.066Z"
   },
   {
    "duration": 1896,
    "start_time": "2021-09-02T19:58:45.515Z"
   },
   {
    "duration": 59,
    "start_time": "2021-09-02T19:58:47.414Z"
   },
   {
    "duration": 18,
    "start_time": "2021-09-02T19:58:47.475Z"
   },
   {
    "duration": 44,
    "start_time": "2021-09-02T19:58:47.496Z"
   },
   {
    "duration": 37,
    "start_time": "2021-09-02T19:58:47.542Z"
   },
   {
    "duration": 15,
    "start_time": "2021-09-02T19:58:47.581Z"
   },
   {
    "duration": 16,
    "start_time": "2021-09-02T19:58:47.598Z"
   },
   {
    "duration": 52,
    "start_time": "2021-09-02T19:58:47.618Z"
   },
   {
    "duration": 62,
    "start_time": "2021-09-02T19:58:47.673Z"
   },
   {
    "duration": 28,
    "start_time": "2021-09-02T19:58:47.738Z"
   },
   {
    "duration": 14,
    "start_time": "2021-09-02T19:58:47.769Z"
   },
   {
    "duration": 10,
    "start_time": "2021-09-02T19:58:47.786Z"
   },
   {
    "duration": 21,
    "start_time": "2021-09-02T19:58:47.799Z"
   },
   {
    "duration": 60,
    "start_time": "2021-09-02T19:58:47.822Z"
   },
   {
    "duration": 18,
    "start_time": "2021-09-02T19:58:47.885Z"
   },
   {
    "duration": 14,
    "start_time": "2021-09-02T19:58:47.906Z"
   },
   {
    "duration": 19,
    "start_time": "2021-09-02T19:58:47.922Z"
   },
   {
    "duration": 48,
    "start_time": "2021-09-02T19:58:47.944Z"
   },
   {
    "duration": 31,
    "start_time": "2021-09-02T19:58:47.994Z"
   },
   {
    "duration": 22,
    "start_time": "2021-09-02T19:58:48.028Z"
   },
   {
    "duration": 33,
    "start_time": "2021-09-02T19:58:48.052Z"
   },
   {
    "duration": 26,
    "start_time": "2021-09-02T19:58:48.087Z"
   },
   {
    "duration": 701,
    "start_time": "2021-09-02T19:58:48.118Z"
   },
   {
    "duration": 431,
    "start_time": "2021-09-02T19:58:48.822Z"
   },
   {
    "duration": 394,
    "start_time": "2021-09-02T19:58:49.256Z"
   },
   {
    "duration": 496,
    "start_time": "2021-09-02T19:58:49.652Z"
   },
   {
    "duration": 8,
    "start_time": "2021-09-02T19:58:50.151Z"
   },
   {
    "duration": 409,
    "start_time": "2021-09-02T19:58:50.161Z"
   },
   {
    "duration": 468,
    "start_time": "2021-09-02T19:58:50.572Z"
   },
   {
    "duration": 216,
    "start_time": "2021-09-02T19:58:51.042Z"
   },
   {
    "duration": 294,
    "start_time": "2021-09-02T19:58:51.260Z"
   },
   {
    "duration": 557,
    "start_time": "2021-09-02T19:58:51.557Z"
   },
   {
    "duration": 5,
    "start_time": "2021-09-02T19:58:52.116Z"
   },
   {
    "duration": 14,
    "start_time": "2021-09-02T19:58:52.123Z"
   },
   {
    "duration": 335,
    "start_time": "2021-09-02T19:58:52.140Z"
   },
   {
    "duration": 435,
    "start_time": "2021-09-02T19:58:52.482Z"
   },
   {
    "duration": 5,
    "start_time": "2021-09-02T19:58:52.919Z"
   },
   {
    "duration": 560,
    "start_time": "2021-09-02T19:58:52.927Z"
   },
   {
    "duration": 322,
    "start_time": "2021-09-02T19:58:53.490Z"
   },
   {
    "duration": 7,
    "start_time": "2021-09-02T19:58:53.815Z"
   },
   {
    "duration": 283,
    "start_time": "2021-09-02T19:58:53.825Z"
   },
   {
    "duration": 13,
    "start_time": "2021-09-02T19:58:54.111Z"
   },
   {
    "duration": 13,
    "start_time": "2021-09-02T19:58:54.127Z"
   },
   {
    "duration": 11,
    "start_time": "2021-09-02T19:58:54.142Z"
   },
   {
    "duration": 10,
    "start_time": "2021-09-02T19:58:54.183Z"
   },
   {
    "duration": 19,
    "start_time": "2021-09-02T19:58:54.195Z"
   },
   {
    "duration": 127,
    "start_time": "2021-09-02T20:15:28.911Z"
   },
   {
    "duration": 9,
    "start_time": "2021-09-02T20:55:09.997Z"
   },
   {
    "duration": 10,
    "start_time": "2021-09-02T20:58:01.991Z"
   },
   {
    "duration": 1886,
    "start_time": "2021-09-02T20:58:19.851Z"
   },
   {
    "duration": 58,
    "start_time": "2021-09-02T20:58:21.740Z"
   },
   {
    "duration": 15,
    "start_time": "2021-09-02T20:58:21.800Z"
   },
   {
    "duration": 11,
    "start_time": "2021-09-02T20:58:21.817Z"
   },
   {
    "duration": 14,
    "start_time": "2021-09-02T20:58:21.830Z"
   },
   {
    "duration": 10,
    "start_time": "2021-09-02T20:58:21.847Z"
   },
   {
    "duration": 8,
    "start_time": "2021-09-02T20:58:21.883Z"
   },
   {
    "duration": 7,
    "start_time": "2021-09-02T20:58:21.895Z"
   },
   {
    "duration": 11,
    "start_time": "2021-09-02T20:58:21.905Z"
   },
   {
    "duration": 14,
    "start_time": "2021-09-02T20:58:21.918Z"
   },
   {
    "duration": 12,
    "start_time": "2021-09-02T20:58:21.934Z"
   },
   {
    "duration": 34,
    "start_time": "2021-09-02T20:58:21.948Z"
   },
   {
    "duration": 13,
    "start_time": "2021-09-02T20:58:21.985Z"
   },
   {
    "duration": 42,
    "start_time": "2021-09-02T20:58:22.000Z"
   },
   {
    "duration": 46,
    "start_time": "2021-09-02T20:58:22.044Z"
   },
   {
    "duration": 13,
    "start_time": "2021-09-02T20:58:22.093Z"
   },
   {
    "duration": 14,
    "start_time": "2021-09-02T20:58:22.108Z"
   },
   {
    "duration": 21,
    "start_time": "2021-09-02T20:58:22.125Z"
   },
   {
    "duration": 58,
    "start_time": "2021-09-02T20:58:22.148Z"
   },
   {
    "duration": 16,
    "start_time": "2021-09-02T20:58:22.209Z"
   },
   {
    "duration": 14,
    "start_time": "2021-09-02T20:58:22.228Z"
   },
   {
    "duration": 46,
    "start_time": "2021-09-02T20:58:22.244Z"
   },
   {
    "duration": 576,
    "start_time": "2021-09-02T20:58:22.294Z"
   },
   {
    "duration": 404,
    "start_time": "2021-09-02T20:58:22.881Z"
   },
   {
    "duration": 431,
    "start_time": "2021-09-02T20:58:23.287Z"
   },
   {
    "duration": 523,
    "start_time": "2021-09-02T20:58:23.720Z"
   },
   {
    "duration": 8,
    "start_time": "2021-09-02T20:58:24.245Z"
   },
   {
    "duration": 436,
    "start_time": "2021-09-02T20:58:24.255Z"
   },
   {
    "duration": 474,
    "start_time": "2021-09-02T20:58:24.694Z"
   },
   {
    "duration": 209,
    "start_time": "2021-09-02T20:58:25.170Z"
   },
   {
    "duration": 285,
    "start_time": "2021-09-02T20:58:25.383Z"
   },
   {
    "duration": 478,
    "start_time": "2021-09-02T20:58:25.670Z"
   },
   {
    "duration": 6,
    "start_time": "2021-09-02T20:58:26.151Z"
   },
   {
    "duration": 29,
    "start_time": "2021-09-02T20:58:26.159Z"
   },
   {
    "duration": 301,
    "start_time": "2021-09-02T20:58:26.191Z"
   },
   {
    "duration": 402,
    "start_time": "2021-09-02T20:58:26.494Z"
   },
   {
    "duration": 6,
    "start_time": "2021-09-02T20:58:26.899Z"
   },
   {
    "duration": 474,
    "start_time": "2021-09-02T20:58:26.908Z"
   },
   {
    "duration": 218,
    "start_time": "2021-09-02T20:58:27.384Z"
   },
   {
    "duration": 8,
    "start_time": "2021-09-02T20:58:27.604Z"
   },
   {
    "duration": 213,
    "start_time": "2021-09-02T20:58:27.614Z"
   },
   {
    "duration": 7,
    "start_time": "2021-09-02T20:58:27.830Z"
   },
   {
    "duration": 14,
    "start_time": "2021-09-02T20:58:27.840Z"
   },
   {
    "duration": 10,
    "start_time": "2021-09-02T20:58:27.882Z"
   },
   {
    "duration": 22,
    "start_time": "2021-09-02T20:58:27.895Z"
   },
   {
    "duration": 20,
    "start_time": "2021-09-02T20:58:27.920Z"
   },
   {
    "duration": 12,
    "start_time": "2021-09-02T20:58:27.943Z"
   },
   {
    "duration": 19,
    "start_time": "2021-09-02T20:58:27.984Z"
   },
   {
    "duration": 89,
    "start_time": "2021-09-03T08:28:25.346Z"
   },
   {
    "duration": 331,
    "start_time": "2021-09-03T08:28:49.507Z"
   },
   {
    "duration": 1744,
    "start_time": "2021-09-03T08:29:04.627Z"
   },
   {
    "duration": 74,
    "start_time": "2021-09-03T08:29:06.373Z"
   },
   {
    "duration": 11,
    "start_time": "2021-09-03T08:29:06.449Z"
   },
   {
    "duration": 8,
    "start_time": "2021-09-03T08:29:06.462Z"
   },
   {
    "duration": 33,
    "start_time": "2021-09-03T08:29:06.472Z"
   },
   {
    "duration": 9,
    "start_time": "2021-09-03T08:29:06.508Z"
   },
   {
    "duration": 9,
    "start_time": "2021-09-03T08:29:06.519Z"
   },
   {
    "duration": 7,
    "start_time": "2021-09-03T08:29:06.530Z"
   },
   {
    "duration": 10,
    "start_time": "2021-09-03T08:29:06.540Z"
   },
   {
    "duration": 13,
    "start_time": "2021-09-03T08:29:06.552Z"
   },
   {
    "duration": 11,
    "start_time": "2021-09-03T08:29:06.567Z"
   },
   {
    "duration": 21,
    "start_time": "2021-09-03T08:29:06.581Z"
   },
   {
    "duration": 18,
    "start_time": "2021-09-03T08:29:06.605Z"
   },
   {
    "duration": 34,
    "start_time": "2021-09-03T08:29:06.625Z"
   },
   {
    "duration": 31,
    "start_time": "2021-09-03T08:29:06.661Z"
   },
   {
    "duration": 17,
    "start_time": "2021-09-03T08:29:06.695Z"
   },
   {
    "duration": 10,
    "start_time": "2021-09-03T08:29:06.715Z"
   },
   {
    "duration": 16,
    "start_time": "2021-09-03T08:29:06.727Z"
   },
   {
    "duration": 37,
    "start_time": "2021-09-03T08:29:06.778Z"
   },
   {
    "duration": 25,
    "start_time": "2021-09-03T08:29:06.817Z"
   },
   {
    "duration": 15,
    "start_time": "2021-09-03T08:29:06.844Z"
   },
   {
    "duration": 25,
    "start_time": "2021-09-03T08:29:06.861Z"
   },
   {
    "duration": 460,
    "start_time": "2021-09-03T08:29:06.891Z"
   },
   {
    "duration": 435,
    "start_time": "2021-09-03T08:29:07.354Z"
   },
   {
    "duration": 392,
    "start_time": "2021-09-03T08:29:07.792Z"
   },
   {
    "duration": 405,
    "start_time": "2021-09-03T08:29:08.187Z"
   },
   {
    "duration": 25,
    "start_time": "2021-09-03T08:29:08.595Z"
   },
   {
    "duration": 329,
    "start_time": "2021-09-03T08:29:08.623Z"
   },
   {
    "duration": 417,
    "start_time": "2021-09-03T08:29:08.954Z"
   },
   {
    "duration": 151,
    "start_time": "2021-09-03T08:29:09.381Z"
   },
   {
    "duration": 235,
    "start_time": "2021-09-03T08:29:09.534Z"
   },
   {
    "duration": 452,
    "start_time": "2021-09-03T08:29:09.772Z"
   },
   {
    "duration": 4,
    "start_time": "2021-09-03T08:29:10.226Z"
   },
   {
    "duration": 9,
    "start_time": "2021-09-03T08:29:10.232Z"
   },
   {
    "duration": 247,
    "start_time": "2021-09-03T08:29:10.243Z"
   },
   {
    "duration": 345,
    "start_time": "2021-09-03T08:29:10.493Z"
   },
   {
    "duration": 4,
    "start_time": "2021-09-03T08:29:10.840Z"
   },
   {
    "duration": 341,
    "start_time": "2021-09-03T08:29:10.846Z"
   },
   {
    "duration": 145,
    "start_time": "2021-09-03T08:29:11.189Z"
   },
   {
    "duration": 6,
    "start_time": "2021-09-03T08:29:11.336Z"
   },
   {
    "duration": 160,
    "start_time": "2021-09-03T08:29:11.343Z"
   },
   {
    "duration": 6,
    "start_time": "2021-09-03T08:29:11.506Z"
   },
   {
    "duration": 445,
    "start_time": "2021-09-03T08:29:11.514Z"
   },
   {
    "duration": 1798,
    "start_time": "2021-09-03T08:29:10.163Z"
   },
   {
    "duration": 1794,
    "start_time": "2021-09-03T08:29:10.168Z"
   },
   {
    "duration": 1791,
    "start_time": "2021-09-03T08:29:10.172Z"
   },
   {
    "duration": 1788,
    "start_time": "2021-09-03T08:29:10.176Z"
   },
   {
    "duration": 1785,
    "start_time": "2021-09-03T08:29:10.180Z"
   },
   {
    "duration": 1781,
    "start_time": "2021-09-03T08:29:10.185Z"
   },
   {
    "duration": 361,
    "start_time": "2021-09-03T08:50:53.496Z"
   },
   {
    "duration": 7,
    "start_time": "2021-09-03T08:51:39.154Z"
   },
   {
    "duration": 7,
    "start_time": "2021-09-03T09:06:46.256Z"
   },
   {
    "duration": 13,
    "start_time": "2021-09-03T09:10:42.779Z"
   },
   {
    "duration": 9,
    "start_time": "2021-09-03T09:12:38.506Z"
   },
   {
    "duration": 1727,
    "start_time": "2021-09-03T09:17:37.680Z"
   },
   {
    "duration": 71,
    "start_time": "2021-09-03T09:17:39.409Z"
   },
   {
    "duration": 16,
    "start_time": "2021-09-03T09:17:39.483Z"
   },
   {
    "duration": 9,
    "start_time": "2021-09-03T09:17:39.501Z"
   },
   {
    "duration": 12,
    "start_time": "2021-09-03T09:17:39.513Z"
   },
   {
    "duration": 10,
    "start_time": "2021-09-03T09:17:39.527Z"
   },
   {
    "duration": 8,
    "start_time": "2021-09-03T09:17:39.539Z"
   },
   {
    "duration": 7,
    "start_time": "2021-09-03T09:17:39.578Z"
   },
   {
    "duration": 6,
    "start_time": "2021-09-03T09:17:39.588Z"
   },
   {
    "duration": 9,
    "start_time": "2021-09-03T09:17:39.596Z"
   },
   {
    "duration": 11,
    "start_time": "2021-09-03T09:17:39.607Z"
   },
   {
    "duration": 8,
    "start_time": "2021-09-03T09:17:39.621Z"
   },
   {
    "duration": 49,
    "start_time": "2021-09-03T09:17:39.631Z"
   },
   {
    "duration": 36,
    "start_time": "2021-09-03T09:17:39.682Z"
   },
   {
    "duration": 14,
    "start_time": "2021-09-03T09:17:39.720Z"
   },
   {
    "duration": 45,
    "start_time": "2021-09-03T09:17:39.736Z"
   },
   {
    "duration": 8,
    "start_time": "2021-09-03T09:17:39.783Z"
   },
   {
    "duration": 21,
    "start_time": "2021-09-03T09:17:39.793Z"
   },
   {
    "duration": 27,
    "start_time": "2021-09-03T09:17:39.816Z"
   },
   {
    "duration": 46,
    "start_time": "2021-09-03T09:17:39.845Z"
   },
   {
    "duration": 11,
    "start_time": "2021-09-03T09:17:39.893Z"
   },
   {
    "duration": 15,
    "start_time": "2021-09-03T09:17:39.906Z"
   },
   {
    "duration": 484,
    "start_time": "2021-09-03T09:17:39.925Z"
   },
   {
    "duration": 341,
    "start_time": "2021-09-03T09:17:40.412Z"
   },
   {
    "duration": 380,
    "start_time": "2021-09-03T09:17:40.756Z"
   },
   {
    "duration": 462,
    "start_time": "2021-09-03T09:17:41.138Z"
   },
   {
    "duration": 7,
    "start_time": "2021-09-03T09:17:41.602Z"
   },
   {
    "duration": 423,
    "start_time": "2021-09-03T09:17:41.612Z"
   },
   {
    "duration": 459,
    "start_time": "2021-09-03T09:17:42.037Z"
   },
   {
    "duration": 149,
    "start_time": "2021-09-03T09:17:42.499Z"
   },
   {
    "duration": 320,
    "start_time": "2021-09-03T09:17:42.650Z"
   },
   {
    "duration": 347,
    "start_time": "2021-09-03T09:17:42.976Z"
   },
   {
    "duration": 4,
    "start_time": "2021-09-03T09:17:43.325Z"
   },
   {
    "duration": 14,
    "start_time": "2021-09-03T09:17:43.331Z"
   },
   {
    "duration": 266,
    "start_time": "2021-09-03T09:17:43.347Z"
   },
   {
    "duration": 362,
    "start_time": "2021-09-03T09:17:43.615Z"
   },
   {
    "duration": 5,
    "start_time": "2021-09-03T09:17:43.980Z"
   },
   {
    "duration": 380,
    "start_time": "2021-09-03T09:17:43.987Z"
   },
   {
    "duration": 146,
    "start_time": "2021-09-03T09:17:44.377Z"
   },
   {
    "duration": 8,
    "start_time": "2021-09-03T09:17:44.525Z"
   },
   {
    "duration": 132,
    "start_time": "2021-09-03T09:17:44.534Z"
   },
   {
    "duration": 16,
    "start_time": "2021-09-03T09:17:44.668Z"
   },
   {
    "duration": 12,
    "start_time": "2021-09-03T09:17:44.686Z"
   },
   {
    "duration": 10,
    "start_time": "2021-09-03T09:17:44.700Z"
   },
   {
    "duration": 14,
    "start_time": "2021-09-03T09:17:44.713Z"
   },
   {
    "duration": 53,
    "start_time": "2021-09-03T09:17:44.729Z"
   },
   {
    "duration": 9,
    "start_time": "2021-09-03T09:17:44.785Z"
   },
   {
    "duration": 14,
    "start_time": "2021-09-03T09:17:44.796Z"
   },
   {
    "duration": 12,
    "start_time": "2021-09-03T09:24:19.256Z"
   },
   {
    "duration": 11,
    "start_time": "2021-09-03T09:35:34.361Z"
   },
   {
    "duration": 11,
    "start_time": "2021-09-03T09:39:50.049Z"
   },
   {
    "duration": 5,
    "start_time": "2021-09-03T10:26:05.324Z"
   },
   {
    "duration": 18,
    "start_time": "2021-09-03T10:27:31.046Z"
   },
   {
    "duration": 30,
    "start_time": "2021-09-03T10:28:20.452Z"
   },
   {
    "duration": 28,
    "start_time": "2021-09-03T10:44:38.121Z"
   },
   {
    "duration": 11,
    "start_time": "2021-09-03T10:46:17.249Z"
   },
   {
    "duration": 13,
    "start_time": "2021-09-03T10:52:13.429Z"
   },
   {
    "duration": 10,
    "start_time": "2021-09-03T10:54:12.205Z"
   },
   {
    "duration": 27,
    "start_time": "2021-09-03T11:04:58.057Z"
   },
   {
    "duration": 1584,
    "start_time": "2021-09-03T11:22:43.223Z"
   },
   {
    "duration": 116,
    "start_time": "2021-09-03T11:22:44.808Z"
   },
   {
    "duration": 25,
    "start_time": "2021-09-03T11:22:44.926Z"
   },
   {
    "duration": 33,
    "start_time": "2021-09-03T11:22:44.953Z"
   },
   {
    "duration": 15,
    "start_time": "2021-09-03T11:22:44.988Z"
   },
   {
    "duration": 32,
    "start_time": "2021-09-03T11:22:45.005Z"
   },
   {
    "duration": 13,
    "start_time": "2021-09-03T11:22:45.039Z"
   },
   {
    "duration": 25,
    "start_time": "2021-09-03T11:22:45.056Z"
   },
   {
    "duration": 26,
    "start_time": "2021-09-03T11:22:45.084Z"
   },
   {
    "duration": 36,
    "start_time": "2021-09-03T11:22:45.112Z"
   },
   {
    "duration": 21,
    "start_time": "2021-09-03T11:22:45.150Z"
   },
   {
    "duration": 7,
    "start_time": "2021-09-03T11:22:45.173Z"
   },
   {
    "duration": 14,
    "start_time": "2021-09-03T11:22:45.182Z"
   },
   {
    "duration": 10,
    "start_time": "2021-09-03T11:22:45.198Z"
   },
   {
    "duration": 12,
    "start_time": "2021-09-03T11:22:45.210Z"
   },
   {
    "duration": 30,
    "start_time": "2021-09-03T11:22:45.224Z"
   },
   {
    "duration": 13,
    "start_time": "2021-09-03T11:22:45.277Z"
   },
   {
    "duration": 13,
    "start_time": "2021-09-03T11:22:45.293Z"
   },
   {
    "duration": 15,
    "start_time": "2021-09-03T11:22:45.308Z"
   },
   {
    "duration": 422,
    "start_time": "2021-09-03T11:22:45.325Z"
   },
   {
    "duration": 303,
    "start_time": "2021-09-03T11:22:45.749Z"
   },
   {
    "duration": 284,
    "start_time": "2021-09-03T11:22:46.054Z"
   },
   {
    "duration": 398,
    "start_time": "2021-09-03T11:22:46.342Z"
   },
   {
    "duration": 5,
    "start_time": "2021-09-03T11:22:46.743Z"
   },
   {
    "duration": 302,
    "start_time": "2021-09-03T11:22:46.750Z"
   },
   {
    "duration": 418,
    "start_time": "2021-09-03T11:22:47.054Z"
   },
   {
    "duration": 170,
    "start_time": "2021-09-03T11:22:47.474Z"
   },
   {
    "duration": 225,
    "start_time": "2021-09-03T11:22:47.645Z"
   },
   {
    "duration": 439,
    "start_time": "2021-09-03T11:22:47.876Z"
   },
   {
    "duration": 4,
    "start_time": "2021-09-03T11:22:48.317Z"
   },
   {
    "duration": 18,
    "start_time": "2021-09-03T11:22:48.323Z"
   },
   {
    "duration": 233,
    "start_time": "2021-09-03T11:22:48.343Z"
   },
   {
    "duration": 360,
    "start_time": "2021-09-03T11:22:48.579Z"
   },
   {
    "duration": 4,
    "start_time": "2021-09-03T11:22:48.941Z"
   },
   {
    "duration": 350,
    "start_time": "2021-09-03T11:22:48.947Z"
   },
   {
    "duration": 144,
    "start_time": "2021-09-03T11:22:49.299Z"
   },
   {
    "duration": 8,
    "start_time": "2021-09-03T11:22:49.445Z"
   },
   {
    "duration": 158,
    "start_time": "2021-09-03T11:22:49.455Z"
   },
   {
    "duration": 8,
    "start_time": "2021-09-03T11:22:49.614Z"
   },
   {
    "duration": 11,
    "start_time": "2021-09-03T11:22:49.624Z"
   },
   {
    "duration": 12,
    "start_time": "2021-09-03T11:22:49.637Z"
   },
   {
    "duration": 26,
    "start_time": "2021-09-03T11:22:49.651Z"
   },
   {
    "duration": 16,
    "start_time": "2021-09-03T11:22:49.680Z"
   },
   {
    "duration": 14,
    "start_time": "2021-09-03T11:22:49.698Z"
   },
   {
    "duration": 9,
    "start_time": "2021-09-03T12:20:12.038Z"
   },
   {
    "duration": 8,
    "start_time": "2021-09-03T12:20:28.747Z"
   },
   {
    "duration": 22,
    "start_time": "2021-09-03T12:28:17.324Z"
   },
   {
    "duration": 1855,
    "start_time": "2021-09-03T12:33:05.679Z"
   },
   {
    "duration": 95,
    "start_time": "2021-09-03T12:33:07.535Z"
   },
   {
    "duration": 12,
    "start_time": "2021-09-03T12:33:07.633Z"
   },
   {
    "duration": 10,
    "start_time": "2021-09-03T12:33:07.647Z"
   },
   {
    "duration": 13,
    "start_time": "2021-09-03T12:33:07.659Z"
   },
   {
    "duration": 13,
    "start_time": "2021-09-03T12:33:07.674Z"
   },
   {
    "duration": 12,
    "start_time": "2021-09-03T12:33:07.689Z"
   },
   {
    "duration": 12,
    "start_time": "2021-09-03T12:33:07.704Z"
   },
   {
    "duration": 6,
    "start_time": "2021-09-03T12:33:07.718Z"
   },
   {
    "duration": 10,
    "start_time": "2021-09-03T12:33:07.726Z"
   },
   {
    "duration": 9,
    "start_time": "2021-09-03T12:33:07.738Z"
   },
   {
    "duration": 33,
    "start_time": "2021-09-03T12:33:07.748Z"
   },
   {
    "duration": 21,
    "start_time": "2021-09-03T12:33:07.783Z"
   },
   {
    "duration": 10,
    "start_time": "2021-09-03T12:33:07.806Z"
   },
   {
    "duration": 12,
    "start_time": "2021-09-03T12:33:07.818Z"
   },
   {
    "duration": 72,
    "start_time": "2021-09-03T12:33:07.832Z"
   },
   {
    "duration": 15,
    "start_time": "2021-09-03T12:33:07.906Z"
   },
   {
    "duration": 12,
    "start_time": "2021-09-03T12:33:07.923Z"
   },
   {
    "duration": 17,
    "start_time": "2021-09-03T12:33:07.937Z"
   },
   {
    "duration": 573,
    "start_time": "2021-09-03T12:33:07.956Z"
   },
   {
    "duration": 332,
    "start_time": "2021-09-03T12:33:08.531Z"
   },
   {
    "duration": 300,
    "start_time": "2021-09-03T12:33:08.864Z"
   },
   {
    "duration": 410,
    "start_time": "2021-09-03T12:33:09.168Z"
   },
   {
    "duration": 9,
    "start_time": "2021-09-03T12:33:09.581Z"
   },
   {
    "duration": 313,
    "start_time": "2021-09-03T12:33:09.592Z"
   },
   {
    "duration": 364,
    "start_time": "2021-09-03T12:33:09.907Z"
   },
   {
    "duration": 140,
    "start_time": "2021-09-03T12:33:10.276Z"
   },
   {
    "duration": 223,
    "start_time": "2021-09-03T12:33:10.418Z"
   },
   {
    "duration": 422,
    "start_time": "2021-09-03T12:33:10.642Z"
   },
   {
    "duration": 4,
    "start_time": "2021-09-03T12:33:11.066Z"
   },
   {
    "duration": 19,
    "start_time": "2021-09-03T12:33:11.077Z"
   },
   {
    "duration": 248,
    "start_time": "2021-09-03T12:33:11.099Z"
   },
   {
    "duration": 365,
    "start_time": "2021-09-03T12:33:11.349Z"
   },
   {
    "duration": 4,
    "start_time": "2021-09-03T12:33:11.716Z"
   },
   {
    "duration": 326,
    "start_time": "2021-09-03T12:33:11.722Z"
   },
   {
    "duration": 137,
    "start_time": "2021-09-03T12:33:12.050Z"
   },
   {
    "duration": 9,
    "start_time": "2021-09-03T12:33:12.189Z"
   },
   {
    "duration": 175,
    "start_time": "2021-09-03T12:33:12.201Z"
   },
   {
    "duration": 10,
    "start_time": "2021-09-03T12:33:12.379Z"
   },
   {
    "duration": 15,
    "start_time": "2021-09-03T12:33:12.392Z"
   },
   {
    "duration": 11,
    "start_time": "2021-09-03T12:33:12.410Z"
   },
   {
    "duration": 9,
    "start_time": "2021-09-03T12:33:12.423Z"
   },
   {
    "duration": 7,
    "start_time": "2021-09-03T12:33:12.434Z"
   },
   {
    "duration": 43,
    "start_time": "2021-09-03T12:33:12.443Z"
   },
   {
    "duration": 3,
    "start_time": "2021-09-03T12:33:12.489Z"
   },
   {
    "duration": 20,
    "start_time": "2021-09-03T12:33:12.495Z"
   },
   {
    "duration": 12,
    "start_time": "2021-09-03T12:34:14.590Z"
   },
   {
    "duration": 9,
    "start_time": "2021-09-03T12:34:33.681Z"
   },
   {
    "duration": 1704,
    "start_time": "2021-09-03T14:09:40.851Z"
   },
   {
    "duration": 106,
    "start_time": "2021-09-03T14:09:42.557Z"
   },
   {
    "duration": 15,
    "start_time": "2021-09-03T14:09:42.665Z"
   },
   {
    "duration": 9,
    "start_time": "2021-09-03T14:09:42.683Z"
   },
   {
    "duration": 12,
    "start_time": "2021-09-03T14:09:42.694Z"
   },
   {
    "duration": 9,
    "start_time": "2021-09-03T14:09:42.708Z"
   },
   {
    "duration": 9,
    "start_time": "2021-09-03T14:09:42.719Z"
   },
   {
    "duration": 9,
    "start_time": "2021-09-03T14:09:42.731Z"
   },
   {
    "duration": 36,
    "start_time": "2021-09-03T14:09:42.742Z"
   },
   {
    "duration": 12,
    "start_time": "2021-09-03T14:09:42.780Z"
   },
   {
    "duration": 10,
    "start_time": "2021-09-03T14:09:42.795Z"
   },
   {
    "duration": 6,
    "start_time": "2021-09-03T14:09:42.808Z"
   },
   {
    "duration": 13,
    "start_time": "2021-09-03T14:09:42.816Z"
   },
   {
    "duration": 49,
    "start_time": "2021-09-03T14:09:42.831Z"
   },
   {
    "duration": 18,
    "start_time": "2021-09-03T14:09:42.882Z"
   },
   {
    "duration": 31,
    "start_time": "2021-09-03T14:09:42.902Z"
   },
   {
    "duration": 44,
    "start_time": "2021-09-03T14:09:42.935Z"
   },
   {
    "duration": 19,
    "start_time": "2021-09-03T14:09:42.982Z"
   },
   {
    "duration": 13,
    "start_time": "2021-09-03T14:09:43.003Z"
   },
   {
    "duration": 465,
    "start_time": "2021-09-03T14:09:43.018Z"
   },
   {
    "duration": 324,
    "start_time": "2021-09-03T14:09:43.485Z"
   },
   {
    "duration": 312,
    "start_time": "2021-09-03T14:09:43.811Z"
   },
   {
    "duration": 432,
    "start_time": "2021-09-03T14:09:44.128Z"
   },
   {
    "duration": 6,
    "start_time": "2021-09-03T14:09:44.562Z"
   },
   {
    "duration": 322,
    "start_time": "2021-09-03T14:09:44.576Z"
   },
   {
    "duration": 371,
    "start_time": "2021-09-03T14:09:44.900Z"
   },
   {
    "duration": 146,
    "start_time": "2021-09-03T14:09:45.273Z"
   },
   {
    "duration": 228,
    "start_time": "2021-09-03T14:09:45.421Z"
   },
   {
    "duration": 459,
    "start_time": "2021-09-03T14:09:45.651Z"
   },
   {
    "duration": 5,
    "start_time": "2021-09-03T14:09:46.112Z"
   },
   {
    "duration": 10,
    "start_time": "2021-09-03T14:09:46.119Z"
   },
   {
    "duration": 248,
    "start_time": "2021-09-03T14:09:46.131Z"
   },
   {
    "duration": 342,
    "start_time": "2021-09-03T14:09:46.382Z"
   },
   {
    "duration": 4,
    "start_time": "2021-09-03T14:09:46.727Z"
   },
   {
    "duration": 372,
    "start_time": "2021-09-03T14:09:46.733Z"
   },
   {
    "duration": 135,
    "start_time": "2021-09-03T14:09:47.107Z"
   },
   {
    "duration": 6,
    "start_time": "2021-09-03T14:09:47.245Z"
   },
   {
    "duration": 176,
    "start_time": "2021-09-03T14:09:47.253Z"
   },
   {
    "duration": 10,
    "start_time": "2021-09-03T14:09:47.431Z"
   },
   {
    "duration": 13,
    "start_time": "2021-09-03T14:09:47.443Z"
   },
   {
    "duration": 19,
    "start_time": "2021-09-03T14:09:47.478Z"
   },
   {
    "duration": 9,
    "start_time": "2021-09-03T14:09:47.500Z"
   },
   {
    "duration": 5,
    "start_time": "2021-09-03T14:09:47.511Z"
   },
   {
    "duration": 14,
    "start_time": "2021-09-03T14:09:47.518Z"
   },
   {
    "duration": 3,
    "start_time": "2021-09-03T14:09:47.534Z"
   },
   {
    "duration": 48,
    "start_time": "2021-09-03T14:09:47.539Z"
   }
  ],
  "kernelspec": {
   "display_name": "Python 3",
   "language": "python",
   "name": "python3"
  },
  "language_info": {
   "codemirror_mode": {
    "name": "ipython",
    "version": 3
   },
   "file_extension": ".py",
   "mimetype": "text/x-python",
   "name": "python",
   "nbconvert_exporter": "python",
   "pygments_lexer": "ipython3",
   "version": "3.8.8"
  },
  "toc": {
   "base_numbering": 1,
   "nav_menu": {},
   "number_sections": true,
   "sideBar": true,
   "skip_h1_title": true,
   "title_cell": "Table of Contents",
   "title_sidebar": "Contents",
   "toc_cell": false,
   "toc_position": {},
   "toc_section_display": true,
   "toc_window_display": false
  }
 },
 "nbformat": 4,
 "nbformat_minor": 2
}
